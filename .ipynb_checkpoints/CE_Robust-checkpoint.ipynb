{
 "cells": [
  {
   "cell_type": "code",
   "execution_count": 1,
   "metadata": {},
   "outputs": [
    {
     "name": "stderr",
     "output_type": "stream",
     "text": [
      "WARNING: Method definition midpoints(Base.Range{T} where T) in module Base at deprecated.jl:56 overwritten in module StatsBase at /home/cqgz21/.julia/v0.6/StatsBase/src/hist.jl:535.\n",
      "WARNING: Method definition midpoints(AbstractArray{T, 1} where T) in module Base at deprecated.jl:56 overwritten in module StatsBase at /home/cqgz21/.julia/v0.6/StatsBase/src/hist.jl:533.\n",
      "WARNING: Method definition midpoints(Base.Range{T} where T) in module Base at deprecated.jl:56 overwritten in module StatsBase at /home/cqgz21/.julia/v0.6/StatsBase/src/hist.jl:535.\n",
      "WARNING: Method definition midpoints(AbstractArray{T, 1} where T) in module Base at deprecated.jl:56 overwritten in module StatsBase at /home/cqgz21/.julia/v0.6/StatsBase/src/hist.jl:533.\n",
      "WARNING: Method definition midpoints(Base.Range{T} where T) in module Base at deprecated.jl:56 overwritten in module StatsBase at /home/cqgz21/.julia/v0.6/StatsBase/src/hist.jl:535.\n",
      "WARNING: Method definition midpoints(AbstractArray{T, 1} where T) in module Base at deprecated.jl:56 overwritten in module StatsBase at /home/cqgz21/.julia/v0.6/StatsBase/src/hist.jl:533.\n",
      "WARNING: Method definition midpoints(Base.Range{T} where T) in module Base at deprecated.jl:56 overwritten in module StatsBase at /home/cqgz21/.julia/v0.6/StatsBase/src/hist.jl:535.\n",
      "WARNING: Method definition midpoints(AbstractArray{T, 1} where T) in module Base at deprecated.jl:56 overwritten in module StatsBase at /home/cqgz21/.julia/v0.6/StatsBase/src/hist.jl:533.\n",
      "WARNING: Method definition midpoints(Base.Range{T} where TWARNING: Method definition midpoints(Base.Range{T} where T) in module Base at deprecated.jl:56 overwritten in module StatsBase at /home/cqgz21/.julia/v0.6/StatsBase/src/hist.jl:535.\n",
      "WARNING: Method definition ) in module Base at deprecated.jl:56 overwritten in module StatsBase at /home/cqgz21/.julia/v0.6/StatsBase/src/hist.jl:535.\n",
      "WARNING: Method definition midpoints(AbstractArray{T, 1} where T) in module Base at deprecated.jl:56 overwritten in module StatsBase at /home/cqgz21/.julia/v0.6/StatsBase/src/hist.jl:533.\n",
      "midpoints(AbstractArray{T, 1} where T) in module Base at deprecated.jl:56 overwritten in module StatsBase at /home/cqgz21/.julia/v0.6/StatsBase/src/hist.jl:533.\n",
      "WARNING: Method definition midpoints(Base.Range{T} where T) in module Base at deprecated.jl:56 overwritten in module StatsBase at /home/cqgz21/.julia/v0.6/StatsBase/src/hist.jl:535.\n",
      "WARNING: Method definition midpoints(AbstractArray{T, 1} where T) in module Base at deprecated.jl:56 overwritten in module StatsBase at /home/cqgz21/.julia/v0.6/StatsBase/src/hist.jl:533.\n",
      "WARNING: Method definition midpoints(Base.Range{T} where T) in module Base at deprecated.jl:56 overwritten in module StatsBase at /home/cqgz21/.julia/v0.6/StatsBase/src/hist.jl:535.\n",
      "WARNING: Method definition midpoints(AbstractArray{T, 1} where T) in module Base at deprecated.jl:56 overwritten in module StatsBase at /home/cqgz21/.julia/v0.6/StatsBase/src/hist.jl:533.\n",
      "WARNING: Method definition midpoints(Base.Range{T} where T) in module Base at deprecated.jl:56 overwritten in module StatsBase at /home/cqgz21/.julia/v0.6/StatsBase/src/hist.jl:535.\n",
      "WARNING: Method definition midpoints(AbstractArray{T, 1} where T) in module Base at deprecated.jl:56 overwritten in module StatsBase at /home/cqgz21/.julia/v0.6/StatsBase/src/hist.jl:533.\n",
      "WARNING: Method definition midpoints(Base.Range{T} where T) in module Base at deprecated.jl:56 overwritten in module StatsBase at /home/cqgz21/.julia/v0.6/StatsBase/src/hist.jl:535.\n",
      "WARNING: Method definition midpoints(AbstractArray{T, 1} where T) in module Base at deprecated.jl:56 overwritten in module StatsBase at /home/cqgz21/.julia/v0.6/StatsBase/src/hist.jl:533.\n",
      "WARNING: Method definition midpoints(Base.Range{T} where T) in module Base at deprecated.jl:56 overwritten in module StatsBase at /home/cqgz21/.julia/v0.6/StatsBase/src/hist.jl:535.\n",
      "WARNING: Method definition midpoints(AbstractArray{T, 1} where T) in module Base at deprecated.jl:56 overwritten in module StatsBase at /home/cqgz21/.julia/v0.6/StatsBase/src/hist.jl:533.\n",
      "WARNING: Method definition midpoints(Base.Range{T} where T) in module Base at deprecated.jl:56 overwritten in module StatsBase at /home/cqgz21/.julia/v0.6/StatsBase/src/hist.jl:535.\n",
      "WARNING: Method definition midpoints(AbstractArray{T, 1} where T) in module Base at deprecated.jl:56 overwritten in module StatsBase at /home/cqgz21/.julia/v0.6/StatsBase/src/hist.jl:533.\n",
      "WARNING: Method definition midpoints(Base.Range{T} where T) in module Base at deprecated.jl:56 overwritten in module StatsBase at /home/cqgz21/.julia/v0.6/StatsBase/src/hist.jl:535.\n",
      "WARNING: Method definition midpoints(AbstractArray{T, 1} where T) in module Base at deprecated.jl:56 overwritten in module StatsBase at /home/cqgz21/.julia/v0.6/StatsBase/src/hist.jl:533.\n",
      "WARNING: Method definition midpoints(Base.Range{T} where T) in module Base at deprecated.jl:56 overwritten in module StatsBase at /home/cqgz21/.julia/v0.6/StatsBase/src/hist.jl:535.\n",
      "WARNING: Method definition midpoints(AbstractArray{T, 1} where T) in module Base at deprecated.jl:56 overwritten in module StatsBase at /home/cqgz21/.julia/v0.6/StatsBase/src/hist.jl:533.\n",
      "WARNING: Method definition midpoints(Base.Range{T} where T) in module Base at deprecated.jl:56 overwritten in module StatsBase at /home/cqgz21/.julia/v0.6/StatsBase/src/hist.jl:535.\n",
      "WARNING: Method definition midpoints(AbstractArray{T, 1} where T) in module Base at deprecated.jl:56 overwritten in module StatsBase at /home/cqgz21/.julia/v0.6/StatsBase/src/hist.jl:533.\n",
      "WARNING: Method definition midpoints(Base.Range{T} where T) in module Base at deprecated.jl:56 overwritten in module StatsBase at /home/cqgz21/.julia/v0.6/StatsBase/src/hist.jl:535.\n",
      "WARNING: Method definition midpoints(AbstractArray{T, 1} where T) in module Base at deprecated.jl:56 overwritten in module StatsBase at /home/cqgz21/.julia/v0.6/StatsBase/src/hist.jl:533.\n",
      "WARNING: Method definition midpoints(Base.Range{T} where T) in module Base at deprecated.jl:56 overwritten in module StatsBase at /home/cqgz21/.julia/v0.6/StatsBase/src/hist.jl:535.\n",
      "WARNING: Method definition midpoints(AbstractArray{T, 1} where T) in module Base at deprecated.jl:56 overwritten in module StatsBase at /home/cqgz21/.julia/v0.6/StatsBase/src/hist.jl:533.\n",
      "WARNING: Method definition midpoints(Base.Range{T} where T) in module Base at deprecated.jl:56 overwritten in module StatsBase at /home/cqgz21/.julia/v0.6/StatsBase/src/hist.jl:535.\n",
      "WARNING: Method definition midpoints(AbstractArray{T, 1} where T) in module Base at deprecated.jl:56 overwritten in module StatsBase at /home/cqgz21/.julia/v0.6/StatsBase/src/hist.jl:533.\n",
      "WARNING: Method definition midpoints(Base.Range{T} where T) in module Base at deprecated.jl:56 overwritten in module StatsBase at /home/cqgz21/.julia/v0.6/StatsBase/src/hist.jl:535.\n",
      "WARNING: Method definition midpoints(AbstractArray{T, 1} where T) in module Base at deprecated.jl:56 overwritten in module StatsBase at /home/cqgz21/.julia/v0.6/StatsBase/src/hist.jl:533.\n",
      "WARNING: Method definition midpoints(Base.Range{T} where T) in module Base at deprecated.jl:56 overwritten in module StatsBase at /home/cqgz21/.julia/v0.6/StatsBase/src/hist.jl:535.\n",
      "WARNING: Method definition midpoints(AbstractArray{T, 1} where T) in module Base at deprecated.jl:56 overwritten in module StatsBase at /home/cqgz21/.julia/v0.6/StatsBase/src/hist.jl:533.\n",
      "WARNING: Method definition midpoints(Base.Range{T} where T) in module Base at deprecated.jl:56 overwritten in module StatsBase at /home/cqgz21/.julia/v0.6/StatsBase/src/hist.jl:535.\n",
      "WARNING: Method definition midpoints(AbstractArray{T, 1} where T) in module Base at deprecated.jl:56 overwritten in module StatsBase at /home/cqgz21/.julia/v0.6/StatsBase/src/hist.jl:533.\n",
      "WARNING: Method definition midpoints(Base.Range{T} where T) in module Base at deprecated.jl:56 overwritten in module StatsBase at /home/cqgz21/.julia/v0.6/StatsBase/src/hist.jl:535.\n",
      "WARNING: Method definition midpoints(AbstractArray{T, 1} where T) in module Base at deprecated.jl:56 overwritten in module StatsBase at /home/cqgz21/.julia/v0.6/StatsBase/src/hist.jl:533.\n",
      "WARNING: Method definition midpoints(Base.Range{T} where T) in module Base at deprecated.jl:56 overwritten in module StatsBase at /home/cqgz21/.julia/v0.6/StatsBase/src/hist.jl:535.\n",
      "WARNING: Method definition midpoints(AbstractArray{T, 1} where T) in module Base at deprecated.jl:56 overwritten in module StatsBase at /home/cqgz21/.julia/v0.6/StatsBase/src/hist.jl:533.\n",
      "WARNING: Method definition midpoints(Base.Range{T} where T) in module Base at deprecated.jl:56 overwritten in module StatsBase at /home/cqgz21/.julia/v0.6/StatsBase/src/hist.jl:535.\n",
      "WARNING: Method definition midpoints(AbstractArray{T, 1} where T) in module Base at deprecated.jl:56 overwritten in module StatsBase at /home/cqgz21/.julia/v0.6/StatsBase/src/hist.jl:533.\n",
      "WARNING: Method definition midpoints(Base.Range{T} where T) in module Base at deprecated.jl:56 overwritten in module StatsBase at /home/cqgz21/.julia/v0.6/StatsBase/src/hist.jl:535.\n",
      "WARNING: Method definition midpoints(AbstractArray{T, 1} where T) in module Base at deprecated.jl:56 overwritten in module StatsBase at /home/cqgz21/.julia/v0.6/StatsBase/src/hist.jl:533.\n"
     ]
    },
    {
     "name": "stderr",
     "output_type": "stream",
     "text": [
      "WARNING: Method definition midpoints(Base.Range{T} where T) in module Base at deprecated.jl:56 overwritten in module StatsBase at /home/cqgz21/.julia/v0.6/StatsBase/src/hist.jl:535.\n",
      "WARNING: Method definition midpoints(AbstractArray{T, 1} where T) in module Base at deprecated.jl:56 overwritten in module StatsBase at /home/cqgz21/.julia/v0.6/StatsBase/src/hist.jl:533.\n",
      "WARNING: Method definition WARNING: Method definition midpoints(Base.Range{T} where T) in module Base at deprecated.jl:56 overwritten in module StatsBase at /home/cqgz21/.julia/v0.6/StatsBase/src/hist.jl:535.\n",
      "WARNING: Method definition midpoints(AbstractArray{T, 1} where T) in module Base at deprecated.jl:56 overwritten in module StatsBase at /home/cqgz21/.julia/v0.6/StatsBase/src/hist.jl:533.\n",
      "midpoints(Base.Range{T} where T) in module Base at deprecated.jl:56 overwritten in module StatsBase at /home/cqgz21/.julia/v0.6/StatsBase/src/hist.jl:535.\n",
      "WARNING: Method definition midpoints(AbstractArray{T, 1} where T) in module Base at deprecated.jl:56 overwritten in module StatsBase at /home/cqgz21/.julia/v0.6/StatsBase/src/hist.jl:533.\n",
      "WARNING: Method definition midpoints(Base.Range{T} where T) in module Base at deprecated.jl:56 overwritten in module StatsBase at /home/cqgz21/.julia/v0.6/StatsBase/src/hist.jl:535.\n",
      "WARNING: Method definition midpoints(AbstractArray{T, 1} where T) in module Base at deprecated.jl:56 overwritten in module StatsBase at /home/cqgz21/.julia/v0.6/StatsBase/src/hist.jl:533.\n",
      "WARNING: Method definition midpoints(Base.Range{T} where T) in module Base at deprecated.jl:56 overwritten in module StatsBase at /home/cqgz21/.julia/v0.6/StatsBase/src/hist.jl:535.\n",
      "WARNING: Method definition midpoints(AbstractArray{T, 1} where T) in module Base at deprecated.jl:56 overwritten in module StatsBase at /home/cqgz21/.julia/v0.6/StatsBase/src/hist.jl:533.\n",
      "WARNING: Method definition midpoints(Base.Range{T} where T) in module Base at deprecated.jl:56 overwritten in module StatsBase at /home/cqgz21/.julia/v0.6/StatsBase/src/hist.jl:535.\n",
      "WARNING: Method definition midpoints(AbstractArray{T, 1} where T) in module Base at deprecated.jl:56 overwritten in module StatsBase at /home/cqgz21/.julia/v0.6/StatsBase/src/hist.jl:533.\n",
      "WARNING: Method definition midpoints(Base.Range{T} where T) in module Base at deprecated.jl:56 overwritten in module StatsBase at /home/cqgz21/.julia/v0.6/StatsBase/src/hist.jl:535.\n",
      "WARNING: Method definition midpoints(AbstractArray{T, 1} where T) in module Base at deprecated.jl:56 overwritten in module StatsBase at /home/cqgz21/.julia/v0.6/StatsBase/src/hist.jl:533.\n",
      "WARNING: Method definition midpoints(Base.Range{T} where T) in module Base at deprecated.jl:56 overwritten in module StatsBase at /home/cqgz21/.julia/v0.6/StatsBase/src/hist.jl:535.\n",
      "WARNING: Method definition midpoints(AbstractArray{T, 1} where T) in module Base at deprecated.jl:56 overwritten in module StatsBase at /home/cqgz21/.julia/v0.6/StatsBase/src/hist.jl:533.\n",
      "WARNING: Method definition midpoints(Base.Range{T} where T) in module Base at deprecated.jl:56 overwritten in module StatsBase at /home/cqgz21/.julia/v0.6/StatsBase/src/hist.jl:535.\n",
      "WARNING: Method definition midpoints(AbstractArray{T, 1} where T) in module Base at deprecated.jl:56 overwritten in module StatsBase at /home/cqgz21/.julia/v0.6/StatsBase/src/hist.jl:533.\n",
      "WARNING: Method definition midpoints(Base.Range{T} where T) in module Base at deprecated.jl:56 overwritten in module StatsBase at /home/cqgz21/.julia/v0.6/StatsBase/src/hist.jl:535.\n",
      "WARNING: Method definition midpoints(AbstractArray{T, 1} where T) in module Base at deprecated.jl:56 overwritten in module StatsBase at /home/cqgz21/.julia/v0.6/StatsBase/src/hist.jl:533.\n",
      "WARNING: Method definition midpoints(Base.Range{T} where T) in module Base at deprecated.jl:56 overwritten in module StatsBase at /home/cqgz21/.julia/v0.6/StatsBase/src/hist.jl:535.\n",
      "WARNING: Method definition midpoints(AbstractArray{T, 1} where T) in module Base at deprecated.jl:56 overwritten in module StatsBase at /home/cqgz21/.julia/v0.6/StatsBase/src/hist.jl:533.\n",
      "WARNING: Method definition midpoints(Base.Range{T} where T) in module Base at deprecated.jl:56 overwritten in module StatsBase at /home/cqgz21/.julia/v0.6/StatsBase/src/hist.jl:535.\n",
      "WARNING: Method definition midpoints(AbstractArray{T, 1} where T) in module Base at deprecated.jl:56 overwritten in module StatsBase at /home/cqgz21/.julia/v0.6/StatsBase/src/hist.jl:533.\n",
      "WARNING: Method definition midpoints(Base.Range{T} where T) in module Base at deprecated.jl:56 overwritten in module StatsBase at /home/cqgz21/.julia/v0.6/StatsBase/src/hist.jl:535.\n",
      "WARNING: Method definition midpoints(AbstractArray{T, 1} where T) in module Base at deprecated.jl:56 overwritten in module StatsBase at /home/cqgz21/.julia/v0.6/StatsBase/src/hist.jl:533.\n",
      "WARNING: Method definition midpoints(Base.Range{T} where T) in module Base at deprecated.jl:56 overwritten in module StatsBase at /home/cqgz21/.julia/v0.6/StatsBase/src/hist.jl:535.\n",
      "WARNING: Method definition midpoints(AbstractArray{T, 1} where T) in module Base at deprecated.jl:56 overwritten in module StatsBase at /home/cqgz21/.julia/v0.6/StatsBase/src/hist.jl:533.\n",
      "WARNING: Method definition midpoints(Base.Range{T} where T) in module Base at deprecated.jl:56 overwritten in module StatsBase at /home/cqgz21/.julia/v0.6/StatsBase/src/hist.jl:535.\n",
      "WARNING: Method definition midpoints(AbstractArray{T, 1} where T) in module Base at deprecated.jl:56 overwritten in module StatsBase at /home/cqgz21/.julia/v0.6/StatsBase/src/hist.jl:533.\n",
      "WARNING: Method definition midpoints(Base.Range{T} where T) in module Base at deprecated.jl:56 overwritten in module StatsBase at /home/cqgz21/.julia/v0.6/StatsBase/src/hist.jl:535.\n",
      "WARNING: Method definition midpoints(AbstractArray{T, 1} where T) in module Base at deprecated.jl:56 overwritten in module StatsBase at /home/cqgz21/.julia/v0.6/StatsBase/src/hist.jl:533.\n",
      "WARNING: Method definition midpoints(Base.Range{T} where T) in module Base at deprecated.jl:56 overwritten in module StatsBase at /home/cqgz21/.julia/v0.6/StatsBase/src/hist.jl:535.\n",
      "WARNING: Method definition midpoints(AbstractArray{T, 1} where T) in module Base at deprecated.jl:56 overwritten in module StatsBase at /home/cqgz21/.julia/v0.6/StatsBase/src/hist.jl:533.\n",
      "WARNING: Method definition midpoints(Base.Range{T} where T) in module Base at deprecated.jl:56 overwritten in module StatsBase at /home/cqgz21/.julia/v0.6/StatsBase/src/hist.jl:535.\n",
      "WARNING: Method definition midpoints(AbstractArray{T, 1} where T) in module Base at deprecated.jl:56 overwritten in module StatsBase at /home/cqgz21/.julia/v0.6/StatsBase/src/hist.jl:533.\n",
      "WARNING: Method definition midpoints(Base.Range{T} where T) in module Base at deprecated.jl:56 overwritten in module StatsBase at /home/cqgz21/.julia/v0.6/StatsBase/src/hist.jl:535.\n",
      "WARNING: Method definition midpoints(AbstractArray{T, 1} where T) in module Base at deprecated.jl:56 overwritten in module StatsBase at /home/cqgz21/.julia/v0.6/StatsBase/src/hist.jl:533.\n",
      "WARNING: Method definition midpoints(Base.Range{T} where T) in module Base at deprecated.jl:56 overwritten in module StatsBase at /home/cqgz21/.julia/v0.6/StatsBase/src/hist.jl:535.\n",
      "WARNING: Method definition midpoints(AbstractArray{T, 1} where T) in module Base at deprecated.jl:56 overwritten in module StatsBase at /home/cqgz21/.julia/v0.6/StatsBase/src/hist.jl:533.\n",
      "WARNING: Method definition midpoints(Base.Range{T} where T) in module Base at deprecated.jl:56 overwritten in module StatsBase at /home/cqgz21/.julia/v0.6/StatsBase/src/hist.jl:535.\n",
      "WARNING: Method definition midpoints(AbstractArray{T, 1} where T) in module Base at deprecated.jl:56 overwritten in module StatsBase at /home/cqgz21/.julia/v0.6/StatsBase/src/hist.jl:533.\n",
      "WARNING: Method definition WARNING: Method definition midpoints(Base.Range{T} where T) in module Base at deprecated.jl:56 overwritten in module StatsBase at /home/cqgz21/.julia/v0.6/StatsBase/src/hist.jl:535.\n",
      "WARNING: Method definition midpoints(AbstractArray{T, 1} where T) in module Base at deprecated.jl:56 overwritten in module StatsBase at /home/cqgz21/.julia/v0.6/StatsBase/src/hist.jl:533.\n",
      "midpoints(Base.Range{T} where T) in module Base at deprecated.jl:56 overwritten in module StatsBase at /home/cqgz21/.julia/v0.6/StatsBase/src/hist.jl:535.\n",
      "WARNING: Method definition midpoints(AbstractArray{T, 1} where T) in module Base at deprecated.jl:56 overwritten in module StatsBase at /home/cqgz21/.julia/v0.6/StatsBase/src/hist.jl:533.\n"
     ]
    },
    {
     "name": "stderr",
     "output_type": "stream",
     "text": [
      "WARNING: Method definition midpoints(Base.Range{T} where T) in module Base at deprecated.jl:56 overwritten in module StatsBase at /home/cqgz21/.julia/v0.6/StatsBase/src/hist.jl:535.\n",
      "WARNING: Method definition midpoints(AbstractArray{T, 1} where T) in module Base at deprecated.jl:56 overwritten in module StatsBase at /home/cqgz21/.julia/v0.6/StatsBase/src/hist.jl:533.\n",
      "WARNING: Method definition midpoints(Base.Range{T} where T) in module Base at deprecated.jl:56 overwritten in module StatsBase at /home/cqgz21/.julia/v0.6/StatsBase/src/hist.jl:535.\n",
      "WARNING: Method definition midpoints(AbstractArray{T, 1} where T) in module Base at deprecated.jl:56 overwritten in module StatsBase at /home/cqgz21/.julia/v0.6/StatsBase/src/hist.jl:533.\n",
      "WARNING: Method definition midpoints(Base.Range{T} where T) in module Base at deprecated.jl:56 overwritten in module StatsBase at /home/cqgz21/.julia/v0.6/StatsBase/src/hist.jl:535.\n",
      "WARNING: Method definition midpoints(AbstractArray{T, 1} where T) in module Base at deprecated.jl:56 overwritten in module StatsBase at /home/cqgz21/.julia/v0.6/StatsBase/src/hist.jl:533.\n"
     ]
    }
   ],
   "source": [
    "CPU_CORES = 51\n",
    "addprocs(CPU_CORES - 1);\n",
    "@everywhere using DistributedArrays, JuMP, Distributions, Ipopt\n",
    "using StatsBase"
   ]
  },
  {
   "cell_type": "code",
   "execution_count": 2,
   "metadata": {},
   "outputs": [
    {
     "name": "stdout",
     "output_type": "stream",
     "text": [
      "51\n",
      "50\n",
      "[2, 3, 4, 5, 6, 7, 8, 9, 10, 11, 12, 13, 14, 15, 16, 17, 18, 19, 20, 21, 22, 23, 24, 25, 26, 27, 28, 29, 30, 31, 32, 33, 34, 35, 36, 37, 38, 39, 40, 41, 42, 43, 44, 45, 46, 47, 48, 49, 50, 51]\n"
     ]
    }
   ],
   "source": [
    "print(nprocs(),\"\\n\")\n",
    "print(nworkers(),\"\\n\")\n",
    "print(workers(),\"\\n\")"
   ]
  },
  {
   "cell_type": "code",
   "execution_count": null,
   "metadata": {},
   "outputs": [],
   "source": []
  },
  {
   "cell_type": "code",
   "execution_count": 3,
   "metadata": {},
   "outputs": [],
   "source": [
    "@everywhere landscape1= [0. 0 0 2 2 0 0 0 2 0 0 2;\n",
    "              2 0 1 2 5 5 0 0 2 0 0 0;\n",
    "              3 1 2 2 1 1 2 0 0 3 0 0;\n",
    "              2 1 1 2 1 2 2 0 3 4 4 0\n",
    "              2 2 1 1 1 1 1 0 3 4 4 3;\n",
    "              2 2 1 1 1 1 1 1 3 3 3 0;\n",
    "              0 2 0 1 5 5 5 0 1 1 0 3;\n",
    "              3 0 0 1 0 0 2 0 0 3 1 3;\n",
    "              3 4 0 1 1 3 2 2 2 3 3 3;\n",
    "              4 3 2 0 0 3 2 2 2 3 2 2] + 1\n",
    "@everywhere Ncell = 30"
   ]
  },
  {
   "cell_type": "code",
   "execution_count": 4,
   "metadata": {},
   "outputs": [],
   "source": [
    "@everywhere function create_pixel_mat(landscape, ordered_vec)\n",
    "    retmat = deepcopy(landscape)\n",
    "    for i = 1:length(ordered_vec)\n",
    "        retmat[abs.(retmat - i) .< 0.000000001] = ordered_vec[i]\n",
    "    end\n",
    "    \n",
    "    if size(retmat) == (10,12)\n",
    "        retmat_zone = hcat(reshape(retmat[1:5 , 1:6],Ncell),\n",
    "            reshape(retmat[1:5 , 7:12],Ncell),\n",
    "            reshape(retmat[6:10 , 1:6],Ncell),\n",
    "            reshape(retmat[6:10 , 7:12],Ncell))\n",
    "    end\n",
    "    retmat_zone\n",
    "end\n"
   ]
  },
  {
   "cell_type": "code",
   "execution_count": 5,
   "metadata": {},
   "outputs": [
    {
     "name": "stdout",
     "output_type": "stream",
     "text": [
      "1.0000000000000004"
     ]
    }
   ],
   "source": [
    "# Using the prior and visibility info given in the DCA paper\n",
    "# These have @everywhere because they are fixed. Better declare them in each process rather than\n",
    "# copying from the parent process\n",
    "@everywhere s1 = create_pixel_mat(landscape1, [0.4,0.9,0.3,0.2,0.1,0.8])\n",
    "@everywhere s2 = create_pixel_mat(landscape1, [0.5,0.1,0.1,0.7,0.6,0.9])\n",
    "@everywhere s3 = create_pixel_mat(landscape1, [0.6,0.1,0.4,0.8,0.7,0.1])\n",
    "@everywhere s4 = create_pixel_mat(landscape1, [0.8,0.1,0.6,0.2,0.1,0.7])\n",
    "@everywhere s5 = create_pixel_mat(landscape1, [0.5,0.3,0.5,0.4,0.3,0.6])\n",
    "@everywhere s6 = create_pixel_mat(landscape1, [0.1,0.5,0.2,0.6,0.5,0.2])\n",
    "\n",
    "\n",
    "\n",
    "\n",
    "@everywhere Z = 4 # number of zones\n",
    "@everywhere S = 6 # number of sensors\n",
    "@everywhere W = reshape(hcat(s1,s2,s3,s4,s5,s6),Ncell,Z,S) # visibility tensor\n",
    "\n",
    "\n",
    "\n",
    "@everywhere θ = 0.3\n",
    "@everywhere N = 50\n",
    "@everywhere Threshold = convert(Int64,floor(N * θ)) # for accepting P computed from each sample\n",
    "@everywhere epsilon = 1e-5\n",
    "\n",
    "\n",
    "# No @everywhere because these are only used by the parent process\n",
    "maxiter = 15 # number of iterations for \n",
    "\n",
    "\n",
    "\n",
    "# No @everywhere because these are changing, pass into functions as parameters\n",
    "\n",
    "Φ = 5\n",
    "prior_ordered_vec = [0.0085,0.001,0.0115,0.013,0.014,0] # prior of target, order given in the paper\n",
    "prior = create_pixel_mat(landscape1, prior_ordered_vec)\n",
    "print(sum(prior))\n",
    "\n",
    "\n",
    "\n"
   ]
  },
  {
   "cell_type": "code",
   "execution_count": null,
   "metadata": {},
   "outputs": [],
   "source": []
  },
  {
   "cell_type": "code",
   "execution_count": 6,
   "metadata": {},
   "outputs": [
    {
     "data": {
      "text/plain": [
       "CE_parallel (generic function with 1 method)"
      ]
     },
     "execution_count": 6,
     "metadata": {},
     "output_type": "execute_result"
    }
   ],
   "source": [
    "\n",
    "\n",
    "\n",
    "####################################\n",
    "## CE Algorithm parallel N\n",
    "\n",
    "@everywhere function solve_alloc(u, Φ,prior)\n",
    "\n",
    "    m_ϕ = Model(solver = IpoptSolver(print_level=0))\n",
    "\n",
    "    @variable(m_ϕ,ϕvar[1:Ncell,1:Z,1:S]) # resource allocation for each senor in each zone in each cell\n",
    "    @variable(m_ϕ,exponential[1:Ncell,1:Z])\n",
    "    @variable(m_ϕ, aux[1:Ncell,1:Z])\n",
    "    @objective(m_ϕ, Min, sum(prior .* exponential))\n",
    "    @NLconstraint(m_ϕ, [i=1:Ncell,j=1:Z], exp(aux[i,j]) <= exponential[i,j])\n",
    "    @constraint(m_ϕ,aux .== squeeze(-sum(W .* ϕvar .* reshape(u,1,Z,S),3),3))\n",
    "    @constraint(m_ϕ, exponential .>= 0)\n",
    "    @constraint(m_ϕ,ϕvar .>= 0)\n",
    "    @constraint(m_ϕ,[i=1:Z,j=1:S],sum(ϕvar[:,i,j]) <= Φ)\n",
    "\n",
    "    solve(m_ϕ)\n",
    "    getobjectivevalue(m_ϕ), transpose(u)\n",
    "end\n",
    "    \n",
    "    \n",
    "\n",
    "function CE_parallel(Φ,prior)\n",
    "    \n",
    "    P = ones(S,Z)/Z\n",
    "    for iter=1:maxiter\n",
    "\n",
    "        cumsumP = cumsum(P,2)\n",
    "        \n",
    "        vec_tile = rand(Uniform(0,1), S * N,1)\n",
    "        cumsumP_tile = repmat(cumsumP,N)\n",
    "        which_zone = floor.(findmax(cumsumP_tile .> vec_tile,2)[2] / (S*N) - epsilon) + 1\n",
    "        u = abs.(repmat(transpose(1:Z),S*N,1) .- which_zone) .< epsilon\n",
    "        u = transpose(u)\n",
    "        \n",
    "        arr_obj = []\n",
    "        arr_assign = zeros(S,Z,N)\n",
    "#         tic()\n",
    "        retobj = @DArray [solve_alloc(u[:,(i-1)*S+1:i*S],Φ,prior) for i = 1:N]\n",
    "#         toc()\n",
    "        for i = 1:N\n",
    "            push!(arr_obj, retobj[i][1])\n",
    "            arr_assign[:,:,i] = retobj[i][2]\n",
    "        end\n",
    " \n",
    "        best_ind = sortperm(arr_obj)[1:Threshold]\n",
    "        P = squeeze(sum(arr_assign[:,:,best_ind],3)/Threshold,3)\n",
    "    end\n",
    "    \n",
    "    u = transpose(P)\n",
    "    m_ϕ = Model(solver = IpoptSolver(print_level=0))\n",
    "\n",
    "    @variable(m_ϕ,ϕvar[1:Ncell,1:Z,1:S])\n",
    "    @variable(m_ϕ,exponential[1:Ncell,1:Z])\n",
    "    @variable(m_ϕ, aux[1:Ncell,1:Z])\n",
    "    @objective(m_ϕ, Min, sum(prior .* exponential))\n",
    "    @NLconstraint(m_ϕ, [i=1:Ncell,j=1:Z], exp(aux[i,j]) <= exponential[i,j])\n",
    "    @constraint(m_ϕ,aux .== squeeze(-sum(W .* ϕvar .* reshape(u,1,Z,S),3),3))\n",
    "    @constraint(m_ϕ, exponential .>= 0)\n",
    "    @constraint(m_ϕ,ϕvar .>= 0)\n",
    "    @constraint(m_ϕ,[i=1:Z,j=1:S],sum(ϕvar[:,i,j]) <= Φ)\n",
    "\n",
    "    solve(m_ϕ)\n",
    "    \n",
    "    getobjectivevalue(m_ϕ), P, exp.(getvalue(aux)), getvalue(ϕvar)\n",
    "    \n",
    "    \n",
    "    \n",
    "end\n"
   ]
  },
  {
   "cell_type": "code",
   "execution_count": 141,
   "metadata": {
    "scrolled": true
   },
   "outputs": [
    {
     "name": "stdout",
     "output_type": "stream",
     "text": [
      "elapsed time: 15.884161344 seconds\n",
      "0.817177375826391"
     ]
    }
   ],
   "source": [
    "tic()\n",
    "Φ = 5\n",
    "obj, assignment, prob_nondetect, res_alloc = CE_parallel(Φ,prior)\n",
    "toc()\n",
    "print(obj)\n"
   ]
  },
  {
   "cell_type": "code",
   "execution_count": 138,
   "metadata": {},
   "outputs": [
    {
     "data": {
      "text/plain": [
       "prior_perturb (generic function with 1 method)"
      ]
     },
     "execution_count": 138,
     "metadata": {},
     "output_type": "execute_result"
    }
   ],
   "source": [
    "#######################################\n",
    "# Perturb prior\n",
    "#######################################\n",
    "function prior_perturb(mag)\n",
    "    new_prior = zeros(120)\n",
    "    counter = 0\n",
    "    for i = 1:length(new_prior)\n",
    "        val = reshape(prior,120)[i]\n",
    "        if val > 0\n",
    "            perturb = rand(Normal(0,val)) * mag\n",
    "            newval = val + perturb\n",
    "            if newval < 0\n",
    "                counter = counter + 1\n",
    "            end\n",
    "            newval = abs(newval)\n",
    "        else\n",
    "            newval = val\n",
    "        end\n",
    "        new_prior[i] = newval\n",
    "    end\n",
    "    new_prior = reshape(new_prior/sum(new_prior),30,4)\n",
    "    return new_prior, counter\n",
    "end"
   ]
  },
  {
   "cell_type": "code",
   "execution_count": 167,
   "metadata": {},
   "outputs": [
    {
     "name": "stdout",
     "output_type": "stream",
     "text": [
      "0.07958612824628607\n",
      "0.0\n"
     ]
    },
    {
     "data": {
      "text/plain": [
       "Summary Stats:\n",
       "Mean:           0.817268\n",
       "Minimum:        0.812958\n",
       "1st Quartile:   0.816393\n",
       "Median:         0.817306\n",
       "3rd Quartile:   0.818143\n",
       "Maximum:        0.821726\n"
      ]
     },
     "execution_count": 167,
     "metadata": {},
     "output_type": "execute_result"
    }
   ],
   "source": [
    "# small perturbations\n",
    "\n",
    "num_trials = 1000\n",
    "nondetection_prior_perturb = zeros(num_trials)\n",
    "diff_record = 0\n",
    "counter_record = 0\n",
    "for i=1:num_trials\n",
    "    new_prior,counter = prior_perturb(0.1)\n",
    "    counter_record = counter_record + counter\n",
    "    diff_record = diff_record + sum(abs.(new_prior - prior))\n",
    "    nondetection_prior_perturb[i] = sum(new_prior .* exp.( squeeze(-sum(W .* res_alloc .* reshape(transpose(assignment),1,Z,S),3),3)))\n",
    "end\n",
    "print(diff_record/num_trials,\"\\n\")\n",
    "print(counter_record/num_trials,\"\\n\")\n",
    "summarystats(nondetection_prior_perturb)"
   ]
  },
  {
   "cell_type": "code",
   "execution_count": 168,
   "metadata": {},
   "outputs": [
    {
     "name": "stdout",
     "output_type": "stream",
     "text": [
      "0.3845682268069441\n",
      "2.713\n"
     ]
    },
    {
     "data": {
      "text/plain": [
       "Summary Stats:\n",
       "Mean:           0.817358\n",
       "Minimum:        0.798501\n",
       "1st Quartile:   0.812826\n",
       "Median:         0.817192\n",
       "3rd Quartile:   0.821845\n",
       "Maximum:        0.837021\n"
      ]
     },
     "execution_count": 168,
     "metadata": {},
     "output_type": "execute_result"
    }
   ],
   "source": [
    "# medium perturbations\n",
    "\n",
    "num_trials = 1000\n",
    "nondetection_prior_perturb = zeros(num_trials)\n",
    "diff_record = 0\n",
    "counter_record = 0\n",
    "for i=1:num_trials\n",
    "    new_prior,counter = prior_perturb(0.5)\n",
    "    counter_record = counter_record + counter\n",
    "    diff_record = diff_record + sum(abs.(new_prior - prior))\n",
    "    nondetection_prior_perturb[i] = sum(new_prior .* exp.( squeeze(-sum(W .* res_alloc .* reshape(transpose(assignment),1,Z,S),3),3)))\n",
    "end\n",
    "print(diff_record/num_trials,\"\\n\")\n",
    "print(counter_record/num_trials,\"\\n\")\n",
    "summarystats(nondetection_prior_perturb)"
   ]
  },
  {
   "cell_type": "code",
   "execution_count": 169,
   "metadata": {},
   "outputs": [
    {
     "name": "stdout",
     "output_type": "stream",
     "text": [
      "0.5556839830949762\n",
      "18.237\n"
     ]
    },
    {
     "data": {
      "text/plain": [
       "Summary Stats:\n",
       "Mean:           0.817786\n",
       "Minimum:        0.793592\n",
       "1st Quartile:   0.811883\n",
       "Median:         0.817624\n",
       "3rd Quartile:   0.823936\n",
       "Maximum:        0.848758\n"
      ]
     },
     "execution_count": 169,
     "metadata": {},
     "output_type": "execute_result"
    }
   ],
   "source": [
    "# large perturbations\n",
    "\n",
    "num_trials = 1000\n",
    "nondetection_prior_perturb = zeros(num_trials)\n",
    "diff_record = 0\n",
    "counter_record = 0\n",
    "for i=1:num_trials\n",
    "    new_prior,counter = prior_perturb(1)\n",
    "    counter_record = counter_record + counter\n",
    "    diff_record = diff_record + sum(abs.(new_prior - prior))\n",
    "    nondetection_prior_perturb[i] = sum(new_prior .* exp.( squeeze(-sum(W .* res_alloc .* reshape(transpose(assignment),1,Z,S),3),3)))\n",
    "end\n",
    "print(diff_record/num_trials,\"\\n\")\n",
    "print(counter_record/num_trials,\"\\n\")\n",
    "summarystats(nondetection_prior_perturb)"
   ]
  },
  {
   "cell_type": "code",
   "execution_count": null,
   "metadata": {},
   "outputs": [],
   "source": []
  },
  {
   "cell_type": "code",
   "execution_count": 179,
   "metadata": {},
   "outputs": [
    {
     "data": {
      "text/plain": [
       "visibility_perturb (generic function with 1 method)"
      ]
     },
     "execution_count": 179,
     "metadata": {},
     "output_type": "execute_result"
    }
   ],
   "source": [
    "#######################################\n",
    "# Perturb sensor visibility\n",
    "#######################################\n",
    "\n",
    "\n",
    "# data frpm Thi's paper. table 1\n",
    "sen_visibility_tbl = [0.4 0.5 0.6 0.8 0.5 0.1;\n",
    "    0.9 0.1 0.1 0.1 0.3 0.5;\n",
    "    0.3 0.1 0.4 0.6 0.5 0.2;\n",
    "    0.2 0.7 0.8 0.2 0.4 0.6;\n",
    "    0.1 0.6 0.7 0.1 0.3 0.5;\n",
    "    0.8 0.9 0.1 0.7 0.6 0.2]\n",
    "\n",
    "function visibility_perturb(mag)\n",
    "    counter_neg = 0\n",
    "    counter_1plus = 0\n",
    "    @everywhere new_visibility_tbl = zeros(6,6)\n",
    "    for i=1:6\n",
    "        for j=1:6\n",
    "            val = sen_visibility_tbl[i,j]\n",
    "            if val > 0\n",
    "                perturb = rand(Normal(0,val)) * mag\n",
    "                newval = val + perturb\n",
    "                if newval < 0\n",
    "                    counter_neg = counter_neg + 1\n",
    "                    newval = abs(newval)\n",
    "                elseif newval > 1\n",
    "                    counter_1plus = counter_1plus + 1\n",
    "                    newval = 1\n",
    "                end\n",
    "                \n",
    "            else\n",
    "                newval = val\n",
    "            end\n",
    "            new_visibility_tbl[i,j] = newval\n",
    "        end\n",
    "    end\n",
    "    \n",
    "    @everywhere s1 = create_pixel_mat(landscape1, new_visibility_tbl[:,1])\n",
    "    @everywhere s2 = create_pixel_mat(landscape1, new_visibility_tbl[:,2])\n",
    "    @everywhere s3 = create_pixel_mat(landscape1, new_visibility_tbl[:,3])\n",
    "    @everywhere s4 = create_pixel_mat(landscape1, new_visibility_tbl[:,4])\n",
    "    @everywhere s5 = create_pixel_mat(landscape1, new_visibility_tbl[:,5])\n",
    "    @everywhere s6 = create_pixel_mat(landscape1, new_visibility_tbl[:,6])\n",
    "    @everywhere new_W = reshape(hcat(s1,s2,s3,s4,s5,s6),Ncell,Z,S) # visibility tensor\n",
    "\n",
    "    \n",
    "    return new_W, counter_neg, counter_1plus\n",
    "end\n",
    "\n",
    "\n"
   ]
  },
  {
   "cell_type": "code",
   "execution_count": 193,
   "metadata": {},
   "outputs": [
    {
     "name": "stdout",
     "output_type": "stream",
     "text": [
      "23.844620059098865\n",
      "0.0\n",
      "0.298\n"
     ]
    },
    {
     "data": {
      "text/plain": [
       "Summary Stats:\n",
       "Mean:           0.817676\n",
       "Minimum:        0.797297\n",
       "1st Quartile:   0.814003\n",
       "Median:         0.817373\n",
       "3rd Quartile:   0.821255\n",
       "Maximum:        0.834137\n"
      ]
     },
     "execution_count": 193,
     "metadata": {},
     "output_type": "execute_result"
    }
   ],
   "source": [
    "# small perturbations\n",
    "\n",
    "num_trials = 1000\n",
    "nondetection_W_perturb = zeros(num_trials)\n",
    "diff_record = 0\n",
    "counter_neg_record = 0\n",
    "counter_1plus_record = 0\n",
    "for i=1:num_trials\n",
    "    new_W, counter_neg, counter_1plus = visibility_perturb(0.1)\n",
    "    counter_neg_record = counter_neg_record + counter_neg\n",
    "    counter_1plus_record = counter_1plus_record + counter_1plus\n",
    "    diff_record = diff_record + sum(abs.(new_W - W))\n",
    "    nondetection_W_perturb[i] = sum(prior .* exp.( squeeze(-sum(new_W .* res_alloc .* reshape(transpose(assignment),1,Z,S),3),3)))\n",
    "end\n",
    "print(diff_record/num_trials,\"\\n\")\n",
    "print(counter_neg_record/num_trials,\"\\n\")\n",
    "print(counter_1plus_record/num_trials,\"\\n\")\n",
    "summarystats(nondetection_W_perturb)"
   ]
  },
  {
   "cell_type": "code",
   "execution_count": 195,
   "metadata": {},
   "outputs": [
    {
     "name": "stdout",
     "output_type": "stream",
     "text": [
      "106.54280083812192\n",
      "0.866\n",
      "2.921\n"
     ]
    },
    {
     "data": {
      "text/plain": [
       "Summary Stats:\n",
       "Mean:           0.827099\n",
       "Minimum:        0.766379\n",
       "1st Quartile:   0.810588\n",
       "Median:         0.825275\n",
       "3rd Quartile:   0.843081\n",
       "Maximum:        0.895959\n"
      ]
     },
     "execution_count": 195,
     "metadata": {},
     "output_type": "execute_result"
    }
   ],
   "source": [
    "# Medium perturbations\n",
    "\n",
    "num_trials = 1000\n",
    "nondetection_W_perturb = zeros(num_trials)\n",
    "diff_record = 0\n",
    "counter_neg_record = 0\n",
    "counter_1plus_record = 0\n",
    "for i=1:num_trials\n",
    "    new_W, counter_neg, counter_1plus = visibility_perturb(0.5)\n",
    "    counter_neg_record = counter_neg_record + counter_neg\n",
    "    counter_1plus_record = counter_1plus_record + counter_1plus\n",
    "    diff_record = diff_record + sum(abs.(new_W - W))\n",
    "    nondetection_W_perturb[i] = sum(prior .* exp.( squeeze(-sum(new_W .* res_alloc .* reshape(transpose(assignment),1,Z,S),3),3)))\n",
    "end\n",
    "print(diff_record/num_trials,\"\\n\")\n",
    "print(counter_neg_record/num_trials,\"\\n\")\n",
    "print(counter_1plus_record/num_trials,\"\\n\")\n",
    "summarystats(nondetection_W_perturb)"
   ]
  },
  {
   "cell_type": "code",
   "execution_count": 196,
   "metadata": {},
   "outputs": [
    {
     "name": "stdout",
     "output_type": "stream",
     "text": [
      "151.78895144138255\n",
      "5.761\n",
      "5.423\n"
     ]
    },
    {
     "data": {
      "text/plain": [
       "Summary Stats:\n",
       "Mean:           0.825574\n",
       "Minimum:        0.735982\n",
       "1st Quartile:   0.803558\n",
       "Median:         0.825958\n",
       "3rd Quartile:   0.845504\n",
       "Maximum:        0.916386\n"
      ]
     },
     "execution_count": 196,
     "metadata": {},
     "output_type": "execute_result"
    }
   ],
   "source": [
    "# Large perturbations\n",
    "\n",
    "num_trials = 1000\n",
    "nondetection_W_perturb = zeros(num_trials)\n",
    "diff_record = 0\n",
    "counter_neg_record = 0\n",
    "counter_1plus_record = 0\n",
    "for i=1:num_trials\n",
    "    new_W, counter_neg, counter_1plus = visibility_perturb(1)\n",
    "    counter_neg_record = counter_neg_record + counter_neg\n",
    "    counter_1plus_record = counter_1plus_record + counter_1plus\n",
    "    diff_record = diff_record + sum(abs.(new_W - W))\n",
    "    nondetection_W_perturb[i] = sum(prior .* exp.( squeeze(-sum(new_W .* res_alloc .* reshape(transpose(assignment),1,Z,S),3),3)))\n",
    "end\n",
    "print(diff_record/num_trials,\"\\n\")\n",
    "print(counter_neg_record/num_trials,\"\\n\")\n",
    "print(counter_1plus_record/num_trials,\"\\n\")\n",
    "summarystats(nondetection_W_perturb)"
   ]
  },
  {
   "cell_type": "code",
   "execution_count": null,
   "metadata": {},
   "outputs": [],
   "source": []
  },
  {
   "cell_type": "code",
   "execution_count": null,
   "metadata": {},
   "outputs": [],
   "source": []
  },
  {
   "cell_type": "code",
   "execution_count": null,
   "metadata": {},
   "outputs": [],
   "source": [
    "####################################################\n",
    "## Varying the total resource each sensor has. Not relevant to the discussion of this notebook\n",
    "#####################################################\n",
    "\n",
    "Φ_vec = 5:5:40\n",
    "Φ_vec_len = length(Φ_vec)\n",
    "obj_vec = zeros(Φ_vec_len,1)\n",
    "\n",
    "tic()\n",
    "################## Takes a while to run (~3 mins) ########################\n",
    "for i=1:Φ_vec_len\n",
    "    Φ = Φ_vec[i]\n",
    "    obj, assignment, prob_nondetect, res_alloc = CE_parallel(Φ,prior)\n",
    "    obj_vec[i] = obj\n",
    "    print(\"Φ: \", Φ, \" done.\\n\")\n",
    "end\n",
    "toc()\n",
    "\n",
    "display(obj_vec)\n",
    "\n",
    "\n",
    "Amount of resource    Paper        Mine\n",
    "5                     0.818577     0.816912\n",
    "10                    0.684701     0.683561\n",
    "15                    0.580673     0.575656\n",
    "20                    0.500550     0.495109\n",
    "25                    0.428900     0.433506\n",
    "30                    0.372219     0.359684\n",
    "35                    0.327574     0.303628\n",
    "40                    0.292742     0.283595"
   ]
  },
  {
   "cell_type": "code",
   "execution_count": null,
   "metadata": {},
   "outputs": [],
   "source": []
  },
  {
   "cell_type": "code",
   "execution_count": null,
   "metadata": {},
   "outputs": [],
   "source": []
  },
  {
   "cell_type": "code",
   "execution_count": null,
   "metadata": {},
   "outputs": [],
   "source": []
  },
  {
   "cell_type": "code",
   "execution_count": null,
   "metadata": {},
   "outputs": [],
   "source": [
    "##############################################\n",
    "## Moving Target\n",
    "##############################################"
   ]
  },
  {
   "cell_type": "code",
   "execution_count": 197,
   "metadata": {},
   "outputs": [
    {
     "data": {
      "text/plain": [
       "1.0"
      ]
     },
     "execution_count": 197,
     "metadata": {},
     "output_type": "execute_result"
    }
   ],
   "source": [
    "moving_mat= [0.0 0.0 0.0;\n",
    "             0.0 0.3 0.1;\n",
    "             0.0 0.1 0.5]\n",
    "sum(moving_mat)"
   ]
  },
  {
   "cell_type": "code",
   "execution_count": 291,
   "metadata": {},
   "outputs": [
    {
     "data": {
      "text/plain": [
       "construct_c2c (generic function with 1 method)"
      ]
     },
     "execution_count": 291,
     "metadata": {},
     "output_type": "execute_result"
    }
   ],
   "source": [
    "# construct a 30x4x30x4 one step moving probability tensor\n",
    "# first, construct 120x120 one step transition matrix\n",
    "\n",
    "function construct_c2c(moving_mat)\n",
    "    # here we number all cells from 1 to 120 in a row-major fashion\n",
    "    c2c = zeros(Ncell * Z, Ncell * Z)\n",
    "    for i = 1:(Ncell * Z)\n",
    "        # Stay in current cell\n",
    "        c2c[i,i] = moving_mat[2,2]\n",
    "\n",
    "        # move right\n",
    "        if mod(i,12) ==  0 # right end \n",
    "            c2c[i,i] = c2c[i,i] + moving_mat[2,3]\n",
    "        else\n",
    "            c2c[i,i+1] = moving_mat[2,3]\n",
    "        end\n",
    "\n",
    "        # move down\n",
    "        if i > 12 * (10-1) # bottom end\n",
    "            c2c[i,i] = c2c[i,i] + moving_mat[3,2]\n",
    "        else\n",
    "            c2c[i,i+12] = moving_mat[3,2]\n",
    "        end\n",
    "\n",
    "        # move diagonal\n",
    "        if (mod(i,12) == 0) | (i > 12 * (10-1))\n",
    "            c2c[i,i] = c2c[i,i] + moving_mat[3,3]\n",
    "        else\n",
    "            c2c[i,i+12+1] = moving_mat[3,3]\n",
    "        end\n",
    "\n",
    "\n",
    "    end\n",
    "\n",
    "    # convert the 120x120 matrix into 30x4x30x4 tensor\n",
    "    # Note that Julia is column major: suppose the first (leftmost, upmost) cell\n",
    "    # is cell 1, cell 2 refers to the cell below cell 1 not the cell to the right\n",
    "    # This affects how cell index is assigned\n",
    "    c2c_tensor = zeros(Ncell,Z,Ncell,Z)\n",
    "    for i=1:Ncell*Z\n",
    "        zone_prev = (i / 60 > 1) * 2 + ((mod(i,12) / 6 > 1) | (mod(i,12) == 0)) + 1\n",
    "        offset_prev = [0,6,60,66][zone_prev]\n",
    "        cell_prev = (rem(i-offset_prev,12) - 1) * 5 + div(i-offset_prev,12) + 1 # column major in julia\n",
    "        for j=1:Ncell*Z\n",
    "            zone_cur = (j / 60 > 1) * 2 + ((mod(j,12) / 6 > 1) | (mod(j,12) == 0)) + 1\n",
    "            offset_cur = [0,6,60,66][zone_cur]\n",
    "            cell_cur = (rem(j-offset_cur,12) - 1) * 5 + div(j-offset_cur,12) + 1 # column major in julia\n",
    "            c2c_tensor[cell_prev,zone_prev,cell_cur,zone_cur] = c2c[i,j]\n",
    "        end\n",
    "    end\n",
    "    \n",
    "    return c2c_tensor\n",
    "end"
   ]
  },
  {
   "cell_type": "code",
   "execution_count": 292,
   "metadata": {},
   "outputs": [
    {
     "data": {
      "text/plain": [
       "30×4×30×4 Array{Float64,4}:\n",
       "[:, :, 1, 1] =\n",
       " 0.3  0.0  0.0  0.0\n",
       " 0.0  0.0  0.0  0.0\n",
       " 0.0  0.0  0.0  0.0\n",
       " 0.0  0.0  0.0  0.0\n",
       " 0.0  0.0  0.0  0.0\n",
       " 0.0  0.0  0.0  0.0\n",
       " 0.0  0.0  0.0  0.0\n",
       " 0.0  0.0  0.0  0.0\n",
       " 0.0  0.0  0.0  0.0\n",
       " 0.0  0.0  0.0  0.0\n",
       " 0.0  0.0  0.0  0.0\n",
       " 0.0  0.0  0.0  0.0\n",
       " 0.0  0.0  0.0  0.0\n",
       " ⋮                 \n",
       " 0.0  0.0  0.0  0.0\n",
       " 0.0  0.0  0.0  0.0\n",
       " 0.0  0.0  0.0  0.0\n",
       " 0.0  0.0  0.0  0.0\n",
       " 0.0  0.0  0.0  0.0\n",
       " 0.0  0.0  0.0  0.0\n",
       " 0.0  0.0  0.0  0.0\n",
       " 0.0  0.0  0.0  0.0\n",
       " 0.0  0.0  0.0  0.0\n",
       " 0.0  0.0  0.0  0.0\n",
       " 0.0  0.0  0.0  0.0\n",
       " 0.0  0.0  0.0  0.0\n",
       "\n",
       "[:, :, 2, 1] =\n",
       " 0.1  0.0  0.0  0.0\n",
       " 0.3  0.0  0.0  0.0\n",
       " 0.0  0.0  0.0  0.0\n",
       " 0.0  0.0  0.0  0.0\n",
       " 0.0  0.0  0.0  0.0\n",
       " 0.0  0.0  0.0  0.0\n",
       " 0.0  0.0  0.0  0.0\n",
       " 0.0  0.0  0.0  0.0\n",
       " 0.0  0.0  0.0  0.0\n",
       " 0.0  0.0  0.0  0.0\n",
       " 0.0  0.0  0.0  0.0\n",
       " 0.0  0.0  0.0  0.0\n",
       " 0.0  0.0  0.0  0.0\n",
       " ⋮                 \n",
       " 0.0  0.0  0.0  0.0\n",
       " 0.0  0.0  0.0  0.0\n",
       " 0.0  0.0  0.0  0.0\n",
       " 0.0  0.0  0.0  0.0\n",
       " 0.0  0.0  0.0  0.0\n",
       " 0.0  0.0  0.0  0.0\n",
       " 0.0  0.0  0.0  0.0\n",
       " 0.0  0.0  0.0  0.0\n",
       " 0.0  0.0  0.0  0.0\n",
       " 0.0  0.0  0.0  0.0\n",
       " 0.0  0.0  0.0  0.0\n",
       " 0.0  0.0  0.0  0.0\n",
       "\n",
       "[:, :, 3, 1] =\n",
       " 0.0  0.0  0.0  0.0\n",
       " 0.1  0.0  0.0  0.0\n",
       " 0.3  0.0  0.0  0.0\n",
       " 0.0  0.0  0.0  0.0\n",
       " 0.0  0.0  0.0  0.0\n",
       " 0.0  0.0  0.0  0.0\n",
       " 0.0  0.0  0.0  0.0\n",
       " 0.0  0.0  0.0  0.0\n",
       " 0.0  0.0  0.0  0.0\n",
       " 0.0  0.0  0.0  0.0\n",
       " 0.0  0.0  0.0  0.0\n",
       " 0.0  0.0  0.0  0.0\n",
       " 0.0  0.0  0.0  0.0\n",
       " ⋮                 \n",
       " 0.0  0.0  0.0  0.0\n",
       " 0.0  0.0  0.0  0.0\n",
       " 0.0  0.0  0.0  0.0\n",
       " 0.0  0.0  0.0  0.0\n",
       " 0.0  0.0  0.0  0.0\n",
       " 0.0  0.0  0.0  0.0\n",
       " 0.0  0.0  0.0  0.0\n",
       " 0.0  0.0  0.0  0.0\n",
       " 0.0  0.0  0.0  0.0\n",
       " 0.0  0.0  0.0  0.0\n",
       " 0.0  0.0  0.0  0.0\n",
       " 0.0  0.0  0.0  0.0\n",
       "\n",
       "...\n",
       "\n",
       "[:, :, 28, 1] =\n",
       " 0.0  0.0  0.0  0.0\n",
       " 0.0  0.0  0.0  0.0\n",
       " 0.0  0.0  0.0  0.0\n",
       " 0.0  0.0  0.0  0.0\n",
       " 0.0  0.0  0.0  0.0\n",
       " 0.0  0.0  0.0  0.0\n",
       " 0.0  0.0  0.0  0.0\n",
       " 0.0  0.0  0.0  0.0\n",
       " 0.0  0.0  0.0  0.0\n",
       " 0.0  0.0  0.0  0.0\n",
       " 0.0  0.0  0.0  0.0\n",
       " 0.0  0.0  0.0  0.0\n",
       " 0.0  0.0  0.0  0.0\n",
       " ⋮                 \n",
       " 0.0  0.0  0.0  0.0\n",
       " 0.0  0.0  0.0  0.0\n",
       " 0.0  0.0  0.0  0.0\n",
       " 0.5  0.0  0.0  0.0\n",
       " 0.1  0.0  0.0  0.0\n",
       " 0.0  0.0  0.0  0.0\n",
       " 0.0  0.0  0.0  0.0\n",
       " 0.0  0.0  0.0  0.0\n",
       " 0.1  0.0  0.0  0.0\n",
       " 0.3  0.0  0.0  0.0\n",
       " 0.0  0.0  0.0  0.0\n",
       " 0.0  0.0  0.0  0.0\n",
       "\n",
       "[:, :, 29, 1] =\n",
       " 0.0  0.0  0.0  0.0\n",
       " 0.0  0.0  0.0  0.0\n",
       " 0.0  0.0  0.0  0.0\n",
       " 0.0  0.0  0.0  0.0\n",
       " 0.0  0.0  0.0  0.0\n",
       " 0.0  0.0  0.0  0.0\n",
       " 0.0  0.0  0.0  0.0\n",
       " 0.0  0.0  0.0  0.0\n",
       " 0.0  0.0  0.0  0.0\n",
       " 0.0  0.0  0.0  0.0\n",
       " 0.0  0.0  0.0  0.0\n",
       " 0.0  0.0  0.0  0.0\n",
       " 0.0  0.0  0.0  0.0\n",
       " ⋮                 \n",
       " 0.0  0.0  0.0  0.0\n",
       " 0.0  0.0  0.0  0.0\n",
       " 0.0  0.0  0.0  0.0\n",
       " 0.0  0.0  0.0  0.0\n",
       " 0.5  0.0  0.0  0.0\n",
       " 0.1  0.0  0.0  0.0\n",
       " 0.0  0.0  0.0  0.0\n",
       " 0.0  0.0  0.0  0.0\n",
       " 0.0  0.0  0.0  0.0\n",
       " 0.1  0.0  0.0  0.0\n",
       " 0.3  0.0  0.0  0.0\n",
       " 0.0  0.0  0.0  0.0\n",
       "\n",
       "[:, :, 30, 1] =\n",
       " 0.0  0.0  0.0  0.0\n",
       " 0.0  0.0  0.0  0.0\n",
       " 0.0  0.0  0.0  0.0\n",
       " 0.0  0.0  0.0  0.0\n",
       " 0.0  0.0  0.0  0.0\n",
       " 0.0  0.0  0.0  0.0\n",
       " 0.0  0.0  0.0  0.0\n",
       " 0.0  0.0  0.0  0.0\n",
       " 0.0  0.0  0.0  0.0\n",
       " 0.0  0.0  0.0  0.0\n",
       " 0.0  0.0  0.0  0.0\n",
       " 0.0  0.0  0.0  0.0\n",
       " 0.0  0.0  0.0  0.0\n",
       " ⋮                 \n",
       " 0.0  0.0  0.0  0.0\n",
       " 0.0  0.0  0.0  0.0\n",
       " 0.0  0.0  0.0  0.0\n",
       " 0.0  0.0  0.0  0.0\n",
       " 0.0  0.0  0.0  0.0\n",
       " 0.5  0.0  0.0  0.0\n",
       " 0.1  0.0  0.0  0.0\n",
       " 0.0  0.0  0.0  0.0\n",
       " 0.0  0.0  0.0  0.0\n",
       " 0.0  0.0  0.0  0.0\n",
       " 0.1  0.0  0.0  0.0\n",
       " 0.3  0.0  0.0  0.0\n",
       "\n",
       "[:, :, 1, 2] =\n",
       " 0.0  0.3  0.0  0.0\n",
       " 0.0  0.0  0.0  0.0\n",
       " 0.0  0.0  0.0  0.0\n",
       " 0.0  0.0  0.0  0.0\n",
       " 0.0  0.0  0.0  0.0\n",
       " 0.0  0.0  0.0  0.0\n",
       " 0.0  0.0  0.0  0.0\n",
       " 0.0  0.0  0.0  0.0\n",
       " 0.0  0.0  0.0  0.0\n",
       " 0.0  0.0  0.0  0.0\n",
       " 0.0  0.0  0.0  0.0\n",
       " 0.0  0.0  0.0  0.0\n",
       " 0.0  0.0  0.0  0.0\n",
       " ⋮                 \n",
       " 0.0  0.0  0.0  0.0\n",
       " 0.0  0.0  0.0  0.0\n",
       " 0.0  0.0  0.0  0.0\n",
       " 0.0  0.0  0.0  0.0\n",
       " 0.0  0.0  0.0  0.0\n",
       " 0.0  0.0  0.0  0.0\n",
       " 0.0  0.0  0.0  0.0\n",
       " 0.1  0.0  0.0  0.0\n",
       " 0.0  0.0  0.0  0.0\n",
       " 0.0  0.0  0.0  0.0\n",
       " 0.0  0.0  0.0  0.0\n",
       " 0.0  0.0  0.0  0.0\n",
       "\n",
       "[:, :, 2, 2] =\n",
       " 0.0  0.1  0.0  0.0\n",
       " 0.0  0.3  0.0  0.0\n",
       " 0.0  0.0  0.0  0.0\n",
       " 0.0  0.0  0.0  0.0\n",
       " 0.0  0.0  0.0  0.0\n",
       " 0.0  0.0  0.0  0.0\n",
       " 0.0  0.0  0.0  0.0\n",
       " 0.0  0.0  0.0  0.0\n",
       " 0.0  0.0  0.0  0.0\n",
       " 0.0  0.0  0.0  0.0\n",
       " 0.0  0.0  0.0  0.0\n",
       " 0.0  0.0  0.0  0.0\n",
       " 0.0  0.0  0.0  0.0\n",
       " ⋮                 \n",
       " 0.0  0.0  0.0  0.0\n",
       " 0.0  0.0  0.0  0.0\n",
       " 0.0  0.0  0.0  0.0\n",
       " 0.0  0.0  0.0  0.0\n",
       " 0.0  0.0  0.0  0.0\n",
       " 0.0  0.0  0.0  0.0\n",
       " 0.0  0.0  0.0  0.0\n",
       " 0.5  0.0  0.0  0.0\n",
       " 0.1  0.0  0.0  0.0\n",
       " 0.0  0.0  0.0  0.0\n",
       " 0.0  0.0  0.0  0.0\n",
       " 0.0  0.0  0.0  0.0\n",
       "\n",
       "[:, :, 3, 2] =\n",
       " 0.0  0.0  0.0  0.0\n",
       " 0.0  0.1  0.0  0.0\n",
       " 0.0  0.3  0.0  0.0\n",
       " 0.0  0.0  0.0  0.0\n",
       " 0.0  0.0  0.0  0.0\n",
       " 0.0  0.0  0.0  0.0\n",
       " 0.0  0.0  0.0  0.0\n",
       " 0.0  0.0  0.0  0.0\n",
       " 0.0  0.0  0.0  0.0\n",
       " 0.0  0.0  0.0  0.0\n",
       " 0.0  0.0  0.0  0.0\n",
       " 0.0  0.0  0.0  0.0\n",
       " 0.0  0.0  0.0  0.0\n",
       " ⋮                 \n",
       " 0.0  0.0  0.0  0.0\n",
       " 0.0  0.0  0.0  0.0\n",
       " 0.0  0.0  0.0  0.0\n",
       " 0.0  0.0  0.0  0.0\n",
       " 0.0  0.0  0.0  0.0\n",
       " 0.0  0.0  0.0  0.0\n",
       " 0.0  0.0  0.0  0.0\n",
       " 0.0  0.0  0.0  0.0\n",
       " 0.5  0.0  0.0  0.0\n",
       " 0.1  0.0  0.0  0.0\n",
       " 0.0  0.0  0.0  0.0\n",
       " 0.0  0.0  0.0  0.0\n",
       "\n",
       "...\n",
       "\n",
       "[:, :, 28, 2] =\n",
       " 0.0  0.0  0.0  0.0\n",
       " 0.0  0.0  0.0  0.0\n",
       " 0.0  0.0  0.0  0.0\n",
       " 0.0  0.0  0.0  0.0\n",
       " 0.0  0.0  0.0  0.0\n",
       " 0.0  0.0  0.0  0.0\n",
       " 0.0  0.0  0.0  0.0\n",
       " 0.0  0.0  0.0  0.0\n",
       " 0.0  0.0  0.0  0.0\n",
       " 0.0  0.0  0.0  0.0\n",
       " 0.0  0.0  0.0  0.0\n",
       " 0.0  0.0  0.0  0.0\n",
       " 0.0  0.0  0.0  0.0\n",
       " ⋮                 \n",
       " 0.0  0.0  0.0  0.0\n",
       " 0.0  0.0  0.0  0.0\n",
       " 0.0  0.0  0.0  0.0\n",
       " 0.0  0.5  0.0  0.0\n",
       " 0.0  0.1  0.0  0.0\n",
       " 0.0  0.0  0.0  0.0\n",
       " 0.0  0.0  0.0  0.0\n",
       " 0.0  0.0  0.0  0.0\n",
       " 0.0  0.1  0.0  0.0\n",
       " 0.0  0.9  0.0  0.0\n",
       " 0.0  0.0  0.0  0.0\n",
       " 0.0  0.0  0.0  0.0\n",
       "\n",
       "[:, :, 29, 2] =\n",
       " 0.0  0.0  0.0  0.0\n",
       " 0.0  0.0  0.0  0.0\n",
       " 0.0  0.0  0.0  0.0\n",
       " 0.0  0.0  0.0  0.0\n",
       " 0.0  0.0  0.0  0.0\n",
       " 0.0  0.0  0.0  0.0\n",
       " 0.0  0.0  0.0  0.0\n",
       " 0.0  0.0  0.0  0.0\n",
       " 0.0  0.0  0.0  0.0\n",
       " 0.0  0.0  0.0  0.0\n",
       " 0.0  0.0  0.0  0.0\n",
       " 0.0  0.0  0.0  0.0\n",
       " 0.0  0.0  0.0  0.0\n",
       " ⋮                 \n",
       " 0.0  0.0  0.0  0.0\n",
       " 0.0  0.0  0.0  0.0\n",
       " 0.0  0.0  0.0  0.0\n",
       " 0.0  0.0  0.0  0.0\n",
       " 0.0  0.5  0.0  0.0\n",
       " 0.0  0.1  0.0  0.0\n",
       " 0.0  0.0  0.0  0.0\n",
       " 0.0  0.0  0.0  0.0\n",
       " 0.0  0.0  0.0  0.0\n",
       " 0.0  0.1  0.0  0.0\n",
       " 0.0  0.9  0.0  0.0\n",
       " 0.0  0.0  0.0  0.0\n",
       "\n",
       "[:, :, 30, 2] =\n",
       " 0.0  0.0  0.0  0.0\n",
       " 0.0  0.0  0.0  0.0\n",
       " 0.0  0.0  0.0  0.0\n",
       " 0.0  0.0  0.0  0.0\n",
       " 0.0  0.0  0.0  0.0\n",
       " 0.0  0.0  0.0  0.0\n",
       " 0.0  0.0  0.0  0.0\n",
       " 0.0  0.0  0.0  0.0\n",
       " 0.0  0.0  0.0  0.0\n",
       " 0.0  0.0  0.0  0.0\n",
       " 0.0  0.0  0.0  0.0\n",
       " 0.0  0.0  0.0  0.0\n",
       " 0.0  0.0  0.0  0.0\n",
       " ⋮                 \n",
       " 0.0  0.0  0.0  0.0\n",
       " 0.0  0.0  0.0  0.0\n",
       " 0.0  0.0  0.0  0.0\n",
       " 0.0  0.0  0.0  0.0\n",
       " 0.0  0.0  0.0  0.0\n",
       " 0.0  0.5  0.0  0.0\n",
       " 0.0  0.1  0.0  0.0\n",
       " 0.0  0.0  0.0  0.0\n",
       " 0.0  0.0  0.0  0.0\n",
       " 0.0  0.0  0.0  0.0\n",
       " 0.0  0.1  0.0  0.0\n",
       " 0.0  0.9  0.0  0.0\n",
       "\n",
       "[:, :, 1, 3] =\n",
       " 0.0  0.0  0.3  0.0\n",
       " 0.0  0.0  0.0  0.0\n",
       " 0.0  0.0  0.0  0.0\n",
       " 0.0  0.0  0.0  0.0\n",
       " 0.1  0.0  0.0  0.0\n",
       " 0.0  0.0  0.0  0.0\n",
       " 0.0  0.0  0.0  0.0\n",
       " 0.0  0.0  0.0  0.0\n",
       " 0.0  0.0  0.0  0.0\n",
       " 0.0  0.0  0.0  0.0\n",
       " 0.0  0.0  0.0  0.0\n",
       " 0.0  0.0  0.0  0.0\n",
       " 0.0  0.0  0.0  0.0\n",
       " ⋮                 \n",
       " 0.0  0.0  0.0  0.0\n",
       " 0.0  0.0  0.0  0.0\n",
       " 0.0  0.0  0.0  0.0\n",
       " 0.0  0.0  0.0  0.0\n",
       " 0.0  0.0  0.0  0.0\n",
       " 0.0  0.0  0.0  0.0\n",
       " 0.0  0.0  0.0  0.0\n",
       " 0.0  0.0  0.0  0.0\n",
       " 0.0  0.0  0.0  0.0\n",
       " 0.0  0.0  0.0  0.0\n",
       " 0.0  0.0  0.0  0.0\n",
       " 0.0  0.0  0.0  0.0\n",
       "\n",
       "[:, :, 2, 3] =\n",
       " 0.0  0.0  0.1  0.0\n",
       " 0.0  0.0  0.3  0.0\n",
       " 0.0  0.0  0.0  0.0\n",
       " 0.0  0.0  0.0  0.0\n",
       " 0.0  0.0  0.0  0.0\n",
       " 0.0  0.0  0.0  0.0\n",
       " 0.0  0.0  0.0  0.0\n",
       " 0.0  0.0  0.0  0.0\n",
       " 0.0  0.0  0.0  0.0\n",
       " 0.0  0.0  0.0  0.0\n",
       " 0.0  0.0  0.0  0.0\n",
       " 0.0  0.0  0.0  0.0\n",
       " 0.0  0.0  0.0  0.0\n",
       " ⋮                 \n",
       " 0.0  0.0  0.0  0.0\n",
       " 0.0  0.0  0.0  0.0\n",
       " 0.0  0.0  0.0  0.0\n",
       " 0.0  0.0  0.0  0.0\n",
       " 0.0  0.0  0.0  0.0\n",
       " 0.0  0.0  0.0  0.0\n",
       " 0.0  0.0  0.0  0.0\n",
       " 0.0  0.0  0.0  0.0\n",
       " 0.0  0.0  0.0  0.0\n",
       " 0.0  0.0  0.0  0.0\n",
       " 0.0  0.0  0.0  0.0\n",
       " 0.0  0.0  0.0  0.0\n",
       "\n",
       "[:, :, 3, 3] =\n",
       " 0.0  0.0  0.0  0.0\n",
       " 0.0  0.0  0.1  0.0\n",
       " 0.0  0.0  0.3  0.0\n",
       " 0.0  0.0  0.0  0.0\n",
       " 0.0  0.0  0.0  0.0\n",
       " 0.0  0.0  0.0  0.0\n",
       " 0.0  0.0  0.0  0.0\n",
       " 0.0  0.0  0.0  0.0\n",
       " 0.0  0.0  0.0  0.0\n",
       " 0.0  0.0  0.0  0.0\n",
       " 0.0  0.0  0.0  0.0\n",
       " 0.0  0.0  0.0  0.0\n",
       " 0.0  0.0  0.0  0.0\n",
       " ⋮                 \n",
       " 0.0  0.0  0.0  0.0\n",
       " 0.0  0.0  0.0  0.0\n",
       " 0.0  0.0  0.0  0.0\n",
       " 0.0  0.0  0.0  0.0\n",
       " 0.0  0.0  0.0  0.0\n",
       " 0.0  0.0  0.0  0.0\n",
       " 0.0  0.0  0.0  0.0\n",
       " 0.0  0.0  0.0  0.0\n",
       " 0.0  0.0  0.0  0.0\n",
       " 0.0  0.0  0.0  0.0\n",
       " 0.0  0.0  0.0  0.0\n",
       " 0.0  0.0  0.0  0.0\n",
       "\n",
       "...\n",
       "\n",
       "[:, :, 28, 3] =\n",
       " 0.0  0.0  0.0  0.0\n",
       " 0.0  0.0  0.0  0.0\n",
       " 0.0  0.0  0.0  0.0\n",
       " 0.0  0.0  0.0  0.0\n",
       " 0.0  0.0  0.0  0.0\n",
       " 0.0  0.0  0.0  0.0\n",
       " 0.0  0.0  0.0  0.0\n",
       " 0.0  0.0  0.0  0.0\n",
       " 0.0  0.0  0.0  0.0\n",
       " 0.0  0.0  0.0  0.0\n",
       " 0.0  0.0  0.0  0.0\n",
       " 0.0  0.0  0.0  0.0\n",
       " 0.0  0.0  0.0  0.0\n",
       " ⋮                 \n",
       " 0.0  0.0  0.0  0.0\n",
       " 0.0  0.0  0.0  0.0\n",
       " 0.0  0.0  0.0  0.0\n",
       " 0.0  0.0  0.5  0.0\n",
       " 0.0  0.0  0.1  0.0\n",
       " 0.0  0.0  0.0  0.0\n",
       " 0.0  0.0  0.0  0.0\n",
       " 0.0  0.0  0.0  0.0\n",
       " 0.0  0.0  0.1  0.0\n",
       " 0.0  0.0  0.3  0.0\n",
       " 0.0  0.0  0.0  0.0\n",
       " 0.0  0.0  0.0  0.0\n",
       "\n",
       "[:, :, 29, 3] =\n",
       " 0.0  0.0  0.0  0.0\n",
       " 0.0  0.0  0.0  0.0\n",
       " 0.0  0.0  0.0  0.0\n",
       " 0.0  0.0  0.0  0.0\n",
       " 0.0  0.0  0.0  0.0\n",
       " 0.0  0.0  0.0  0.0\n",
       " 0.0  0.0  0.0  0.0\n",
       " 0.0  0.0  0.0  0.0\n",
       " 0.0  0.0  0.0  0.0\n",
       " 0.0  0.0  0.0  0.0\n",
       " 0.0  0.0  0.0  0.0\n",
       " 0.0  0.0  0.0  0.0\n",
       " 0.0  0.0  0.0  0.0\n",
       " ⋮                 \n",
       " 0.0  0.0  0.0  0.0\n",
       " 0.0  0.0  0.0  0.0\n",
       " 0.0  0.0  0.0  0.0\n",
       " 0.0  0.0  0.0  0.0\n",
       " 0.0  0.0  0.5  0.0\n",
       " 0.0  0.0  0.1  0.0\n",
       " 0.0  0.0  0.0  0.0\n",
       " 0.0  0.0  0.0  0.0\n",
       " 0.0  0.0  0.0  0.0\n",
       " 0.0  0.0  0.1  0.0\n",
       " 0.0  0.0  0.3  0.0\n",
       " 0.0  0.0  0.0  0.0\n",
       "\n",
       "[:, :, 30, 3] =\n",
       " 0.0  0.0  0.0  0.0\n",
       " 0.0  0.0  0.0  0.0\n",
       " 0.0  0.0  0.0  0.0\n",
       " 0.0  0.0  0.0  0.0\n",
       " 0.0  0.0  0.0  0.0\n",
       " 0.0  0.0  0.0  0.0\n",
       " 0.0  0.0  0.0  0.0\n",
       " 0.0  0.0  0.0  0.0\n",
       " 0.0  0.0  0.0  0.0\n",
       " 0.0  0.0  0.0  0.0\n",
       " 0.0  0.0  0.0  0.0\n",
       " 0.0  0.0  0.0  0.0\n",
       " 0.0  0.0  0.0  0.0\n",
       " ⋮                 \n",
       " 0.0  0.0  0.0  0.0\n",
       " 0.0  0.0  0.0  0.0\n",
       " 0.0  0.0  0.0  0.0\n",
       " 0.0  0.0  0.0  0.0\n",
       " 0.0  0.0  0.0  0.0\n",
       " 0.0  0.0  0.5  0.0\n",
       " 0.0  0.0  0.1  0.0\n",
       " 0.0  0.0  0.0  0.0\n",
       " 0.0  0.0  0.0  0.0\n",
       " 0.0  0.0  0.0  0.0\n",
       " 0.0  0.0  0.1  0.0\n",
       " 0.0  0.0  0.9  0.0\n",
       "\n",
       "[:, :, 1, 4] =\n",
       " 0.0  0.0  0.0  0.3\n",
       " 0.0  0.0  0.0  0.0\n",
       " 0.0  0.0  0.0  0.0\n",
       " 0.0  0.0  0.0  0.0\n",
       " 0.0  0.1  0.0  0.0\n",
       " 0.0  0.0  0.0  0.0\n",
       " 0.0  0.0  0.0  0.0\n",
       " 0.0  0.0  0.0  0.0\n",
       " 0.0  0.0  0.0  0.0\n",
       " 0.0  0.0  0.0  0.0\n",
       " 0.0  0.0  0.0  0.0\n",
       " 0.0  0.0  0.0  0.0\n",
       " 0.0  0.0  0.0  0.0\n",
       " ⋮                 \n",
       " 0.0  0.0  0.0  0.0\n",
       " 0.0  0.0  0.0  0.0\n",
       " 0.0  0.0  0.0  0.0\n",
       " 0.0  0.0  0.0  0.0\n",
       " 0.0  0.0  0.0  0.0\n",
       " 0.0  0.0  0.0  0.0\n",
       " 0.0  0.0  0.0  0.0\n",
       " 0.0  0.0  0.1  0.0\n",
       " 0.0  0.0  0.0  0.0\n",
       " 0.0  0.0  0.0  0.0\n",
       " 0.0  0.0  0.0  0.0\n",
       " 0.5  0.0  0.0  0.0\n",
       "\n",
       "[:, :, 2, 4] =\n",
       " 0.0  0.0  0.0  0.1\n",
       " 0.0  0.0  0.0  0.3\n",
       " 0.0  0.0  0.0  0.0\n",
       " 0.0  0.0  0.0  0.0\n",
       " 0.0  0.0  0.0  0.0\n",
       " 0.0  0.0  0.0  0.0\n",
       " 0.0  0.0  0.0  0.0\n",
       " 0.0  0.0  0.0  0.0\n",
       " 0.0  0.0  0.0  0.0\n",
       " 0.0  0.0  0.0  0.0\n",
       " 0.0  0.0  0.0  0.0\n",
       " 0.0  0.0  0.0  0.0\n",
       " 0.0  0.0  0.0  0.0\n",
       " ⋮                 \n",
       " 0.0  0.0  0.0  0.0\n",
       " 0.0  0.0  0.0  0.0\n",
       " 0.0  0.0  0.0  0.0\n",
       " 0.0  0.0  0.0  0.0\n",
       " 0.0  0.0  0.0  0.0\n",
       " 0.0  0.0  0.0  0.0\n",
       " 0.0  0.0  0.0  0.0\n",
       " 0.0  0.0  0.5  0.0\n",
       " 0.0  0.0  0.1  0.0\n",
       " 0.0  0.0  0.0  0.0\n",
       " 0.0  0.0  0.0  0.0\n",
       " 0.0  0.0  0.0  0.0\n",
       "\n",
       "[:, :, 3, 4] =\n",
       " 0.0  0.0  0.0  0.0\n",
       " 0.0  0.0  0.0  0.1\n",
       " 0.0  0.0  0.0  0.3\n",
       " 0.0  0.0  0.0  0.0\n",
       " 0.0  0.0  0.0  0.0\n",
       " 0.0  0.0  0.0  0.0\n",
       " 0.0  0.0  0.0  0.0\n",
       " 0.0  0.0  0.0  0.0\n",
       " 0.0  0.0  0.0  0.0\n",
       " 0.0  0.0  0.0  0.0\n",
       " 0.0  0.0  0.0  0.0\n",
       " 0.0  0.0  0.0  0.0\n",
       " 0.0  0.0  0.0  0.0\n",
       " ⋮                 \n",
       " 0.0  0.0  0.0  0.0\n",
       " 0.0  0.0  0.0  0.0\n",
       " 0.0  0.0  0.0  0.0\n",
       " 0.0  0.0  0.0  0.0\n",
       " 0.0  0.0  0.0  0.0\n",
       " 0.0  0.0  0.0  0.0\n",
       " 0.0  0.0  0.0  0.0\n",
       " 0.0  0.0  0.0  0.0\n",
       " 0.0  0.0  0.5  0.0\n",
       " 0.0  0.0  0.1  0.0\n",
       " 0.0  0.0  0.0  0.0\n",
       " 0.0  0.0  0.0  0.0\n",
       "\n",
       "...\n",
       "\n",
       "[:, :, 28, 4] =\n",
       " 0.0  0.0  0.0  0.0\n",
       " 0.0  0.0  0.0  0.0\n",
       " 0.0  0.0  0.0  0.0\n",
       " 0.0  0.0  0.0  0.0\n",
       " 0.0  0.0  0.0  0.0\n",
       " 0.0  0.0  0.0  0.0\n",
       " 0.0  0.0  0.0  0.0\n",
       " 0.0  0.0  0.0  0.0\n",
       " 0.0  0.0  0.0  0.0\n",
       " 0.0  0.0  0.0  0.0\n",
       " 0.0  0.0  0.0  0.0\n",
       " 0.0  0.0  0.0  0.0\n",
       " 0.0  0.0  0.0  0.0\n",
       " ⋮                 \n",
       " 0.0  0.0  0.0  0.0\n",
       " 0.0  0.0  0.0  0.0\n",
       " 0.0  0.0  0.0  0.0\n",
       " 0.0  0.0  0.0  0.5\n",
       " 0.0  0.0  0.0  0.1\n",
       " 0.0  0.0  0.0  0.0\n",
       " 0.0  0.0  0.0  0.0\n",
       " 0.0  0.0  0.0  0.0\n",
       " 0.0  0.0  0.0  0.1\n",
       " 0.0  0.0  0.0  0.9\n",
       " 0.0  0.0  0.0  0.0\n",
       " 0.0  0.0  0.0  0.0\n",
       "\n",
       "[:, :, 29, 4] =\n",
       " 0.0  0.0  0.0  0.0\n",
       " 0.0  0.0  0.0  0.0\n",
       " 0.0  0.0  0.0  0.0\n",
       " 0.0  0.0  0.0  0.0\n",
       " 0.0  0.0  0.0  0.0\n",
       " 0.0  0.0  0.0  0.0\n",
       " 0.0  0.0  0.0  0.0\n",
       " 0.0  0.0  0.0  0.0\n",
       " 0.0  0.0  0.0  0.0\n",
       " 0.0  0.0  0.0  0.0\n",
       " 0.0  0.0  0.0  0.0\n",
       " 0.0  0.0  0.0  0.0\n",
       " 0.0  0.0  0.0  0.0\n",
       " ⋮                 \n",
       " 0.0  0.0  0.0  0.0\n",
       " 0.0  0.0  0.0  0.0\n",
       " 0.0  0.0  0.0  0.0\n",
       " 0.0  0.0  0.0  0.0\n",
       " 0.0  0.0  0.0  0.5\n",
       " 0.0  0.0  0.0  0.1\n",
       " 0.0  0.0  0.0  0.0\n",
       " 0.0  0.0  0.0  0.0\n",
       " 0.0  0.0  0.0  0.0\n",
       " 0.0  0.0  0.0  0.1\n",
       " 0.0  0.0  0.0  0.9\n",
       " 0.0  0.0  0.0  0.0\n",
       "\n",
       "[:, :, 30, 4] =\n",
       " 0.0  0.0  0.0  0.0\n",
       " 0.0  0.0  0.0  0.0\n",
       " 0.0  0.0  0.0  0.0\n",
       " 0.0  0.0  0.0  0.0\n",
       " 0.0  0.0  0.0  0.0\n",
       " 0.0  0.0  0.0  0.0\n",
       " 0.0  0.0  0.0  0.0\n",
       " 0.0  0.0  0.0  0.0\n",
       " 0.0  0.0  0.0  0.0\n",
       " 0.0  0.0  0.0  0.0\n",
       " 0.0  0.0  0.0  0.0\n",
       " 0.0  0.0  0.0  0.0\n",
       " 0.0  0.0  0.0  0.0\n",
       " ⋮                 \n",
       " 0.0  0.0  0.0  0.0\n",
       " 0.0  0.0  0.0  0.0\n",
       " 0.0  0.0  0.0  0.0\n",
       " 0.0  0.0  0.0  0.0\n",
       " 0.0  0.0  0.0  0.0\n",
       " 0.0  0.0  0.0  0.5\n",
       " 0.0  0.0  0.0  0.1\n",
       " 0.0  0.0  0.0  0.0\n",
       " 0.0  0.0  0.0  0.0\n",
       " 0.0  0.0  0.0  0.0\n",
       " 0.0  0.0  0.0  0.1\n",
       " 0.0  0.0  0.0  1.0"
      ]
     },
     "execution_count": 292,
     "metadata": {},
     "output_type": "execute_result"
    }
   ],
   "source": [
    "c2c_tensor = construct_c2c(moving_mat)"
   ]
  },
  {
   "cell_type": "code",
   "execution_count": null,
   "metadata": {},
   "outputs": [],
   "source": [
    "# Myopic and Optimal Search Plan (without cross-cueing)"
   ]
  },
  {
   "cell_type": "code",
   "execution_count": 262,
   "metadata": {},
   "outputs": [
    {
     "data": {
      "text/plain": [
       "4"
      ]
     },
     "execution_count": 262,
     "metadata": {},
     "output_type": "execute_result"
    }
   ],
   "source": [
    "T = 4\n",
    "Φ = 5\n",
    "Total_Iter = 4 # the number of iterations to go from myopic search plan to optimal search plan"
   ]
  },
  {
   "cell_type": "code",
   "execution_count": 263,
   "metadata": {},
   "outputs": [
    {
     "data": {
      "text/plain": [
       "mov_target_CE (generic function with 1 method)"
      ]
     },
     "execution_count": 263,
     "metadata": {},
     "output_type": "execute_result"
    }
   ],
   "source": [
    "################## Takes a while to run ########################\n",
    "\n",
    "function mov_target_CE()\n",
    "    DTensor = ones(Ncell,Z,T)\n",
    "    moving_target_obj_vec = zeros(Total_Iter,T)\n",
    "    prob_nondetect_Tensor = zeros(Ncell,Z,T)\n",
    "    final_assignment = zeros(S,Z,T)\n",
    "    final_res_alloc = zeros(Ncell,Z,S,T)\n",
    "    \n",
    "    \n",
    "    for i = 1:Total_Iter\n",
    "        # Initialize UTensor\n",
    "        UTensor = zeros(Ncell,Z,T)\n",
    "        UTensor[:,:,1] =  prior\n",
    "\n",
    "\n",
    "        for τ = 1:4\n",
    "            if τ > 1\n",
    "                UTensor[:,:,τ] = sum(sum(c2c_tensor .* \n",
    "                        reshape(prob_nondetect_Tensor[:,:,τ-1],Ncell,Z,1,1) .* \n",
    "                        reshape(UTensor[:,:,τ-1],Ncell,Z,1,1),1),2)\n",
    "            end\n",
    "            β = UTensor[:,:,τ] .* DTensor[:,:,τ]\n",
    "            obj, assignment, prob_nondetect, res_alloc = CE_parallel(Φ,β)\n",
    "            final_assignment[:,:,τ] = assignment\n",
    "            final_res_alloc[:,:,:,τ] = res_alloc\n",
    "            prob_nondetect_Tensor[:,:,τ] = prob_nondetect\n",
    "            moving_target_obj_vec[i,τ] = obj\n",
    "            print(\"Iter: \",i,\". Completed timestep: \",τ,\". Obj: \",obj,\"\\n\")\n",
    "        end\n",
    "\n",
    "        # Compute the DTensors using the nondetection probabilities at each timestep as calculated\n",
    "        # in the previous iteration\n",
    "        for τ = T-1:-1:1\n",
    "            DTensor[:,:,τ] = sum(sum(c2c_tensor .* \n",
    "                    reshape(prob_nondetect_Tensor[:,:,τ+1],1,1,Ncell,Z) .* \n",
    "                    reshape(DTensor[:,:,τ+1],1,1,Ncell,Z),3),4)\n",
    "        end\n",
    "    end\n",
    "    \n",
    "    return moving_target_obj_vec, prob_nondetect_Tensor, final_assignment, final_res_alloc\n",
    "\n",
    "end"
   ]
  },
  {
   "cell_type": "code",
   "execution_count": 264,
   "metadata": {
    "scrolled": true
   },
   "outputs": [
    {
     "name": "stdout",
     "output_type": "stream",
     "text": [
      "Iter: 1. Completed timestep: 1. Obj: 0.817736062033825\n",
      "Iter: 1. Completed timestep: 2. Obj: 0.651539509797221\n",
      "Iter: 1. Completed timestep: 3. Obj: 0.5035867563133201\n",
      "Iter: 1. Completed timestep: 4. Obj: 0.38716288211188987\n",
      "Iter: 2. Completed timestep: 1. Obj: 0.3665433002232844\n",
      "Iter: 2. Completed timestep: 2. Obj: 0.358335603476455\n",
      "Iter: 2. Completed timestep: 3. Obj: 0.35705052997208175\n",
      "Iter: 2. Completed timestep: 4. Obj: 0.3589469987574071\n",
      "Iter: 3. Completed timestep: 1. Obj: 0.35814163168100965\n",
      "Iter: 3. Completed timestep: 2. Obj: 0.3532775661697464\n",
      "Iter: 3. Completed timestep: 3. Obj: 0.3527460241250162\n",
      "Iter: 3. Completed timestep: 4. Obj: 0.35217503562321456\n",
      "Iter: 4. Completed timestep: 1. Obj: 0.3515425524100504\n",
      "Iter: 4. Completed timestep: 2. Obj: 0.3534050210833156\n",
      "Iter: 4. Completed timestep: 3. Obj: 0.35280325291435555\n",
      "Iter: 4. Completed timestep: 4. Obj: 0.3525696460593851\n",
      "elapsed time: 223.382315929 seconds\n"
     ]
    },
    {
     "data": {
      "text/plain": [
       "223.382315929"
      ]
     },
     "execution_count": 264,
     "metadata": {},
     "output_type": "execute_result"
    }
   ],
   "source": [
    "tic()\n",
    "moving_target_obj_vec, prob_nondetect_Tensor, final_assignment, final_res_alloc = mov_target_CE()\n",
    "toc()\n"
   ]
  },
  {
   "cell_type": "code",
   "execution_count": 271,
   "metadata": {},
   "outputs": [
    {
     "data": {
      "text/plain": [
       "compute_non_detection (generic function with 1 method)"
      ]
     },
     "execution_count": 271,
     "metadata": {},
     "output_type": "execute_result"
    }
   ],
   "source": [
    "function compute_non_detection(prior, W, c2c_tensor)\n",
    "    # Compute nondetection probability at each time step (used in computing U and D)\n",
    "    nondetection_prob_holder = zeros(Ncell,Z,T)\n",
    "    for i=1:T\n",
    "        res_alloc_cur = final_res_alloc[:,:,:,i]\n",
    "        assign_cur = final_assignment[:,:,i]\n",
    "        nondetection_prob_holder[:,:,i] = exp.( squeeze(-sum(W .* res_alloc_cur .* reshape(transpose(assign_cur),1,Z,S),3),3))\n",
    "    end\n",
    "\n",
    "\n",
    "    # Compute U and D\n",
    "\n",
    "    UTensor_holder = zeros(Ncell,Z,T)\n",
    "    UTensor_holder[:,:,1] =  prior\n",
    "    for i=2:T\n",
    "\n",
    "        UTensor_holder[:,:,i] = sum(sum(c2c_tensor .* \n",
    "            reshape(nondetection_prob_holder[:,:,i-1],Ncell,Z,1,1) .* \n",
    "            reshape(UTensor_holder[:,:,i-1],Ncell,Z,1,1),1),2)\n",
    "\n",
    "    end\n",
    "\n",
    "    DTensor_holder = ones(Ncell,Z,T)\n",
    "    for i = T-1:-1:1\n",
    "        DTensor_holder[:,:,i] = sum(sum(c2c_tensor .* \n",
    "                reshape(nondetection_prob_holder[:,:,i+1],1,1,Ncell,Z) .* \n",
    "                reshape(DTensor_holder[:,:,i+1],1,1,Ncell,Z),3),4)\n",
    "    end\n",
    "    \n",
    "    β_holder = UTensor_holder .* DTensor_holder\n",
    "    time_step = T\n",
    "    return sum(β_holder[:,:,time_step] .* nondetection_prob_holder[:,:,time_step])\n",
    "end \n",
    "     \n",
    "    \n"
   ]
  },
  {
   "cell_type": "code",
   "execution_count": 272,
   "metadata": {},
   "outputs": [
    {
     "data": {
      "text/plain": [
       "0.35256935068369993"
      ]
     },
     "execution_count": 272,
     "metadata": {},
     "output_type": "execute_result"
    }
   ],
   "source": [
    "## non detection probaility without perturbation\n",
    "compute_non_detection(prior, W, c2c_tensor)"
   ]
  },
  {
   "cell_type": "code",
   "execution_count": null,
   "metadata": {},
   "outputs": [],
   "source": [
    "#######################################\n",
    "# Perturb prior\n",
    "#######################################\n"
   ]
  },
  {
   "cell_type": "code",
   "execution_count": 274,
   "metadata": {},
   "outputs": [
    {
     "name": "stdout",
     "output_type": "stream",
     "text": [
      "0.07928416802505962\n",
      "0.0\n"
     ]
    },
    {
     "data": {
      "text/plain": [
       "Summary Stats:\n",
       "Mean:           0.352631\n",
       "Minimum:        0.347914\n",
       "1st Quartile:   0.351707\n",
       "Median:         0.352627\n",
       "3rd Quartile:   0.353568\n",
       "Maximum:        0.357193\n"
      ]
     },
     "execution_count": 274,
     "metadata": {},
     "output_type": "execute_result"
    }
   ],
   "source": [
    "# small perturbations\n",
    "\n",
    "num_trials = 1000\n",
    "nondetection_prior_perturb = zeros(num_trials)\n",
    "diff_record = 0\n",
    "counter_record = 0\n",
    "for i=1:num_trials\n",
    "    new_prior,counter = prior_perturb(0.1)\n",
    "    counter_record = counter_record + counter\n",
    "    diff_record = diff_record + sum(abs.(new_prior - prior))\n",
    "    nondetection_prior_perturb[i] = compute_non_detection(new_prior, W, c2c_tensor)\n",
    "end\n",
    "print(diff_record/num_trials,\"\\n\")\n",
    "print(counter_record/num_trials,\"\\n\")\n",
    "summarystats(nondetection_prior_perturb)"
   ]
  },
  {
   "cell_type": "code",
   "execution_count": 275,
   "metadata": {},
   "outputs": [
    {
     "name": "stdout",
     "output_type": "stream",
     "text": [
      "0.3860117871352267\n",
      "2.573\n"
     ]
    },
    {
     "data": {
      "text/plain": [
       "Summary Stats:\n",
       "Mean:           0.352428\n",
       "Minimum:        0.329693\n",
       "1st Quartile:   0.347835\n",
       "Median:         0.352337\n",
       "3rd Quartile:   0.357010\n",
       "Maximum:        0.373791\n"
      ]
     },
     "execution_count": 275,
     "metadata": {},
     "output_type": "execute_result"
    }
   ],
   "source": [
    "# Med perturbations\n",
    "\n",
    "num_trials = 1000\n",
    "nondetection_prior_perturb = zeros(num_trials)\n",
    "diff_record = 0\n",
    "counter_record = 0\n",
    "for i=1:num_trials\n",
    "    new_prior,counter = prior_perturb(0.5)\n",
    "    counter_record = counter_record + counter\n",
    "    diff_record = diff_record + sum(abs.(new_prior - prior))\n",
    "    nondetection_prior_perturb[i] = compute_non_detection(new_prior, W, c2c_tensor)\n",
    "end\n",
    "print(diff_record/num_trials,\"\\n\")\n",
    "print(counter_record/num_trials,\"\\n\")\n",
    "summarystats(nondetection_prior_perturb)"
   ]
  },
  {
   "cell_type": "code",
   "execution_count": 276,
   "metadata": {},
   "outputs": [
    {
     "name": "stdout",
     "output_type": "stream",
     "text": [
      "0.5584690768929785\n",
      "18.3\n"
     ]
    },
    {
     "data": {
      "text/plain": [
       "Summary Stats:\n",
       "Mean:           0.353123\n",
       "Minimum:        0.322453\n",
       "1st Quartile:   0.346532\n",
       "Median:         0.353339\n",
       "3rd Quartile:   0.359827\n",
       "Maximum:        0.388210\n"
      ]
     },
     "execution_count": 276,
     "metadata": {},
     "output_type": "execute_result"
    }
   ],
   "source": [
    "# Large perturbations\n",
    "\n",
    "num_trials = 1000\n",
    "nondetection_prior_perturb = zeros(num_trials)\n",
    "diff_record = 0\n",
    "counter_record = 0\n",
    "for i=1:num_trials\n",
    "    new_prior,counter = prior_perturb(1)\n",
    "    counter_record = counter_record + counter\n",
    "    diff_record = diff_record + sum(abs.(new_prior - prior))\n",
    "    nondetection_prior_perturb[i] = compute_non_detection(new_prior, W, c2c_tensor)\n",
    "end\n",
    "print(diff_record/num_trials,\"\\n\")\n",
    "print(counter_record/num_trials,\"\\n\")\n",
    "summarystats(nondetection_prior_perturb)"
   ]
  },
  {
   "cell_type": "code",
   "execution_count": null,
   "metadata": {},
   "outputs": [],
   "source": []
  },
  {
   "cell_type": "code",
   "execution_count": null,
   "metadata": {},
   "outputs": [],
   "source": [
    "#######################################\n",
    "# Perturb sensor visibility\n",
    "#######################################"
   ]
  },
  {
   "cell_type": "code",
   "execution_count": 278,
   "metadata": {},
   "outputs": [
    {
     "name": "stdout",
     "output_type": "stream",
     "text": [
      "23.897216763647364\n",
      "0.0\n",
      "0.273\n"
     ]
    },
    {
     "data": {
      "text/plain": [
       "Summary Stats:\n",
       "Mean:           0.353903\n",
       "Minimum:        0.325120\n",
       "1st Quartile:   0.347657\n",
       "Median:         0.353735\n",
       "3rd Quartile:   0.360160\n",
       "Maximum:        0.385896\n"
      ]
     },
     "execution_count": 278,
     "metadata": {},
     "output_type": "execute_result"
    }
   ],
   "source": [
    "# small perturbations\n",
    "\n",
    "num_trials = 1000\n",
    "nondetection_W_perturb = zeros(num_trials)\n",
    "diff_record = 0\n",
    "counter_neg_record = 0\n",
    "counter_1plus_record = 0\n",
    "for i=1:num_trials\n",
    "    new_W, counter_neg, counter_1plus = visibility_perturb(0.1)\n",
    "    counter_neg_record = counter_neg_record + counter_neg\n",
    "    counter_1plus_record = counter_1plus_record + counter_1plus\n",
    "    diff_record = diff_record + sum(abs.(new_W - W))\n",
    "    nondetection_W_perturb[i] = compute_non_detection(prior, new_W, c2c_tensor)\n",
    "end\n",
    "print(diff_record/num_trials,\"\\n\")\n",
    "print(counter_neg_record/num_trials,\"\\n\")\n",
    "print(counter_1plus_record/num_trials,\"\\n\")\n",
    "summarystats(nondetection_W_perturb)"
   ]
  },
  {
   "cell_type": "code",
   "execution_count": 279,
   "metadata": {},
   "outputs": [
    {
     "name": "stdout",
     "output_type": "stream",
     "text": [
      "105.33124498429943\n",
      "0.843\n",
      "3.062\n"
     ]
    },
    {
     "data": {
      "text/plain": [
       "Summary Stats:\n",
       "Mean:           0.383029\n",
       "Minimum:        0.255841\n",
       "1st Quartile:   0.346973\n",
       "Median:         0.379490\n",
       "3rd Quartile:   0.414168\n",
       "Maximum:        0.625405\n"
      ]
     },
     "execution_count": 279,
     "metadata": {},
     "output_type": "execute_result"
    }
   ],
   "source": [
    "# Med perturbations\n",
    "\n",
    "num_trials = 1000\n",
    "nondetection_W_perturb = zeros(num_trials)\n",
    "diff_record = 0\n",
    "counter_neg_record = 0\n",
    "counter_1plus_record = 0\n",
    "for i=1:num_trials\n",
    "    new_W, counter_neg, counter_1plus = visibility_perturb(0.5)\n",
    "    counter_neg_record = counter_neg_record + counter_neg\n",
    "    counter_1plus_record = counter_1plus_record + counter_1plus\n",
    "    diff_record = diff_record + sum(abs.(new_W - W))\n",
    "    nondetection_W_perturb[i] = compute_non_detection(prior, new_W, c2c_tensor)\n",
    "end\n",
    "print(diff_record/num_trials,\"\\n\")\n",
    "print(counter_neg_record/num_trials,\"\\n\")\n",
    "print(counter_1plus_record/num_trials,\"\\n\")\n",
    "summarystats(nondetection_W_perturb)"
   ]
  },
  {
   "cell_type": "code",
   "execution_count": 280,
   "metadata": {},
   "outputs": [
    {
     "name": "stdout",
     "output_type": "stream",
     "text": [
      "151.45938728075524\n",
      "5.703\n",
      "5.425\n"
     ]
    },
    {
     "data": {
      "text/plain": [
       "Summary Stats:\n",
       "Mean:           0.394578\n",
       "Minimum:        0.261822\n",
       "1st Quartile:   0.343975\n",
       "Median:         0.387776\n",
       "3rd Quartile:   0.437191\n",
       "Maximum:        0.620931\n"
      ]
     },
     "execution_count": 280,
     "metadata": {},
     "output_type": "execute_result"
    }
   ],
   "source": [
    "# Large perturbations\n",
    "\n",
    "num_trials = 1000\n",
    "nondetection_W_perturb = zeros(num_trials)\n",
    "diff_record = 0\n",
    "counter_neg_record = 0\n",
    "counter_1plus_record = 0\n",
    "for i=1:num_trials\n",
    "    new_W, counter_neg, counter_1plus = visibility_perturb(1)\n",
    "    counter_neg_record = counter_neg_record + counter_neg\n",
    "    counter_1plus_record = counter_1plus_record + counter_1plus\n",
    "    diff_record = diff_record + sum(abs.(new_W - W))\n",
    "    nondetection_W_perturb[i] = compute_non_detection(prior, new_W, c2c_tensor)\n",
    "end\n",
    "print(diff_record/num_trials,\"\\n\")\n",
    "print(counter_neg_record/num_trials,\"\\n\")\n",
    "print(counter_1plus_record/num_trials,\"\\n\")\n",
    "summarystats(nondetection_W_perturb)"
   ]
  },
  {
   "cell_type": "code",
   "execution_count": null,
   "metadata": {},
   "outputs": [],
   "source": []
  },
  {
   "cell_type": "code",
   "execution_count": null,
   "metadata": {},
   "outputs": [],
   "source": [
    "#######################################\n",
    "# Perturb movement distribution\n",
    "#######################################"
   ]
  },
  {
   "cell_type": "code",
   "execution_count": 283,
   "metadata": {},
   "outputs": [
    {
     "data": {
      "text/plain": [
       "move_perturb (generic function with 1 method)"
      ]
     },
     "execution_count": 283,
     "metadata": {},
     "output_type": "execute_result"
    }
   ],
   "source": [
    "function move_perturb(mag)\n",
    "    new_move = zeros(9)\n",
    "    counter = 0\n",
    "    for i = 1:length(new_move)\n",
    "        val = reshape(moving_mat,9)[i]\n",
    "        if val > 0\n",
    "            perturb = rand(Normal(0,val)) * mag\n",
    "            newval = val + perturb\n",
    "            if newval < 0\n",
    "                counter = counter + 1\n",
    "            end\n",
    "            newval = abs(newval)\n",
    "        else\n",
    "            newval = val # val == 0 case, do not apply perturbation\n",
    "        end\n",
    "        new_move[i] = newval\n",
    "    end\n",
    "    new_move = reshape(new_move/sum(new_move),3,3)\n",
    "    return new_move, counter\n",
    "end"
   ]
  },
  {
   "cell_type": "code",
   "execution_count": 297,
   "metadata": {},
   "outputs": [
    {
     "name": "stdout",
     "output_type": "stream",
     "text": [
      "0.06213856376701228\n",
      "0.0\n"
     ]
    },
    {
     "data": {
      "text/plain": [
       "Summary Stats:\n",
       "Mean:           0.352560\n",
       "Minimum:        0.330627\n",
       "1st Quartile:   0.347665\n",
       "Median:         0.352354\n",
       "3rd Quartile:   0.357615\n",
       "Maximum:        0.375724\n"
      ]
     },
     "execution_count": 297,
     "metadata": {},
     "output_type": "execute_result"
    }
   ],
   "source": [
    "# small perturbations\n",
    "\n",
    "num_trials = 1000\n",
    "nondetection_move_perturb = zeros(num_trials)\n",
    "diff_record = 0\n",
    "counter_record = 0\n",
    "for i=1:num_trials\n",
    "    new_move, counter = move_perturb(0.1)\n",
    "    new_c2c_tensor = construct_c2c(new_move)\n",
    "    counter_record = counter_record + counter\n",
    "    diff_record = diff_record + sum(abs.(new_move - moving_mat))\n",
    "    nondetection_W_perturb[i] = compute_non_detection(prior, W, new_c2c_tensor)\n",
    "end\n",
    "print(diff_record/num_trials,\"\\n\")\n",
    "print(counter_record/num_trials,\"\\n\")\n",
    "summarystats(nondetection_W_perturb)"
   ]
  },
  {
   "cell_type": "code",
   "execution_count": 298,
   "metadata": {},
   "outputs": [
    {
     "name": "stdout",
     "output_type": "stream",
     "text": [
      "0.3132406956662055\n",
      "0.084\n"
     ]
    },
    {
     "data": {
      "text/plain": [
       "Summary Stats:\n",
       "Mean:           0.357542\n",
       "Minimum:        0.282003\n",
       "1st Quartile:   0.330958\n",
       "Median:         0.353074\n",
       "3rd Quartile:   0.378474\n",
       "Maximum:        0.520167\n"
      ]
     },
     "execution_count": 298,
     "metadata": {},
     "output_type": "execute_result"
    }
   ],
   "source": [
    "# Med perturbations\n",
    "\n",
    "num_trials = 1000\n",
    "nondetection_move_perturb = zeros(num_trials)\n",
    "diff_record = 0\n",
    "counter_record = 0\n",
    "for i=1:num_trials\n",
    "    new_move, counter = move_perturb(0.5)\n",
    "    new_c2c_tensor = construct_c2c(new_move)\n",
    "    counter_record = counter_record + counter\n",
    "    diff_record = diff_record + sum(abs.(new_move - moving_mat))\n",
    "    nondetection_W_perturb[i] = compute_non_detection(prior, W, new_c2c_tensor)\n",
    "end\n",
    "print(diff_record/num_trials,\"\\n\")\n",
    "print(counter_record/num_trials,\"\\n\")\n",
    "summarystats(nondetection_W_perturb)"
   ]
  },
  {
   "cell_type": "code",
   "execution_count": 299,
   "metadata": {},
   "outputs": [
    {
     "name": "stdout",
     "output_type": "stream",
     "text": [
      "0.4692413238667059\n",
      "0.62\n"
     ]
    },
    {
     "data": {
      "text/plain": [
       "Summary Stats:\n",
       "Mean:           0.364373\n",
       "Minimum:        0.270889\n",
       "1st Quartile:   0.323145\n",
       "Median:         0.353290\n",
       "3rd Quartile:   0.396531\n",
       "Maximum:        0.531975\n"
      ]
     },
     "execution_count": 299,
     "metadata": {},
     "output_type": "execute_result"
    }
   ],
   "source": [
    "# Large perturbations\n",
    "\n",
    "num_trials = 1000\n",
    "nondetection_move_perturb = zeros(num_trials)\n",
    "diff_record = 0\n",
    "counter_record = 0\n",
    "for i=1:num_trials\n",
    "    new_move, counter = move_perturb(1)\n",
    "    new_c2c_tensor = construct_c2c(new_move)\n",
    "    counter_record = counter_record + counter\n",
    "    diff_record = diff_record + sum(abs.(new_move - moving_mat))\n",
    "    nondetection_W_perturb[i] = compute_non_detection(prior, W, new_c2c_tensor)\n",
    "end\n",
    "print(diff_record/num_trials,\"\\n\")\n",
    "print(counter_record/num_trials,\"\\n\")\n",
    "summarystats(nondetection_W_perturb)"
   ]
  },
  {
   "cell_type": "code",
   "execution_count": null,
   "metadata": {},
   "outputs": [],
   "source": []
  },
  {
   "cell_type": "code",
   "execution_count": null,
   "metadata": {},
   "outputs": [],
   "source": []
  },
  {
   "cell_type": "code",
   "execution_count": null,
   "metadata": {},
   "outputs": [],
   "source": []
  },
  {
   "cell_type": "code",
   "execution_count": null,
   "metadata": {},
   "outputs": [],
   "source": [
    "####################################################\n",
    "## Comparing my own implementation results vs the paper. Not relevant to the discussion of this notebook\n",
    "#####################################################\n",
    "\n",
    "# rows denote each iteration of going to myopic search plan to\n",
    "# optimal search plan\n",
    "# column denote each time step within the iteration\n",
    "moving_target_obj_vec\n",
    "\n",
    "\n",
    "Time    Myopic                  Optimal\n",
    "        Paper       Mine        Paper       Mine\n",
    "1       0.8198461   0.817348    0.2962617   0.352191\n",
    "2       0.6379034   0.652625    0.2958389   0.351842\n",
    "3       0.4727772   0.506620    0.2954212   0.351133\n",
    "4       0.3325033   0.392449    0.2950101   0.350590"
   ]
  },
  {
   "cell_type": "code",
   "execution_count": null,
   "metadata": {},
   "outputs": [],
   "source": []
  },
  {
   "cell_type": "code",
   "execution_count": null,
   "metadata": {},
   "outputs": [],
   "source": []
  },
  {
   "cell_type": "code",
   "execution_count": null,
   "metadata": {},
   "outputs": [],
   "source": []
  }
 ],
 "metadata": {
  "anaconda-cloud": {},
  "kernelspec": {
   "display_name": "Julia 0.6.0",
   "language": "julia",
   "name": "julia-0.6"
  },
  "language_info": {
   "file_extension": ".jl",
   "mimetype": "application/julia",
   "name": "julia",
   "version": "0.6.0"
  }
 },
 "nbformat": 4,
 "nbformat_minor": 2
}
