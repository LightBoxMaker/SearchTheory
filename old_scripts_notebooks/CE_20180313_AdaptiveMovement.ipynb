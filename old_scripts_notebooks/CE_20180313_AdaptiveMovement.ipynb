{
 "cells": [
  {
   "cell_type": "code",
   "execution_count": 1,
   "metadata": {},
   "outputs": [
    {
     "name": "stderr",
     "output_type": "stream",
     "text": [
      "WARNING: Method definition midpoints(Base.Range{T} where T) in module Base at deprecated.jl:56 overwritten in module StatsBase at /home/cqgz21/.julia/v0.6/StatsBase/src/hist.jl:535.\n",
      "WARNING: Method definition midpoints(AbstractArray{T, 1} where T) in module Base at deprecated.jl:56 overwritten in module StatsBase at /home/cqgz21/.julia/v0.6/StatsBase/src/hist.jl:533.\n",
      "WARNING: Method definition midpoints(Base.Range{T} where T) in module Base at deprecated.jl:56 overwritten in module StatsBase at /home/cqgz21/.julia/v0.6/StatsBase/src/hist.jl:535.\n",
      "WARNING: Method definition midpoints(AbstractArray{T, 1} where T) in module Base at deprecated.jl:56 overwritten in module StatsBase at /home/cqgz21/.julia/v0.6/StatsBase/src/hist.jl:533.\n",
      "WARNING: Method definition midpoints(Base.Range{T} where T) in module Base at deprecated.jl:56 overwritten in module StatsBase at /home/cqgz21/.julia/v0.6/StatsBase/src/hist.jl:535.\n",
      "WARNING: Method definition midpoints(AbstractArray{T, 1} where T) in module Base at deprecated.jl:56 overwritten in module StatsBase at /home/cqgz21/.julia/v0.6/StatsBase/src/hist.jl:533.\n",
      "WARNING: Method definition midpoints(Base.Range{T} where T) in module Base at deprecated.jl:56 overwritten in module StatsBase at /home/cqgz21/.julia/v0.6/StatsBase/src/hist.jl:535.\n",
      "WARNING: Method definition midpoints(AbstractArray{T, 1} where T) in module Base at deprecated.jl:56 overwritten in module StatsBase at /home/cqgz21/.julia/v0.6/StatsBase/src/hist.jl:533.\n",
      "WARNING: Method definition midpoints(Base.Range{T} where T) in module Base at deprecated.jl:56 overwritten in module StatsBase at /home/cqgz21/.julia/v0.6/StatsBase/src/hist.jl:535.\n",
      "WARNING: Method definition midpoints(AbstractArray{T, 1} where T) in module Base at deprecated.jl:56 overwritten in module StatsBase at /home/cqgz21/.julia/v0.6/StatsBase/src/hist.jl:533.\n",
      "WARNING: Method definition midpoints(Base.Range{T} where T) in module Base at deprecated.jl:56 overwritten in module StatsBase at /home/cqgz21/.julia/v0.6/StatsBase/src/hist.jl:535.\n",
      "WARNING: Method definition midpoints(AbstractArray{T, 1} where T) in module Base at deprecated.jl:56 overwritten in module StatsBase at /home/cqgz21/.julia/v0.6/StatsBase/src/hist.jl:533.\n",
      "WARNING: Method definition midpoints(Base.Range{T} where T) in module Base at deprecated.jl:56 overwritten in module StatsBase at /home/cqgz21/.julia/v0.6/StatsBase/src/hist.jl:535.\n",
      "WARNING: Method definition midpoints(AbstractArray{T, 1} where T) in module Base at deprecated.jl:56 overwritten in module StatsBase at /home/cqgz21/.julia/v0.6/StatsBase/src/hist.jl:533.\n",
      "WARNING: Method definition midpoints(Base.Range{T} where T) in module Base at deprecated.jl:56 overwritten in module StatsBase at /home/cqgz21/.julia/v0.6/StatsBase/src/hist.jl:535.\n",
      "WARNING: Method definition midpoints(AbstractArray{T, 1} where T) in module Base at deprecated.jl:56 overwritten in module StatsBase at /home/cqgz21/.julia/v0.6/StatsBase/src/hist.jl:533.\n",
      "WARNING: Method definition midpoints(Base.Range{T} where T) in module Base at deprecated.jl:56 overwritten in module StatsBase at /home/cqgz21/.julia/v0.6/StatsBase/src/hist.jl:535.\n",
      "WARNING: Method definition midpoints(AbstractArray{T, 1} where T) in module Base at deprecated.jl:56 overwritten in module StatsBase at /home/cqgz21/.julia/v0.6/StatsBase/src/hist.jl:533.\n",
      "WARNING: Method definition midpoints(Base.Range{T} where T) in module Base at deprecated.jl:56 overwritten in module StatsBase at /home/cqgz21/.julia/v0.6/StatsBase/src/hist.jl:535.\n",
      "WARNING: Method definition midpoints(AbstractArray{T, 1} where T) in module Base at deprecated.jl:56 overwritten in module StatsBase at /home/cqgz21/.julia/v0.6/StatsBase/src/hist.jl:533.\n",
      "WARNING: Method definition midpoints(Base.Range{T} where T) in module Base at deprecated.jl:56 overwritten in module StatsBase at /home/cqgz21/.julia/v0.6/StatsBase/src/hist.jl:535.\n",
      "WARNING: Method definition midpoints(AbstractArray{T, 1} where T) in module Base at deprecated.jl:56 overwritten in module StatsBase at /home/cqgz21/.julia/v0.6/StatsBase/src/hist.jl:533.\n",
      "WARNING: Method definition midpoints(Base.Range{T} where T) in module Base at deprecated.jl:56 overwritten in module StatsBase at /home/cqgz21/.julia/v0.6/StatsBase/src/hist.jl:535.\n",
      "WARNING: Method definition midpoints(AbstractArray{T, 1} where T) in module Base at deprecated.jl:56 overwritten in module StatsBase at /home/cqgz21/.julia/v0.6/StatsBase/src/hist.jl:533.\n",
      "WARNING: Method definition midpoints(Base.Range{T} where T) in module Base at deprecated.jl:56 overwritten in module StatsBase at /home/cqgz21/.julia/v0.6/StatsBase/src/hist.jl:535.\n",
      "WARNING: Method definition midpoints(AbstractArray{T, 1} where T) in module Base at deprecated.jl:56 overwritten in module StatsBase at /home/cqgz21/.julia/v0.6/StatsBase/src/hist.jl:533.\n",
      "WARNING: Method definition midpoints(Base.Range{T} where T) in module Base at deprecated.jl:56 overwritten in module StatsBase at /home/cqgz21/.julia/v0.6/StatsBase/src/hist.jl:535.\n",
      "WARNING: Method definition midpoints(AbstractArray{T, 1} where T) in module Base at deprecated.jl:56 overwritten in module StatsBase at /home/cqgz21/.julia/v0.6/StatsBase/src/hist.jl:533.\n",
      "WARNING: Method definition midpoints(Base.Range{T} where T) in module Base at deprecated.jl:56 overwritten in module StatsBase at /home/cqgz21/.julia/v0.6/StatsBase/src/hist.jl:535.\n",
      "WARNING: Method definition midpoints(AbstractArray{T, 1} where T) in module Base at deprecated.jl:56 overwritten in module StatsBase at /home/cqgz21/.julia/v0.6/StatsBase/src/hist.jl:533.\n",
      "WARNING: Method definition midpoints(Base.Range{T} where T) in module Base at deprecated.jl:56 overwritten in module StatsBase at /home/cqgz21/.julia/v0.6/StatsBase/src/hist.jl:535.\n",
      "WARNING: Method definition midpoints(AbstractArray{T, 1} where T) in module Base at deprecated.jl:56 overwritten in module StatsBase at /home/cqgz21/.julia/v0.6/StatsBase/src/hist.jl:533.\n",
      "WARNING: Method definition midpoints(Base.Range{T} where T) in module Base at deprecated.jl:56 overwritten in module StatsBase at /home/cqgz21/.julia/v0.6/StatsBase/src/hist.jl:535.\n",
      "WARNING: Method definition midpoints(AbstractArray{T, 1} where T) in module Base at deprecated.jl:56 overwritten in module StatsBase at /home/cqgz21/.julia/v0.6/StatsBase/src/hist.jl:533.\n",
      "WARNING: Method definition midpoints(Base.Range{T} where T) in module Base at deprecated.jl:56 overwritten in module StatsBase at /home/cqgz21/.julia/v0.6/StatsBase/src/hist.jl:535.\n",
      "WARNING: Method definition midpoints(AbstractArray{T, 1} where T) in module Base at deprecated.jl:56 overwritten in module StatsBase at /home/cqgz21/.julia/v0.6/StatsBase/src/hist.jl:533.\n",
      "WARNING: Method definition midpoints(Base.Range{T} where T) in module Base at deprecated.jl:56 overwritten in module StatsBase at /home/cqgz21/.julia/v0.6/StatsBase/src/hist.jl:535.\n",
      "WARNING: Method definition midpoints(AbstractArray{T, 1} where T) in module Base at deprecated.jl:56 overwritten in module StatsBase at /home/cqgz21/.julia/v0.6/StatsBase/src/hist.jl:533.\n",
      "WARNING: Method definition midpoints(Base.Range{T} where T) in module Base at deprecated.jl:56 overwritten in module StatsBase at /home/cqgz21/.julia/v0.6/StatsBase/src/hist.jl:535.\n",
      "WARNING: Method definition midpoints(AbstractArray{T, 1} where T) in module Base at deprecated.jl:56 overwritten in module StatsBase at /home/cqgz21/.julia/v0.6/StatsBase/src/hist.jl:533.\n",
      "WARNING: Method definition midpoints(Base.Range{T} where T) in module Base at deprecated.jl:56 overwritten in module StatsBase at /home/cqgz21/.julia/v0.6/StatsBase/src/hist.jl:535.\n",
      "WARNING: Method definition midpoints(AbstractArray{T, 1} where T) in module Base at deprecated.jl:56 overwritten in module StatsBase at /home/cqgz21/.julia/v0.6/StatsBase/src/hist.jl:533.\n",
      "WARNING: Method definition midpoints(Base.Range{T} where T) in module Base at deprecated.jl:56 overwritten in module StatsBase at /home/cqgz21/.julia/v0.6/StatsBase/src/hist.jl:535.\n",
      "WARNING: Method definition midpoints(AbstractArray{T, 1} where T) in module Base at deprecated.jl:56 overwritten in module StatsBase at /home/cqgz21/.julia/v0.6/StatsBase/src/hist.jl:533.\n",
      "WARNING: Method definition midpoints(Base.Range{T} where T) in module Base at deprecated.jl:56 overwritten in module StatsBase at /home/cqgz21/.julia/v0.6/StatsBase/src/hist.jl:535.\n",
      "WARNING: Method definition midpoints(AbstractArray{T, 1} where T) in module Base at deprecated.jl:56 overwritten in module StatsBase at /home/cqgz21/.julia/v0.6/StatsBase/src/hist.jl:533.\n",
      "WARNING: Method definition midpoints(Base.Range{T} where T) in module Base at deprecated.jl:56 overwritten in module StatsBase at /home/cqgz21/.julia/v0.6/StatsBase/src/hist.jl:535.\n",
      "WARNING: Method definition midpoints(AbstractArray{T, 1} where T) in module Base at deprecated.jl:56 overwritten in module StatsBase at /home/cqgz21/.julia/v0.6/StatsBase/src/hist.jl:533.\n",
      "WARNING: Method definition midpoints(Base.Range{T} where T) in module Base at deprecated.jl:56 overwritten in module StatsBase at /home/cqgz21/.julia/v0.6/StatsBase/src/hist.jl:535.\n",
      "WARNING: Method definition midpoints(AbstractArray{T, 1} where T) in module Base at deprecated.jl:56 overwritten in module StatsBase at /home/cqgz21/.julia/v0.6/StatsBase/src/hist.jl:533.\n",
      "WARNING: Method definition midpoints(Base.Range{T} where T) in module Base at deprecated.jl:56 overwritten in module StatsBase at /home/cqgz21/.julia/v0.6/StatsBase/src/hist.jl:535.\n",
      "WARNING: Method definition midpoints(AbstractArray{T, 1} where T) in module Base at deprecated.jl:56 overwritten in module StatsBase at /home/cqgz21/.julia/v0.6/StatsBase/src/hist.jl:533.\n"
     ]
    },
    {
     "name": "stderr",
     "output_type": "stream",
     "text": [
      "WARNING: Method definition midpoints(Base.Range{T} where T) in module Base at deprecated.jl:56 overwritten in module StatsBase at /home/cqgz21/.julia/v0.6/StatsBase/src/hist.jl:535.\n",
      "WARNING: Method definition midpoints(AbstractArray{T, 1} where T) in module Base at deprecated.jl:56 overwritten in module StatsBase at /home/cqgz21/.julia/v0.6/StatsBase/src/hist.jl:533.\n",
      "WARNING: Method definition midpoints(Base.Range{T} where T) in module Base at deprecated.jl:56 overwritten in module StatsBase at /home/cqgz21/.julia/v0.6/StatsBase/src/hist.jl:535.\n",
      "WARNING: Method definition midpoints(AbstractArray{T, 1} where T) in module Base at deprecated.jl:56 overwritten in module StatsBase at /home/cqgz21/.julia/v0.6/StatsBase/src/hist.jl:533.\n",
      "WARNING: Method definition midpoints(Base.Range{T} where T) in module Base at deprecated.jl:56 overwritten in module StatsBase at /home/cqgz21/.julia/v0.6/StatsBase/src/hist.jl:535.\n",
      "WARNING: Method definition midpoints(AbstractArray{T, 1} where T) in module Base at deprecated.jl:56 overwritten in module StatsBase at /home/cqgz21/.julia/v0.6/StatsBase/src/hist.jl:533.\n",
      "WARNING: Method definition midpoints(Base.Range{T} where T) in module Base at deprecated.jl:56 overwritten in module StatsBase at /home/cqgz21/.julia/v0.6/StatsBase/src/hist.jl:535.\n",
      "WARNING: Method definition midpoints(AbstractArray{T, 1} where T) in module Base at deprecated.jl:56 overwritten in module StatsBase at /home/cqgz21/.julia/v0.6/StatsBase/src/hist.jl:533.\n",
      "WARNING: Method definition midpoints(Base.Range{T} where T) in module Base at deprecated.jl:56 overwritten in module StatsBase at /home/cqgz21/.julia/v0.6/StatsBase/src/hist.jl:535.\n",
      "WARNING: Method definition midpoints(AbstractArray{T, 1} where T) in module Base at deprecated.jl:56 overwritten in module StatsBase at /home/cqgz21/.julia/v0.6/StatsBase/src/hist.jl:533.\n",
      "WARNING: Method definition midpoints(Base.Range{T} where T) in module Base at deprecated.jl:56 overwritten in module StatsBase at /home/cqgz21/.julia/v0.6/StatsBase/src/hist.jl:535.\n",
      "WARNING: Method definition midpoints(AbstractArray{T, 1} where T) in module Base at deprecated.jl:56 overwritten in module StatsBase at /home/cqgz21/.julia/v0.6/StatsBase/src/hist.jl:533.\n",
      "WARNING: Method definition midpoints(Base.Range{T} where T) in module Base at deprecated.jl:56 overwritten in module StatsBase at /home/cqgz21/.julia/v0.6/StatsBase/src/hist.jl:535.\n",
      "WARNING: Method definition midpoints(AbstractArray{T, 1} where T) in module Base at deprecated.jl:56 overwritten in module StatsBase at /home/cqgz21/.julia/v0.6/StatsBase/src/hist.jl:533.\n",
      "WARNING: Method definition midpoints(Base.Range{T} where T) in module Base at deprecated.jl:56 overwritten in module StatsBase at /home/cqgz21/.julia/v0.6/StatsBase/src/hist.jl:535.\n",
      "WARNING: Method definition midpoints(AbstractArray{T, 1} where T) in module Base at deprecated.jl:56 overwritten in module StatsBase at /home/cqgz21/.julia/v0.6/StatsBase/src/hist.jl:533.\n",
      "WARNING: Method definition midpoints(Base.Range{T} where T) in module Base at deprecated.jl:56 overwritten in module StatsBase at /home/cqgz21/.julia/v0.6/StatsBase/src/hist.jl:535.\n",
      "WARNING: Method definition midpoints(AbstractArray{T, 1} where T) in module Base at deprecated.jl:56 overwritten in module StatsBase at /home/cqgz21/.julia/v0.6/StatsBase/src/hist.jl:533.\n",
      "WARNING: Method definition midpoints(Base.Range{T} where T) in module Base at deprecated.jl:56 overwritten in module StatsBase at /home/cqgz21/.julia/v0.6/StatsBase/src/hist.jl:535.\n",
      "WARNING: Method definition midpoints(AbstractArray{T, 1} where T) in module Base at deprecated.jl:56 overwritten in module StatsBase at /home/cqgz21/.julia/v0.6/StatsBase/src/hist.jl:533.\n",
      "WARNING: Method definition midpoints(Base.Range{T} where T) in module Base at deprecated.jl:56 overwritten in module StatsBase at /home/cqgz21/.julia/v0.6/StatsBase/src/hist.jl:535.\n",
      "WARNING: Method definition midpoints(AbstractArray{T, 1} where T) in module Base at deprecated.jl:56 overwritten in module StatsBase at /home/cqgz21/.julia/v0.6/StatsBase/src/hist.jl:533.\n",
      "WARNING: Method definition midpoints(Base.Range{T} where T) in module Base at deprecated.jl:56 overwritten in module StatsBase at /home/cqgz21/.julia/v0.6/StatsBase/src/hist.jl:535.\n",
      "WARNING: Method definition midpoints(AbstractArray{T, 1} where T) in module Base at deprecated.jl:56 overwritten in module StatsBase at /home/cqgz21/.julia/v0.6/StatsBase/src/hist.jl:533.\n",
      "WARNING: Method definition midpoints(Base.Range{T} where T) in module Base at deprecated.jl:56 overwritten in module StatsBase at /home/cqgz21/.julia/v0.6/StatsBase/src/hist.jl:535.\n",
      "WARNING: Method definition midpoints(AbstractArray{T, 1} where T) in module Base at deprecated.jl:56 overwritten in module StatsBase at /home/cqgz21/.julia/v0.6/StatsBase/src/hist.jl:533.\n",
      "WARNING: Method definition midpoints(Base.Range{T} where T) in module Base at deprecated.jl:56 overwritten in module StatsBase at /home/cqgz21/.julia/v0.6/StatsBase/src/hist.jl:535.\n",
      "WARNING: Method definition midpoints(AbstractArray{T, 1} where T) in module Base at deprecated.jl:56 overwritten in module StatsBase at /home/cqgz21/.julia/v0.6/StatsBase/src/hist.jl:533.\n",
      "WARNING: Method definition midpoints(Base.Range{T} where T) in module Base at deprecated.jl:56 overwritten in module StatsBase at /home/cqgz21/.julia/v0.6/StatsBase/src/hist.jl:535.\n",
      "WARNING: Method definition midpoints(AbstractArray{T, 1} where T) in module Base at deprecated.jl:56 overwritten in module StatsBase at /home/cqgz21/.julia/v0.6/StatsBase/src/hist.jl:533.\n",
      "WARNING: Method definition midpoints(Base.Range{T} where T) in module Base at deprecated.jl:56 overwritten in module StatsBase at /home/cqgz21/.julia/v0.6/StatsBase/src/hist.jl:535.\n",
      "WARNING: Method definition midpoints(AbstractArray{T, 1} where T) in module Base at deprecated.jl:56 overwritten in module StatsBase at /home/cqgz21/.julia/v0.6/StatsBase/src/hist.jl:533.\n",
      "WARNING: Method definition midpoints(Base.Range{T} where T) in module Base at deprecated.jl:56 overwritten in module StatsBase at /home/cqgz21/.julia/v0.6/StatsBase/src/hist.jl:535.\n",
      "WARNING: Method definition midpoints(AbstractArray{T, 1} where T) in module Base at deprecated.jl:56 overwritten in module StatsBase at /home/cqgz21/.julia/v0.6/StatsBase/src/hist.jl:533.\n",
      "WARNING: Method definition midpoints(Base.Range{T} where T) in module Base at deprecated.jl:56 overwritten in module StatsBase at /home/cqgz21/.julia/v0.6/StatsBase/src/hist.jl:535.\n",
      "WARNING: Method definition midpoints(AbstractArray{T, 1} where T) in module Base at deprecated.jl:56 overwritten in module StatsBase at /home/cqgz21/.julia/v0.6/StatsBase/src/hist.jl:533.\n",
      "WARNING: Method definition midpoints(Base.Range{T} where T) in module Base at deprecated.jl:56 overwritten in module StatsBase at /home/cqgz21/.julia/v0.6/StatsBase/src/hist.jl:535.\n",
      "WARNING: Method definition midpoints(AbstractArray{T, 1} where T) in module Base at deprecated.jl:56 overwritten in module StatsBase at /home/cqgz21/.julia/v0.6/StatsBase/src/hist.jl:533.\n",
      "WARNING: Method definition midpoints(Base.Range{T} where T) in module Base at deprecated.jl:56 overwritten in module StatsBase at /home/cqgz21/.julia/v0.6/StatsBase/src/hist.jl:535.\n",
      "WARNING: Method definition midpoints(AbstractArray{T, 1} where T) in module Base at deprecated.jl:56 overwritten in module StatsBase at /home/cqgz21/.julia/v0.6/StatsBase/src/hist.jl:533.\n",
      "WARNING: Method definition midpoints(Base.Range{TWARNING: Method definition midpoints(Base.Range{T} where T) in module Base at deprecated.jl:56 overwritten in module StatsBase at /home/cqgz21/.julia/v0.6/StatsBase/src/hist.jl:535.\n",
      "WARNING: Method definition midpoints(AbstractArray{T, 1} where T) in module Base at deprecated.jl:56 overwritten in module StatsBase at /home/cqgz21/.julia/v0.6/StatsBase/src/hist.jl:533.\n",
      "} where T) in module Base at deprecated.jl:56 overwritten in module StatsBase at /home/cqgz21/.julia/v0.6/StatsBase/src/hist.jl:535.\n",
      "WARNING: Method definition midpoints(AbstractArray{T, 1} where T) in module Base at deprecated.jl:56 overwritten in module StatsBase at /home/cqgz21/.julia/v0.6/StatsBase/src/hist.jl:533.\n",
      "WARNING: Method definition midpoints(Base.Range{T} where T) in module Base at deprecated.jl:56 overwritten in module StatsBase at /home/cqgz21/.julia/v0.6/StatsBase/src/hist.jl:535.\n",
      "WARNING: Method definition midpoints(AbstractArray{T, 1} where T) in module Base at deprecated.jl:56 overwritten in module StatsBase at /home/cqgz21/.julia/v0.6/StatsBase/src/hist.jl:533.\n"
     ]
    },
    {
     "name": "stderr",
     "output_type": "stream",
     "text": [
      "WARNING: Method definition midpoints(Base.Range{T} where T) in module Base at deprecated.jl:56 overwritten in module StatsBase at /home/cqgz21/.julia/v0.6/StatsBase/src/hist.jl:535.\n",
      "WARNING: Method definition midpoints(AbstractArray{T, 1} where T) in module Base at deprecated.jl:56 overwritten in module StatsBase at /home/cqgz21/.julia/v0.6/StatsBase/src/hist.jl:533.\n",
      "WARNING: Method definition midpoints(Base.Range{T} where T) in module Base at deprecated.jl:56 overwritten in module StatsBase at /home/cqgz21/.julia/v0.6/StatsBase/src/hist.jl:535.\n",
      "WARNING: Method definition midpoints(AbstractArray{T, 1} where T) in module Base at deprecated.jl:56 overwritten in module StatsBase at /home/cqgz21/.julia/v0.6/StatsBase/src/hist.jl:533.\n"
     ]
    }
   ],
   "source": [
    "CPU_CORES = 51\n",
    "addprocs(CPU_CORES - 1);\n",
    "@everywhere using DistributedArrays, JuMP, Distributions, Ipopt\n",
    "using StatsBase"
   ]
  },
  {
   "cell_type": "code",
   "execution_count": 2,
   "metadata": {},
   "outputs": [
    {
     "name": "stdout",
     "output_type": "stream",
     "text": [
      "51\n",
      "50\n",
      "[2, 3, 4, 5, 6, 7, 8, 9, 10, 11, 12, 13, 14, 15, 16, 17, 18, 19, 20, 21, 22, 23, 24, 25, 26, 27, 28, 29, 30, 31, 32, 33, 34, 35, 36, 37, 38, 39, 40, 41, 42, 43, 44, 45, 46, 47, 48, 49, 50, 51]\n"
     ]
    }
   ],
   "source": [
    "print(nprocs(),\"\\n\")\n",
    "print(nworkers(),\"\\n\")\n",
    "print(workers(),\"\\n\")"
   ]
  },
  {
   "cell_type": "code",
   "execution_count": 3,
   "metadata": {},
   "outputs": [],
   "source": [
    "@everywhere landscape1= [0. 0 0 2 2 0 0 0 2 0 0 2;\n",
    "              2 0 1 2 5 5 0 0 2 0 0 0;\n",
    "              3 1 2 2 1 1 2 0 0 3 0 0;\n",
    "              2 1 1 2 1 2 2 0 3 4 4 0\n",
    "              2 2 1 1 1 1 1 0 3 4 4 3;\n",
    "              2 2 1 1 1 1 1 1 3 3 3 0;\n",
    "              0 2 0 1 5 5 5 0 1 1 0 3;\n",
    "              3 0 0 1 0 0 2 0 0 3 1 3;\n",
    "              3 4 0 1 1 3 2 2 2 3 3 3;\n",
    "              4 3 2 0 0 3 2 2 2 3 2 2] + 1\n",
    "@everywhere Ncell = 30"
   ]
  },
  {
   "cell_type": "code",
   "execution_count": 4,
   "metadata": {},
   "outputs": [],
   "source": [
    "@everywhere function create_pixel_mat(landscape, ordered_vec)\n",
    "    retmat = deepcopy(landscape)\n",
    "    for i = 1:length(ordered_vec)\n",
    "        retmat[abs.(retmat - i) .< 0.000000001] = ordered_vec[i]\n",
    "    end\n",
    "    \n",
    "    if size(retmat) == (10,12)\n",
    "        retmat_zone = hcat(reshape(retmat[1:5 , 1:6],Ncell),\n",
    "            reshape(retmat[1:5 , 7:12],Ncell),\n",
    "            reshape(retmat[6:10 , 1:6],Ncell),\n",
    "            reshape(retmat[6:10 , 7:12],Ncell))\n",
    "    end\n",
    "    retmat_zone\n",
    "end\n"
   ]
  },
  {
   "cell_type": "code",
   "execution_count": 5,
   "metadata": {},
   "outputs": [
    {
     "data": {
      "text/plain": [
       "5"
      ]
     },
     "execution_count": 5,
     "metadata": {},
     "output_type": "execute_result"
    }
   ],
   "source": [
    "# Using the prior and visibility info given in the DCA paper\n",
    "# These have @everywhere because they are fixed. Better declare them in each process rather than\n",
    "# copying from the parent process\n",
    "@everywhere s1 = create_pixel_mat(landscape1, [0.4,0.9,0.3,0.2,0.1,0.8])\n",
    "@everywhere s2 = create_pixel_mat(landscape1, [0.5,0.1,0.1,0.7,0.6,0.9])\n",
    "@everywhere s3 = create_pixel_mat(landscape1, [0.6,0.1,0.4,0.8,0.7,0.1])\n",
    "@everywhere s4 = create_pixel_mat(landscape1, [0.8,0.1,0.6,0.2,0.1,0.7])\n",
    "@everywhere s5 = create_pixel_mat(landscape1, [0.5,0.3,0.5,0.4,0.3,0.6])\n",
    "@everywhere s6 = create_pixel_mat(landscape1, [0.1,0.5,0.2,0.6,0.5,0.2])\n",
    "\n",
    "\n",
    "\n",
    "\n",
    "@everywhere Z = 4 # number of zones\n",
    "@everywhere S = 6 # number of sensors\n",
    "W = reshape(hcat(s1,s2,s3,s4,s5,s6),Ncell,Z,S) # visibility tensor\n",
    "\n",
    "# Decrease censors' visibility\n",
    "W = W/6\n",
    "\n",
    "\n",
    "\n",
    "@everywhere θ = 0.3\n",
    "@everywhere N = 30 # Threshold at every worker needs it\n",
    "@everywhere Threshold = convert(Int64,floor(N * θ)) # for accepting P computed from each sample\n",
    "@everywhere epsilon = 1e-5\n",
    "\n",
    "\n",
    "# No @everywhere because these are only used by the parent process\n",
    "maxiter = 15 # number of iterations for \n",
    "\n",
    "\n",
    "\n",
    "# No @everywhere because these are changing, pass into functions as parameters\n",
    "\n",
    "Φ = 5\n",
    "# prior_ordered_vec = [0.0085,0.001,0.0115,0.013,0.014,0] # prior of target, order given in the paper\n",
    "# prior = create_pixel_mat(landscape1, prior_ordered_vec)\n",
    "# print(sum(prior))\n",
    "\n",
    "\n",
    "\n"
   ]
  },
  {
   "cell_type": "code",
   "execution_count": null,
   "metadata": {},
   "outputs": [],
   "source": []
  },
  {
   "cell_type": "code",
   "execution_count": 6,
   "metadata": {},
   "outputs": [
    {
     "data": {
      "text/plain": [
       "CE_parallel (generic function with 1 method)"
      ]
     },
     "execution_count": 6,
     "metadata": {},
     "output_type": "execute_result"
    }
   ],
   "source": [
    "\n",
    "\n",
    "\n",
    "####################################\n",
    "## CE Algorithm parallel N\n",
    "\n",
    "@everywhere function solve_alloc(u, Φ,prior,W)\n",
    "\n",
    "    m_ϕ = Model(solver = IpoptSolver(print_level=0))\n",
    "\n",
    "    @variable(m_ϕ,ϕvar[1:Ncell,1:Z,1:S]) # resource allocation for each senor in each zone in each cell\n",
    "    @variable(m_ϕ,exponential[1:Ncell,1:Z])\n",
    "    @variable(m_ϕ, aux[1:Ncell,1:Z])\n",
    "    @objective(m_ϕ, Min, sum(prior .* exponential))\n",
    "    @NLconstraint(m_ϕ, [i=1:Ncell,j=1:Z], exp(aux[i,j]) <= exponential[i,j])\n",
    "    @constraint(m_ϕ,aux .== squeeze(-sum(W .* ϕvar .* reshape(u,1,Z,S),3),3))\n",
    "    @constraint(m_ϕ, exponential .>= 0)\n",
    "    @constraint(m_ϕ,ϕvar .>= 0)\n",
    "    @constraint(m_ϕ,[i=1:Z,j=1:S],sum(ϕvar[:,i,j]) <= Φ)\n",
    "\n",
    "    solve(m_ϕ)\n",
    "    getobjectivevalue(m_ϕ), transpose(u)\n",
    "end\n",
    "    \n",
    "    \n",
    "\n",
    "function CE_parallel(Φ,prior,W)\n",
    "    \n",
    "    P = ones(S,Z)/Z\n",
    "    ind = true\n",
    "    P_holder = zeros(S,Z)\n",
    "    for iter=1:maxiter\n",
    "\n",
    "        cumsumP = cumsum(P,2)\n",
    "        \n",
    "        vec_tile = rand(Uniform(0,1), S * N,1)\n",
    "        cumsumP_tile = repmat(cumsumP,N)\n",
    "        which_zone = floor.(findmax(cumsumP_tile .> vec_tile,2)[2] / (S*N) - epsilon) + 1\n",
    "        u = abs.(repmat(transpose(1:Z),S*N,1) .- which_zone) .< epsilon\n",
    "        u = transpose(u)\n",
    "        \n",
    "        arr_obj = []\n",
    "        arr_assign = zeros(S,Z,N)\n",
    "#         tic()\n",
    "        retobj = @DArray [solve_alloc(u[:,(i-1)*S+1:i*S],Φ,prior,W) for i = 1:N]\n",
    "#         toc()\n",
    "        for i = 1:N\n",
    "            push!(arr_obj, retobj[i][1])\n",
    "            arr_assign[:,:,i] = retobj[i][2]\n",
    "        end\n",
    " \n",
    "        best_ind = sortperm(arr_obj)[1:Threshold]\n",
    "        P = squeeze(sum(arr_assign[:,:,best_ind],3)/Threshold,3)\n",
    "        \n",
    "        if sum(abs.(P - 1) .<=0.000001) == S\n",
    "#             print(iter,'\\n')\n",
    "            break\n",
    "        end\n",
    "    end\n",
    "    \n",
    "    u = transpose(P)\n",
    "    m_ϕ = Model(solver = IpoptSolver(print_level=0))\n",
    "\n",
    "    @variable(m_ϕ,ϕvar[1:Ncell,1:Z,1:S])\n",
    "    @variable(m_ϕ,exponential[1:Ncell,1:Z])\n",
    "    @variable(m_ϕ, aux[1:Ncell,1:Z])\n",
    "    @objective(m_ϕ, Min, sum(prior .* exponential))\n",
    "    @NLconstraint(m_ϕ, [i=1:Ncell,j=1:Z], exp(aux[i,j]) <= exponential[i,j])\n",
    "    @constraint(m_ϕ,aux .== squeeze(-sum(W .* ϕvar .* reshape(u,1,Z,S),3),3))\n",
    "    @constraint(m_ϕ, exponential .>= 0)\n",
    "    @constraint(m_ϕ,ϕvar .>= 0)\n",
    "    @constraint(m_ϕ,[i=1:Z,j=1:S],sum(ϕvar[:,i,j]) <= Φ)\n",
    "\n",
    "    solve(m_ϕ)\n",
    "    \n",
    "    getobjectivevalue(m_ϕ), P, exp.(getvalue(aux)), getvalue(ϕvar)\n",
    "    \n",
    "    \n",
    "    \n",
    "end\n"
   ]
  },
  {
   "cell_type": "code",
   "execution_count": 17,
   "metadata": {},
   "outputs": [],
   "source": [
    "function map2repr(x,y)\n",
    "    xoffset = [0,6,0,6]\n",
    "    yoffset = [0,0,5,5]\n",
    "    which_zone = 1 + (x > centerx)  + (y > centery) * 2\n",
    "    xoff = x - xoffset[which_zone]\n",
    "    yoff = y - yoffset[which_zone]\n",
    "    which_cell = (xoff-1) * 5 + yoff\n",
    "    return which_cell, which_zone\n",
    "end\n",
    "\n",
    "\n",
    "# Make prior at the centre of the landscape\n",
    "# raidus 1, 50% \n",
    "# radius 2, 50%\n",
    "\n",
    "\n",
    "\n",
    "prior = zeros(30,4)\n",
    "radius = 2\n",
    "centerx = 6.5\n",
    "centery = 5.5\n",
    "maxx = convert(Int64,centerx + (radius - 0.5))\n",
    "minx = convert(Int64,centerx - (radius - 0.5))\n",
    "maxy = convert(Int64,centery + (radius - 0.5))\n",
    "miny = convert(Int64,centery - (radius - 0.5))\n",
    "\n",
    "for x=minx:maxx\n",
    "    for y=miny:maxy\n",
    "        which_cell, which_zone = map2repr(x,y)\n",
    "        prior[which_cell,which_zone] = 0.5 / 12\n",
    "    end\n",
    "end\n",
    "\n",
    "\n",
    "radius = 1\n",
    "centerx = 6.5\n",
    "centery = 5.5\n",
    "maxx = convert(Int64,centerx + (radius - 0.5))\n",
    "minx = convert(Int64,centerx - (radius - 0.5))\n",
    "maxy = convert(Int64,centery + (radius - 0.5))\n",
    "miny = convert(Int64,centery - (radius - 0.5))\n",
    "\n",
    "for x=minx:maxx\n",
    "    for y=miny:maxy\n",
    "        which_cell, which_zone = map2repr(x,y)\n",
    "        prior[which_cell,which_zone] = 0.5 / 4\n",
    "    end\n",
    "end"
   ]
  },
  {
   "cell_type": "code",
   "execution_count": 18,
   "metadata": {
    "scrolled": true
   },
   "outputs": [
    {
     "name": "stdout",
     "output_type": "stream",
     "text": [
      "\tFrom worker 28:\t\n",
      "\tFrom worker 28:\t******************************************************************************\n",
      "\tFrom worker 28:\tThis program contains Ipopt, a library for large-scale nonlinear optimization.\n",
      "\tFrom worker 28:\t Ipopt is released as open source code under the Eclipse Public License (EPL).\n",
      "\tFrom worker 28:\t         For more information visit http://projects.coin-or.org/Ipopt\n",
      "\tFrom worker 28:\t******************************************************************************\n",
      "\tFrom worker 28:\t\n",
      "\tFrom worker 23:\t\n",
      "\tFrom worker 23:\t******************************************************************************\n",
      "\tFrom worker 23:\tThis program contains Ipopt, a library for large-scale nonlinear optimization.\n",
      "\tFrom worker 23:\t Ipopt is released as open source code under the Eclipse Public License (EPL).\n",
      "\tFrom worker 23:\t         For more information visit http://projects.coin-or.org/Ipopt\n",
      "\tFrom worker 23:\t******************************************************************************\n",
      "\tFrom worker 23:\t\n",
      "\tFrom worker 11:\t\n",
      "\tFrom worker 11:\t******************************************************************************\n",
      "\tFrom worker 11:\tThis program contains Ipopt, a library for large-scale nonlinear optimization.\n",
      "\tFrom worker 11:\t Ipopt is released as open source code under the Eclipse Public License (EPL).\n",
      "\tFrom worker 11:\t         For more information visit http://projects.coin-or.org/Ipopt\n",
      "\tFrom worker 11:\t******************************************************************************\n",
      "\tFrom worker 11:\t\n",
      "\tFrom worker 9:\t\n",
      "\tFrom worker 9:\t******************************************************************************\n",
      "\tFrom worker 9:\tThis program contains Ipopt, a library for large-scale nonlinear optimization.\n",
      "\tFrom worker 9:\t Ipopt is released as open source code under the Eclipse Public License (EPL).\n",
      "\tFrom worker 9:\t         For more information visit http://projects.coin-or.org/Ipopt\n",
      "\tFrom worker 9:\t******************************************************************************\n",
      "\tFrom worker 9:\t\n",
      "\tFrom worker 21:\t\n",
      "\tFrom worker 21:\t******************************************************************************\n",
      "\tFrom worker 21:\tThis program contains Ipopt, a library for large-scale nonlinear optimization.\n",
      "\tFrom worker 21:\t Ipopt is released as open source code under the Eclipse Public License (EPL).\n",
      "\tFrom worker 21:\t         For more information visit http://projects.coin-or.org/Ipopt\n",
      "\tFrom worker 21:\t******************************************************************************\n",
      "\tFrom worker 21:\t\n",
      "\tFrom worker 13:\t\n",
      "\tFrom worker 13:\t******************************************************************************\n",
      "\tFrom worker 13:\tThis program contains Ipopt, a library for large-scale nonlinear optimization.\n",
      "\tFrom worker 13:\t Ipopt is released as open source code under the Eclipse Public License (EPL).\n",
      "\tFrom worker 13:\t         For more information visit http://projects.coin-or.org/Ipopt\n",
      "\tFrom worker 13:\t******************************************************************************\n",
      "\tFrom worker 13:\t\n",
      "\tFrom worker 25:\t\n",
      "\tFrom worker 25:\t******************************************************************************\n",
      "\tFrom worker 25:\tThis program contains Ipopt, a library for large-scale nonlinear optimization.\n",
      "\tFrom worker 25:\t Ipopt is released as open source code under the Eclipse Public License (EPL).\n",
      "\tFrom worker 25:\t         For more information visit http://projects.coin-or.org/Ipopt\n",
      "\tFrom worker 25:\t******************************************************************************\n",
      "\tFrom worker 25:\t\n",
      "\tFrom worker 26:\t\n",
      "\tFrom worker 26:\t******************************************************************************\n",
      "\tFrom worker 26:\tThis program contains Ipopt, a library for large-scale nonlinear optimization.\n",
      "\tFrom worker 26:\t Ipopt is released as open source code under the Eclipse Public License (EPL).\n",
      "\tFrom worker 26:\t         For more information visit http://projects.coin-or.org/Ipopt\n",
      "\tFrom worker 26:\t******************************************************************************\n",
      "\tFrom worker 26:\t\n",
      "\tFrom worker 2:\t\n",
      "\tFrom worker 2:\t******************************************************************************\n",
      "\tFrom worker 2:\tThis program contains Ipopt, a library for large-scale nonlinear optimization.\n",
      "\tFrom worker 2:\t Ipopt is released as open source code under the Eclipse Public License (EPL).\n",
      "\tFrom worker 2:\t         For more information visit http://projects.coin-or.org/Ipopt\n",
      "\tFrom worker 2:\t******************************************************************************\n",
      "\tFrom worker 2:\t\n",
      "\tFrom worker 6:\t\n",
      "\tFrom worker 6:\t******************************************************************************\n",
      "\tFrom worker 6:\tThis program contains Ipopt, a library for large-scale nonlinear optimization.\n",
      "\tFrom worker 6:\t Ipopt is released as open source code under the Eclipse Public License (EPL).\n",
      "\tFrom worker 6:\t         For more information visit http://projects.coin-or.org/Ipopt\n",
      "\tFrom worker 6:\t******************************************************************************\n",
      "\tFrom worker 6:\t\n",
      "\tFrom worker 27:\t\n",
      "\tFrom worker 27:\t******************************************************************************\n",
      "\tFrom worker 27:\tThis program contains Ipopt, a library for large-scale nonlinear optimization.\n",
      "\tFrom worker 27:\t Ipopt is released as open source code under the Eclipse Public License (EPL).\n",
      "\tFrom worker 27:\t         For more information visit http://projects.coin-or.org/Ipopt\n",
      "\tFrom worker 27:\t******************************************************************************\n",
      "\tFrom worker 27:\t\n",
      "\tFrom worker 18:\t\n",
      "\tFrom worker 18:\t******************************************************************************\n",
      "\tFrom worker 18:\tThis program contains Ipopt, a library for large-scale nonlinear optimization.\n",
      "\tFrom worker 18:\t Ipopt is released as open source code under the Eclipse Public License (EPL).\n",
      "\tFrom worker 18:\t         For more information visit http://projects.coin-or.org/Ipopt\n",
      "\tFrom worker 18:\t******************************************************************************\n",
      "\tFrom worker 18:\t\n",
      "\tFrom worker 14:\t\n",
      "\tFrom worker 14:\t******************************************************************************\n",
      "\tFrom worker 14:\tThis program contains Ipopt, a library for large-scale nonlinear optimization.\n",
      "\tFrom worker 14:\t Ipopt is released as open source code under the Eclipse Public License (EPL).\n",
      "\tFrom worker 14:\t         For more information visit http://projects.coin-or.org/Ipopt\n",
      "\tFrom worker 14:\t******************************************************************************\n",
      "\tFrom worker 14:\t\n",
      "\tFrom worker 31:\t\n",
      "\tFrom worker 31:\t******************************************************************************\n",
      "\tFrom worker 31:\tThis program contains Ipopt, a library for large-scale nonlinear optimization.\n",
      "\tFrom worker 31:\t Ipopt is released as open source code under the Eclipse Public License (EPL).\n",
      "\tFrom worker 31:\t         For more information visit http://projects.coin-or.org/Ipopt\n",
      "\tFrom worker 31:\t******************************************************************************\n",
      "\tFrom worker 31:\t\n",
      "\tFrom worker 24:\t\n",
      "\tFrom worker 24:\t******************************************************************************\n",
      "\tFrom worker 24:\tThis program contains Ipopt, a library for large-scale nonlinear optimization.\n",
      "\tFrom worker 24:\t Ipopt is released as open source code under the Eclipse Public License (EPL).\n",
      "\tFrom worker 24:\t         For more information visit http://projects.coin-or.org/Ipopt\n",
      "\tFrom worker 24:\t******************************************************************************\n",
      "\tFrom worker 24:\t\n",
      "\tFrom worker 19:\t\n",
      "\tFrom worker 19:\t******************************************************************************\n",
      "\tFrom worker 19:\tThis program contains Ipopt, a library for large-scale nonlinear optimization.\n",
      "\tFrom worker 19:\t Ipopt is released as open source code under the Eclipse Public License (EPL).\n",
      "\tFrom worker 19:\t         For more information visit http://projects.coin-or.org/Ipopt\n",
      "\tFrom worker 19:\t******************************************************************************\n",
      "\tFrom worker 19:\t\n",
      "\tFrom worker 12:\t\n",
      "\tFrom worker 12:\t******************************************************************************\n",
      "\tFrom worker 12:\tThis program contains Ipopt, a library for large-scale nonlinear optimization.\n",
      "\tFrom worker 12:\t Ipopt is released as open source code under the Eclipse Public License (EPL).\n",
      "\tFrom worker 12:\t         For more information visit http://projects.coin-or.org/Ipopt\n",
      "\tFrom worker 12:\t******************************************************************************\n",
      "\tFrom worker 12:\t\n"
     ]
    },
    {
     "name": "stdout",
     "output_type": "stream",
     "text": [
      "\tFrom worker 29:\t\n",
      "\tFrom worker 29:\t******************************************************************************\n",
      "\tFrom worker 29:\tThis program contains Ipopt, a library for large-scale nonlinear optimization.\n",
      "\tFrom worker 29:\t Ipopt is released as open source code under the Eclipse Public License (EPL).\n",
      "\tFrom worker 29:\t         For more information visit http://projects.coin-or.org/Ipopt\n",
      "\tFrom worker 29:\t******************************************************************************\n",
      "\tFrom worker 29:\t\n",
      "\tFrom worker 3:\t\n",
      "\tFrom worker 3:\t******************************************************************************\n",
      "\tFrom worker 3:\tThis program contains Ipopt, a library for large-scale nonlinear optimization.\n",
      "\tFrom worker 3:\t Ipopt is released as open source code under the Eclipse Public License (EPL).\n",
      "\tFrom worker 3:\t         For more information visit http://projects.coin-or.org/Ipopt\n",
      "\tFrom worker 3:\t******************************************************************************\n",
      "\tFrom worker 3:\t\n",
      "\tFrom worker 30:\t\n",
      "\tFrom worker 30:\t******************************************************************************\n",
      "\tFrom worker 30:\tThis program contains Ipopt, a library for large-scale nonlinear optimization.\n",
      "\tFrom worker 30:\t Ipopt is released as open source code under the Eclipse Public License (EPL).\n",
      "\tFrom worker 30:\t         For more information visit http://projects.coin-or.org/Ipopt\n",
      "\tFrom worker 30:\t******************************************************************************\n",
      "\tFrom worker 30:\t\n",
      "\tFrom worker 5:\t\n",
      "\tFrom worker 5:\t******************************************************************************\n",
      "\tFrom worker 5:\tThis program contains Ipopt, a library for large-scale nonlinear optimization.\n",
      "\tFrom worker 5:\t Ipopt is released as open source code under the Eclipse Public License (EPL).\n",
      "\tFrom worker 5:\t         For more information visit http://projects.coin-or.org/Ipopt\n",
      "\tFrom worker 5:\t******************************************************************************\n",
      "\tFrom worker 5:\t\n",
      "\tFrom worker 10:\t\n",
      "\tFrom worker 10:\t******************************************************************************\n",
      "\tFrom worker 10:\tThis program contains Ipopt, a library for large-scale nonlinear optimization.\n",
      "\tFrom worker 10:\t Ipopt is released as open source code under the Eclipse Public License (EPL).\n",
      "\tFrom worker 10:\t         For more information visit http://projects.coin-or.org/Ipopt\n",
      "\tFrom worker 10:\t******************************************************************************\n",
      "\tFrom worker 10:\t\n",
      "\tFrom worker 20:\t\n",
      "\tFrom worker 20:\t******************************************************************************\n",
      "\tFrom worker 20:\tThis program contains Ipopt, a library for large-scale nonlinear optimization.\n",
      "\tFrom worker 20:\t Ipopt is released as open source code under the Eclipse Public License (EPL).\n",
      "\tFrom worker 20:\t         For more information visit http://projects.coin-or.org/Ipopt\n",
      "\tFrom worker 20:\t******************************************************************************\n",
      "\tFrom worker 20:\t\n",
      "\tFrom worker 22:\t\n",
      "\tFrom worker 22:\t******************************************************************************\n",
      "\tFrom worker 22:\tThis program contains Ipopt, a library for large-scale nonlinear optimization.\n",
      "\tFrom worker 22:\t Ipopt is released as open source code under the Eclipse Public License (EPL).\n",
      "\tFrom worker 22:\t         For more information visit http://projects.coin-or.org/Ipopt\n",
      "\tFrom worker 22:\t******************************************************************************\n",
      "\tFrom worker 22:\t\n",
      "\tFrom worker 16:\t\n",
      "\tFrom worker 16:\t******************************************************************************\n",
      "\tFrom worker 16:\tThis program contains Ipopt, a library for large-scale nonlinear optimization.\n",
      "\tFrom worker 16:\t Ipopt is released as open source code under the Eclipse Public License (EPL).\n",
      "\tFrom worker 16:\t         For more information visit http://projects.coin-or.org/Ipopt\n",
      "\tFrom worker 16:\t******************************************************************************\n",
      "\tFrom worker 16:\t\n",
      "\tFrom worker 4:\t\n",
      "\tFrom worker 4:\t******************************************************************************\n",
      "\tFrom worker 4:\tThis program contains Ipopt, a library for large-scale nonlinear optimization.\n",
      "\tFrom worker 4:\t Ipopt is released as open source code under the Eclipse Public License (EPL).\n",
      "\tFrom worker 4:\t         For more information visit http://projects.coin-or.org/Ipopt\n",
      "\tFrom worker 4:\t******************************************************************************\n",
      "\tFrom worker 4:\t\n",
      "\tFrom worker 7:\t\n",
      "\tFrom worker 7:\t******************************************************************************\n",
      "\tFrom worker 7:\tThis program contains Ipopt, a library for large-scale nonlinear optimization.\n",
      "\tFrom worker 7:\t Ipopt is released as open source code under the Eclipse Public License (EPL).\n",
      "\tFrom worker 7:\t         For more information visit http://projects.coin-or.org/Ipopt\n",
      "\tFrom worker 7:\t******************************************************************************\n",
      "\tFrom worker 7:\t\n",
      "\tFrom worker 15:\t\n",
      "\tFrom worker 15:\t******************************************************************************\n",
      "\tFrom worker 15:\tThis program contains Ipopt, a library for large-scale nonlinear optimization.\n",
      "\tFrom worker 15:\t Ipopt is released as open source code under the Eclipse Public License (EPL).\n",
      "\tFrom worker 15:\t         For more information visit http://projects.coin-or.org/Ipopt\n",
      "\tFrom worker 15:\t******************************************************************************\n",
      "\tFrom worker 15:\t\n",
      "\tFrom worker 17:\t\n",
      "\tFrom worker 17:\t******************************************************************************\n",
      "\tFrom worker 17:\tThis program contains Ipopt, a library for large-scale nonlinear optimization.\n",
      "\tFrom worker 17:\t Ipopt is released as open source code under the Eclipse Public License (EPL).\n",
      "\tFrom worker 17:\t         For more information visit http://projects.coin-or.org/Ipopt\n",
      "\tFrom worker 17:\t******************************************************************************\n",
      "\tFrom worker 17:\t\n",
      "\tFrom worker 8:\t\n",
      "\tFrom worker 8:\t******************************************************************************\n",
      "\tFrom worker 8:\tThis program contains Ipopt, a library for large-scale nonlinear optimization.\n",
      "\tFrom worker 8:\t Ipopt is released as open source code under the Eclipse Public License (EPL).\n",
      "\tFrom worker 8:\t         For more information visit http://projects.coin-or.org/Ipopt\n",
      "\tFrom worker 8:\t******************************************************************************\n",
      "\tFrom worker 8:\t\n",
      "\n",
      "******************************************************************************\n",
      "This program contains Ipopt, a library for large-scale nonlinear optimization.\n",
      " Ipopt is released as open source code under the Eclipse Public License (EPL).\n",
      "         For more information visit http://projects.coin-or.org/Ipopt\n",
      "******************************************************************************\n",
      "\n",
      "elapsed time: 76.107532599 seconds\n",
      "0.7968924057097808\n",
      "[0.0 1.0 0.0 0.0; 0.0 0.0 1.0 0.0; 0.0 1.0 0.0 0.0; 0.0 0.0 0.0 1.0; 0.0 0.0 1.0 0.0; 0.0 0.0 0.0 1.0]\n"
     ]
    }
   ],
   "source": [
    "# Test run. good practice to just run it when first open the notebook (initialize the optimizer for each process)\n",
    "\n",
    "tic()\n",
    "Φ = 5\n",
    "maxiter = 20\n",
    "@everywhere N = 30 # Threshold at every worker needs it\n",
    "@everywhere Threshold = convert(Int64,floor(N * θ)) # for accepting P computed from each sample\n",
    "obj, assignment, prob_nondetect, res_alloc = CE_parallel(Φ,prior,W)\n",
    "toc()\n",
    "print(obj,'\\n')\n",
    "\n",
    "print(assignment,'\\n')"
   ]
  },
  {
   "cell_type": "code",
   "execution_count": null,
   "metadata": {},
   "outputs": [],
   "source": []
  },
  {
   "cell_type": "code",
   "execution_count": null,
   "metadata": {},
   "outputs": [],
   "source": []
  },
  {
   "cell_type": "code",
   "execution_count": null,
   "metadata": {},
   "outputs": [],
   "source": [
    "##############################################\n",
    "## Moving Target"
   ]
  },
  {
   "cell_type": "code",
   "execution_count": 19,
   "metadata": {},
   "outputs": [
    {
     "data": {
      "text/plain": [
       "build_c2c_tensor (generic function with 1 method)"
      ]
     },
     "execution_count": 19,
     "metadata": {},
     "output_type": "execute_result"
    }
   ],
   "source": [
    "# Assume Ncell,Z exist, current ONLY WORK WITH THE LANDSCAPE IN PAPERS\n",
    "# construct a 30x4x30x4 one step moving probability tensor\n",
    "\n",
    "function build_c2c_tensor(matrix)\n",
    "    \n",
    "\n",
    "    \n",
    "    # first, construct 120x120 one step transition matrix\n",
    "\n",
    "    # here we number all cells from 1 to 120 in a row-major fashion\n",
    "    c2c = zeros(Ncell * Z, Ncell * Z)\n",
    "    for i = 1:(Ncell * Z)\n",
    "        # Stay in current cell\n",
    "        c2c[i,i] = matrix[2,2]\n",
    "\n",
    "        # move right\n",
    "        if mod(i,12) ==  0 # right end \n",
    "            c2c[i,i] = c2c[i,i] + matrix[2,3]\n",
    "        else\n",
    "            c2c[i,i+1] = matrix[2,3]\n",
    "        end\n",
    "\n",
    "\n",
    "        # move left\n",
    "        if mod(i,12) ==  1 # left end \n",
    "            c2c[i,i] = c2c[i,i] + matrix[2,1]\n",
    "        else\n",
    "            c2c[i,i-1] = matrix[2,1]\n",
    "        end\n",
    "\n",
    "        # move down\n",
    "        if i > 12 * (10-1) # bottom end\n",
    "            c2c[i,i] = c2c[i,i] + matrix[3,2]\n",
    "        else\n",
    "            c2c[i,i+12] = matrix[3,2]\n",
    "        end\n",
    "\n",
    "        # move up\n",
    "        if i <= 12 # top row\n",
    "            c2c[i,i] = c2c[i,i] + matrix[1,2]\n",
    "        else\n",
    "            c2c[i,i-12] = matrix[1,2]\n",
    "        end\n",
    "\n",
    "\n",
    "\n",
    "        # move diagonal bottom-right\n",
    "        if (mod(i,12) == 0) | (i > 12 * (10-1))\n",
    "            c2c[i,i] = c2c[i,i] + matrix[3,3]\n",
    "        else\n",
    "            c2c[i,i+12+1] = matrix[3,3]\n",
    "        end\n",
    "\n",
    "\n",
    "        # move diagonal top-right\n",
    "        if (mod(i,12) == 0) | (i <= 12)\n",
    "            c2c[i,i] = c2c[i,i] + matrix[1,3]\n",
    "        else\n",
    "            c2c[i,i-12+1] = matrix[1,3]\n",
    "        end\n",
    "\n",
    "        # move diagonal top-left\n",
    "        if (mod(i,12) == 1) | (i <= 12)\n",
    "            c2c[i,i] = c2c[i,i] + matrix[1,1]\n",
    "        else\n",
    "            c2c[i,i-12-1] = matrix[1,1]\n",
    "        end\n",
    "\n",
    "        # move diagonal bottom-left\n",
    "        if (mod(i,12) == 1) | (i > 12 * (10-1))\n",
    "            c2c[i,i] = c2c[i,i] + matrix[3,1]\n",
    "        else\n",
    "            c2c[i,i+12-1] = matrix[3,1]\n",
    "        end\n",
    "\n",
    "\n",
    "    end\n",
    "\n",
    "    # convert the 120x120 matrix into 30x4x30x4 tensor\n",
    "    # Note that Julia is column major: suppose the first (leftmost, upmost) cell\n",
    "    # is cell 1, cell 2 refers to the cell below cell 1 not the cell to the right\n",
    "    # This affects how cell index is assigned\n",
    "    c2c_tensor = zeros(Ncell,Z,Ncell,Z)\n",
    "    for i=1:Ncell*Z\n",
    "        zone_prev = (i / 60 > 1) * 2 + ((mod(i,12) / 6 > 1) | (mod(i,12) == 0)) + 1\n",
    "        offset_prev = [0,6,60,66][zone_prev]\n",
    "        cell_prev = (rem(i-offset_prev,12) - 1) * 5 + div(i-offset_prev,12) + 1 # column major in julia\n",
    "        for j=1:Ncell*Z\n",
    "            zone_cur = (j / 60 > 1) * 2 + ((mod(j,12) / 6 > 1) | (mod(j,12) == 0)) + 1\n",
    "            offset_cur = [0,6,60,66][zone_cur]\n",
    "            cell_cur = (rem(j-offset_cur,12) - 1) * 5 + div(j-offset_cur,12) + 1 # column major in julia\n",
    "            c2c_tensor[cell_prev,zone_prev,cell_cur,zone_cur] = c2c[i,j]\n",
    "        end\n",
    "    end\n",
    "    \n",
    "    return c2c_tensor\n",
    "end"
   ]
  },
  {
   "cell_type": "code",
   "execution_count": 20,
   "metadata": {},
   "outputs": [],
   "source": [
    "# Myopic and Optimal Search Plan (without cross-cueing)"
   ]
  },
  {
   "cell_type": "code",
   "execution_count": 21,
   "metadata": {},
   "outputs": [
    {
     "data": {
      "text/plain": [
       "1"
      ]
     },
     "execution_count": 21,
     "metadata": {},
     "output_type": "execute_result"
    }
   ],
   "source": [
    "T = 4\n",
    "Φ = 5\n",
    "Total_Iter = 1 # the number of iterations to go from myopic search plan to optimal search plan"
   ]
  },
  {
   "cell_type": "code",
   "execution_count": 43,
   "metadata": {},
   "outputs": [
    {
     "data": {
      "text/plain": [
       "compute_non_detection_test (generic function with 1 method)"
      ]
     },
     "execution_count": 43,
     "metadata": {},
     "output_type": "execute_result"
    }
   ],
   "source": [
    "\n",
    "\n",
    "function mov_target_CE(prior,W,c2c_tensor)\n",
    "    DTensor = ones(Ncell,Z,T)\n",
    "    moving_target_obj_vec = zeros(Total_Iter,T)\n",
    "    prob_nondetect_Tensor = zeros(Ncell,Z,T)\n",
    "    final_assignment = zeros(S,Z,T)\n",
    "    final_res_alloc = zeros(Ncell,Z,S,T)\n",
    "    \n",
    "    \n",
    "    for i = 1:Total_Iter\n",
    "        # Initialize UTensor\n",
    "        UTensor = zeros(Ncell,Z,T)\n",
    "        UTensor[:,:,1] =  prior\n",
    "\n",
    "\n",
    "        for τ = 1:T\n",
    "            if τ > 1\n",
    "                UTensor[:,:,τ] = sum(sum(c2c_tensor .* \n",
    "                        reshape(prob_nondetect_Tensor[:,:,τ-1],Ncell,Z,1,1) .* \n",
    "                        reshape(UTensor[:,:,τ-1],Ncell,Z,1,1),1),2)\n",
    "            end\n",
    "            β = UTensor[:,:,τ] .* DTensor[:,:,τ]\n",
    "            obj, assignment, prob_nondetect, res_alloc = CE_parallel(Φ,β,W)\n",
    "            final_assignment[:,:,τ] = assignment\n",
    "            final_res_alloc[:,:,:,τ] = res_alloc\n",
    "            prob_nondetect_Tensor[:,:,τ] = prob_nondetect\n",
    "            moving_target_obj_vec[i,τ] = obj\n",
    "            print(\"Iter: \",i,\". Completed timestep: \",τ,\". Obj: \",obj,\"\\n\")\n",
    "        end\n",
    "\n",
    "        # Compute the DTensors using the nondetection probabilities at each timestep as calculated\n",
    "        # in the previous iteration\n",
    "        for τ = T-1:-1:1\n",
    "            DTensor[:,:,τ] = sum(sum(c2c_tensor .* \n",
    "                    reshape(prob_nondetect_Tensor[:,:,τ+1],1,1,Ncell,Z) .* \n",
    "                    reshape(DTensor[:,:,τ+1],1,1,Ncell,Z),3),4)\n",
    "        end\n",
    "    end\n",
    "    \n",
    "    return moving_target_obj_vec, prob_nondetect_Tensor, final_assignment, final_res_alloc\n",
    "\n",
    "end\n",
    "\n",
    "\n",
    "\n",
    "\n",
    "function compute_non_detection(prior, W, c2c_tensor,final_assignment,final_res_alloc)\n",
    "    # Compute nondetection probability at each time step (used in computing U and D)\n",
    "    nondetection_prob_holder = zeros(Ncell,Z,T)\n",
    "    for i=1:T\n",
    "        res_alloc_cur = final_res_alloc[:,:,:,i]\n",
    "        assign_cur = final_assignment[:,:,i]\n",
    "        nondetection_prob_holder[:,:,i] = exp.( squeeze(-sum(W .* res_alloc_cur .* reshape(transpose(assign_cur),1,Z,S),3),3))\n",
    "    end\n",
    "\n",
    "\n",
    "    # Compute U and D\n",
    "\n",
    "    UTensor_holder = zeros(Ncell,Z,T)\n",
    "    UTensor_holder[:,:,1] =  prior\n",
    "    for i=2:T\n",
    "\n",
    "        UTensor_holder[:,:,i] = sum(sum(c2c_tensor .* \n",
    "            reshape(nondetection_prob_holder[:,:,i-1],Ncell,Z,1,1) .* \n",
    "            reshape(UTensor_holder[:,:,i-1],Ncell,Z,1,1),1),2)\n",
    "\n",
    "    end\n",
    "\n",
    "## For optimal solution, also need to incorporate DTensor, for myopic solution, do not incorporate DTensor\n",
    "#     DTensor_holder = ones(Ncell,Z,T)\n",
    "#     for i = T-1:-1:1\n",
    "#         DTensor_holder[:,:,i] = sum(sum(c2c_tensor .* \n",
    "#                 reshape(nondetection_prob_holder[:,:,i+1],1,1,Ncell,Z) .* \n",
    "#                 reshape(DTensor_holder[:,:,i+1],1,1,Ncell,Z),3),4)\n",
    "#     end\n",
    "    \n",
    "#     β_holder = UTensor_holder .* DTensor_holder\n",
    "    \n",
    "    β_holder = UTensor_holder\n",
    "    return sum(sum(β_holder[:,:,:] .* nondetection_prob_holder[:,:,:],1),2)\n",
    "end \n",
    "     \n",
    "    \n",
    "function compute_non_detection_test(prior, W, c2c_tensor,prob_nondetection_tensor,T)\n",
    "    # Compute nondetection probability at each time step (used in computing U and D)\n",
    "\n",
    "\n",
    "\n",
    "    # Compute U and D\n",
    "\n",
    "    UTensor_holder = zeros(Ncell,Z,T)\n",
    "    UTensor_holder[:,:,1] =  prior\n",
    "    for i=2:T\n",
    "\n",
    "        UTensor_holder[:,:,i] = sum(sum(c2c_tensor .* \n",
    "            reshape(prob_nondetection_tensor[:,:,i-1],Ncell,Z,1,1) .* \n",
    "            reshape(UTensor_holder[:,:,i-1],Ncell,Z,1,1),1),2)\n",
    "\n",
    "    end\n",
    "\n",
    "\n",
    "    β_holder = UTensor_holder\n",
    "    return sum(sum(β_holder[:,:,:] .* prob_nondetection_tensor[:,:,:],1),2)\n",
    "end \n",
    "\n",
    "\n"
   ]
  },
  {
   "cell_type": "code",
   "execution_count": null,
   "metadata": {},
   "outputs": [],
   "source": []
  },
  {
   "cell_type": "code",
   "execution_count": null,
   "metadata": {},
   "outputs": [],
   "source": []
  },
  {
   "cell_type": "code",
   "execution_count": null,
   "metadata": {},
   "outputs": [],
   "source": []
  },
  {
   "cell_type": "code",
   "execution_count": null,
   "metadata": {},
   "outputs": [],
   "source": []
  },
  {
   "cell_type": "code",
   "execution_count": 58,
   "metadata": {},
   "outputs": [
    {
     "name": "stdout",
     "output_type": "stream",
     "text": [
      "1.0\n",
      "1.0000000000000002\n",
      "1.0\n"
     ]
    }
   ],
   "source": [
    "# Modify the true moving distribution so I can meaningfully simulate longer time step with \n",
    "# target probably at the center of the landscape (10x12)\n",
    "moving_mat= [0.0 0.0 0.0;\n",
    "             0.0 0.5 0.125;\n",
    "             0.0 0.125 0.25]\n",
    "c2c_tensor_true = build_c2c_tensor(moving_mat)\n",
    "print(sum(moving_mat),\"\\n\")\n",
    "\n",
    "moving_mat= ones(3,3)/9\n",
    "c2c_tensor_random = build_c2c_tensor(moving_mat)\n",
    "print(sum(moving_mat),\"\\n\")\n",
    "\n",
    "\n",
    "moving_mat= [0.25 0.125 0.0;\n",
    "             0.125 0.5 0.0;\n",
    "             0.0 0.0 0.0]\n",
    "c2c_tensor_opposite = build_c2c_tensor(moving_mat)\n",
    "print(sum(moving_mat),\"\\n\")\n",
    "\n",
    "\n",
    "# moving_mat= [0.0 0.125 0.25;\n",
    "#              0.0 0.5 0.125;\n",
    "#              0.0 0.0 0.0]\n",
    "# c2c_tensor_opposite = build_c2c_tensor(moving_mat)\n",
    "# print(sum(moving_mat),\"\\n\")"
   ]
  },
  {
   "cell_type": "code",
   "execution_count": 45,
   "metadata": {},
   "outputs": [
    {
     "name": "stdout",
     "output_type": "stream",
     "text": [
      "Iter: 1. Completed timestep: 1. Obj: 0.7968924058025902\n",
      "Iter: 1. Completed timestep: 2. Obj: 0.6369253334565347\n",
      "Iter: 1. Completed timestep: 3. Obj: 0.5236403091695448\n",
      "Iter: 1. Completed timestep: 4. Obj: 0.44932918665351196\n",
      "Iter: 1. Completed timestep: 5. Obj: 0.39323606437509767\n",
      "Iter: 1. Completed timestep: 6. Obj: 0.35054657779492415\n",
      "Iter: 1. Completed timestep: 7. Obj: 0.3158754430550314\n",
      "Iter: 1. Completed timestep: 8. Obj: 0.285086742313116\n",
      "Iter: 1. Completed timestep: 9. Obj: 0.2559544074107196\n",
      "[0.796892]\n",
      "\n",
      "[0.636925]\n",
      "\n",
      "[0.52364]\n",
      "\n",
      "[0.449329]\n",
      "\n",
      "[0.393236]\n",
      "\n",
      "[0.350546]\n",
      "\n",
      "[0.315875]\n",
      "\n",
      "[0.285087]\n",
      "\n",
      "[0.255954]\n",
      "elapsed time: 35.987637416 seconds\n"
     ]
    },
    {
     "data": {
      "text/plain": [
       "35.987637416"
      ]
     },
     "execution_count": 45,
     "metadata": {},
     "output_type": "execute_result"
    }
   ],
   "source": [
    "# When you have the true moving probability\n",
    "\n",
    "T = 9\n",
    "tic()\n",
    "moving_target_obj_vec, prob_nondetect_Tensor, final_assignment, final_res_alloc = mov_target_CE(prior,W,c2c_tensor_true)\n",
    "nondetection_no_movement_test = compute_non_detection_test(prior, W, c2c_tensor_true,prob_nondetect_Tensor,T)\n",
    "print(nondetection_no_movement_test,\"\\n\")\n",
    "toc()\n"
   ]
  },
  {
   "cell_type": "code",
   "execution_count": 56,
   "metadata": {
    "scrolled": false
   },
   "outputs": [
    {
     "name": "stdout",
     "output_type": "stream",
     "text": [
      "Iter: 1. Completed timestep: 1. Obj: 0.8022573319295438\n",
      "Iter: 1. Completed timestep: 2. Obj: 0.6878741542665952\n",
      "Iter: 1. Completed timestep: 3. Obj: 0.609369441643152\n",
      "Iter: 1. Completed timestep: 4. Obj: 0.5527555203974823\n",
      "Iter: 1. Completed timestep: 5. Obj: 0.5098536546666245\n",
      "Iter: 1. Completed timestep: 6. Obj: 0.4760043352258788\n",
      "Iter: 1. Completed timestep: 7. Obj: 0.4489465248632808\n",
      "Iter: 1. Completed timestep: 8. Obj: 0.4265350060485873\n",
      "Iter: 1. Completed timestep: 9. Obj: 0.40732920648805626\n",
      "[0.802257]\n",
      "\n",
      "[0.665063]\n",
      "\n",
      "[0.595735]\n",
      "\n",
      "[0.524759]\n",
      "\n",
      "[0.484972]\n",
      "\n",
      "[0.472487]\n",
      "\n",
      "[0.45354]\n",
      "\n",
      "[0.443495]\n",
      "\n",
      "[0.441603]\n",
      "elapsed time: 31.110317383 seconds\n"
     ]
    },
    {
     "data": {
      "text/plain": [
       "31.110317383"
      ]
     },
     "execution_count": 56,
     "metadata": {},
     "output_type": "execute_result"
    }
   ],
   "source": [
    "# When you DO NOT have the true moving probability and we assume uniform moving probability\n",
    "\n",
    "T = 9\n",
    "tic()\n",
    "moving_target_obj_vec, prob_nondetect_Tensor, final_assignment, final_res_alloc = mov_target_CE(prior,W,c2c_tensor_random)\n",
    "nondetection_no_movement_test = compute_non_detection_test(prior, W, c2c_tensor_true,prob_nondetect_Tensor,T)\n",
    "print(nondetection_no_movement_test,\"\\n\")\n",
    "toc()\n",
    "\n",
    "\n",
    "# Most of the time, actual ND > expected ND, but not always. because, we have a prior, then compute a allocation\n",
    "# => ND tensor (minimize the expected ND). But given this ND tensor, starting prior might not be the\n",
    "# expected ND minimizer associated with this ND tensor"
   ]
  },
  {
   "cell_type": "code",
   "execution_count": 60,
   "metadata": {},
   "outputs": [
    {
     "name": "stdout",
     "output_type": "stream",
     "text": [
      "Iter: 1. Completed timestep: 1. Obj: 0.7968924057758602\n",
      "Iter: 1. Completed timestep: 2. Obj: 0.6629948416765538\n",
      "Iter: 1. Completed timestep: 3. Obj: 0.5731810521949596\n",
      "Iter: 1. Completed timestep: 4. Obj: 0.5012389193706145\n",
      "Iter: 1. Completed timestep: 5. Obj: 0.4453889879540731\n",
      "Iter: 1. Completed timestep: 6. Obj: 0.4005655922095904\n",
      "Iter: 1. Completed timestep: 7. Obj: 0.36205713694758673\n",
      "Iter: 1. Completed timestep: 8. Obj: 0.326678222390394\n",
      "Iter: 1. Completed timestep: 9. Obj: 0.2928990699719832\n",
      "[0.796892]\n",
      "\n",
      "[0.689151]\n",
      "\n",
      "[0.624023]\n",
      "\n",
      "[0.615138]\n",
      "\n",
      "[0.612112]\n",
      "\n",
      "[0.611122]\n",
      "\n",
      "[0.610852]\n",
      "\n",
      "[0.610822]\n",
      "\n",
      "[0.610816]\n",
      "elapsed time: 33.854640076 seconds\n"
     ]
    },
    {
     "data": {
      "text/plain": [
       "33.854640076"
      ]
     },
     "execution_count": 60,
     "metadata": {},
     "output_type": "execute_result"
    }
   ],
   "source": [
    "# What if I assume a distribution that is the exact opposite of the true distribution\n",
    "\n",
    "T = 9\n",
    "\n",
    "tic()\n",
    "moving_target_obj_vec, prob_nondetect_Tensor, final_assignment, final_res_alloc = mov_target_CE(prior,W,c2c_tensor_opposite)\n",
    "nondetection_no_movement_test = compute_non_detection_test(prior, W, c2c_tensor_true,prob_nondetect_Tensor,T)\n",
    "print(nondetection_no_movement_test,\"\\n\")\n",
    "toc()\n",
    "\n",
    "# expected ND should not mirror those calculated using true moving distribution because the landscape in\n",
    "# opposite direction is not mirrored"
   ]
  },
  {
   "cell_type": "code",
   "execution_count": 49,
   "metadata": {},
   "outputs": [
    {
     "name": "stdout",
     "output_type": "stream",
     "text": [
      "Iter: 1. Completed timestep: 1. Obj: 0.7976995525482904\n",
      "Iter: 1. Completed timestep: 2. Obj: 0.6322583022622119\n",
      "Iter: 1. Completed timestep: 3. Obj: 0.5221293151593812\n",
      "Iter: 1. Completed timestep: 4. Obj: 0.4474251520278681\n",
      "Iter: 1. Completed timestep: 5. Obj: 0.39272373563248864\n",
      "Iter: 1. Completed timestep: 6. Obj: 0.350316981314022\n",
      "Iter: 1. Completed timestep: 7. Obj: 0.31551732255345144\n",
      "Iter: 1. Completed timestep: 8. Obj: 0.28474288814654936\n",
      "Iter: 1. Completed timestep: 9. Obj: 0.25576928044364083\n",
      "[0.7977]\n",
      "\n",
      "[0.684209]\n",
      "\n",
      "[0.615023]\n",
      "\n",
      "[0.576708]\n",
      "\n",
      "[0.548538]\n",
      "\n",
      "[0.530285]\n",
      "\n",
      "[0.517801]\n",
      "\n",
      "[0.509476]\n",
      "\n",
      "[0.504462]\n",
      "elapsed time: 30.785001074 seconds\n"
     ]
    },
    {
     "data": {
      "text/plain": [
       "30.785001074"
      ]
     },
     "execution_count": 49,
     "metadata": {},
     "output_type": "execute_result"
    }
   ],
   "source": [
    "# What if I assume a distribution (which makes detection easier), but the true distribution is uniform (completely random)\n",
    "\n",
    "T = 9\n",
    "tic()\n",
    "moving_target_obj_vec, prob_nondetect_Tensor, final_assignment, final_res_alloc = mov_target_CE(prior,W,c2c_tensor_true)\n",
    "nondetection_no_movement_test = compute_non_detection_test(prior, W, c2c_tensor_random,prob_nondetect_Tensor,T)\n",
    "print(nondetection_no_movement_test,\"\\n\")\n",
    "toc()\n"
   ]
  },
  {
   "cell_type": "code",
   "execution_count": null,
   "metadata": {},
   "outputs": [],
   "source": []
  },
  {
   "cell_type": "code",
   "execution_count": null,
   "metadata": {},
   "outputs": [],
   "source": []
  },
  {
   "cell_type": "code",
   "execution_count": null,
   "metadata": {},
   "outputs": [],
   "source": []
  },
  {
   "cell_type": "code",
   "execution_count": null,
   "metadata": {},
   "outputs": [],
   "source": [
    "sum(unnorm)"
   ]
  },
  {
   "cell_type": "code",
   "execution_count": null,
   "metadata": {},
   "outputs": [],
   "source": []
  },
  {
   "cell_type": "code",
   "execution_count": null,
   "metadata": {},
   "outputs": [],
   "source": []
  },
  {
   "cell_type": "code",
   "execution_count": null,
   "metadata": {},
   "outputs": [],
   "source": []
  },
  {
   "cell_type": "code",
   "execution_count": null,
   "metadata": {},
   "outputs": [],
   "source": []
  },
  {
   "cell_type": "code",
   "execution_count": null,
   "metadata": {},
   "outputs": [],
   "source": []
  },
  {
   "cell_type": "code",
   "execution_count": null,
   "metadata": {},
   "outputs": [],
   "source": []
  },
  {
   "cell_type": "code",
   "execution_count": null,
   "metadata": {},
   "outputs": [],
   "source": []
  },
  {
   "cell_type": "code",
   "execution_count": 29,
   "metadata": {},
   "outputs": [],
   "source": [
    "# # Modify the true moving distribution so I can meaningfully simulate longer time step with \n",
    "# # target probably at the center of the landscape (10x12)\n",
    "# moving_mat= [0.0 0.0 0.0;\n",
    "#              0.0 0.5 0.125;\n",
    "#              0.0 0.125 0.25]\n",
    "# c2c_tensor_true = build_c2c_tensor(moving_mat)\n",
    "# print(sum(moving_mat),\"\\n\")\n",
    "\n",
    "\n",
    "\n",
    "# moving_mat= [0.25 0.125 0.0;\n",
    "#              0.125 0.5 0.0;\n",
    "#              0.0 0.0 0.0]\n",
    "# c2c_tensor_opposite = build_c2c_tensor(moving_mat)\n",
    "# print(sum(moving_mat),\"\\n\")"
   ]
  },
  {
   "cell_type": "code",
   "execution_count": null,
   "metadata": {},
   "outputs": [],
   "source": []
  },
  {
   "cell_type": "code",
   "execution_count": 61,
   "metadata": {},
   "outputs": [
    {
     "name": "stdout",
     "output_type": "stream",
     "text": [
      "1.0\n"
     ]
    }
   ],
   "source": [
    "moving_mat= [0.0 0.125 0.25;\n",
    "             0.0 0.5 0.125;\n",
    "             0.0 0.0 0.0]\n",
    "c2c_tensor_opposite = build_c2c_tensor(moving_mat)\n",
    "print(sum(moving_mat),\"\\n\")"
   ]
  },
  {
   "cell_type": "code",
   "execution_count": null,
   "metadata": {},
   "outputs": [],
   "source": []
  },
  {
   "cell_type": "code",
   "execution_count": null,
   "metadata": {},
   "outputs": [],
   "source": []
  },
  {
   "cell_type": "code",
   "execution_count": 94,
   "metadata": {},
   "outputs": [
    {
     "data": {
      "text/plain": [
       "0-element Array{Any,1}"
      ]
     },
     "execution_count": 94,
     "metadata": {},
     "output_type": "execute_result"
    }
   ],
   "source": [
    "UTensor = zeros(Ncell,Z,T)\n",
    "UTensor[:,:,1] =  prior\n",
    "        \n",
    "UTensor_actual = zeros(Ncell,Z,T)\n",
    "UTensor_actual[:,:,1] =  prior\n",
    "\n",
    "prob_nondetect_Tensor = zeros(Ncell,Z,T)\n",
    "actuals = []"
   ]
  },
  {
   "cell_type": "code",
   "execution_count": 95,
   "metadata": {},
   "outputs": [
    {
     "name": "stdout",
     "output_type": "stream",
     "text": [
      "0.7968924012499323\n"
     ]
    },
    {
     "data": {
      "text/plain": [
       "0.7968924057952709"
      ]
     },
     "execution_count": 95,
     "metadata": {},
     "output_type": "execute_result"
    }
   ],
   "source": [
    "τ = 1\n",
    "obj, assignment, prob_nondetect, res_alloc = CE_parallel(Φ,UTensor[:,:,τ],W)\n",
    "prob_nondetect_Tensor[:,:,τ] = prob_nondetect\n",
    "print(sum(UTensor_actual[:,:,τ] .* prob_nondetect_Tensor[:,:,τ]),\"\\n\")\n",
    "push!(actuals,obj)\n",
    "obj"
   ]
  },
  {
   "cell_type": "code",
   "execution_count": 96,
   "metadata": {},
   "outputs": [
    {
     "name": "stdout",
     "output_type": "stream",
     "text": [
      "0.6818703432532278\n",
      "0.6698310287788398\n",
      "1.0179736589634205"
     ]
    }
   ],
   "source": [
    "τ = 2\n",
    "UTensor[:,:,τ] =  sum(sum(c2c_tensor_opposite .* \n",
    "                        reshape(prob_nondetect_Tensor[:,:,τ-1],Ncell,Z,1,1) .* \n",
    "                        reshape(UTensor[:,:,τ-1],Ncell,Z,1,1),1),2)\n",
    "UTensor_actual[:,:,τ] =  sum(sum(c2c_tensor_true .* \n",
    "                        reshape(prob_nondetect_Tensor[:,:,τ-1],Ncell,Z,1,1) .* \n",
    "                        reshape(UTensor[:,:,τ-1],Ncell,Z,1,1),1),2)\n",
    "obj, assignment, prob_nondetect, res_alloc = CE_parallel(Φ,UTensor[:,:,τ],W)\n",
    "prob_nondetect_Tensor[:,:,τ] = prob_nondetect\n",
    "actual = sum(UTensor_actual[:,:,τ] .* prob_nondetect_Tensor[:,:,τ])\n",
    "push!(actuals,actual)\n",
    "print(actual,\"\\n\")\n",
    "print(obj,\"\\n\")\n",
    "print(actual / obj)"
   ]
  },
  {
   "cell_type": "code",
   "execution_count": 97,
   "metadata": {},
   "outputs": [
    {
     "data": {
      "text/plain": [
       "1×1×9 Array{Float64,3}:\n",
       "[:, :, 1] =\n",
       " 0.796892\n",
       "\n",
       "[:, :, 2] =\n",
       " 0.68187\n",
       "\n",
       "[:, :, 3] =\n",
       " 0.0\n",
       "\n",
       "[:, :, 4] =\n",
       " 0.0\n",
       "\n",
       "[:, :, 5] =\n",
       " 0.0\n",
       "\n",
       "[:, :, 6] =\n",
       " 0.0\n",
       "\n",
       "[:, :, 7] =\n",
       " 0.0\n",
       "\n",
       "[:, :, 8] =\n",
       " 0.0\n",
       "\n",
       "[:, :, 9] =\n",
       " 0.0"
      ]
     },
     "execution_count": 97,
     "metadata": {},
     "output_type": "execute_result"
    }
   ],
   "source": [
    "nondetection_no_movement_test = compute_non_detection_test(prior, W, c2c_tensor_true,prob_nondetect_Tensor,T)\n",
    "# nondetection_no_movement_test[:,:,τ]"
   ]
  },
  {
   "cell_type": "code",
   "execution_count": 98,
   "metadata": {},
   "outputs": [],
   "source": [
    "num_CE_movementmet = 1000\n",
    "movement_assign = zeros(3,3,num_CE_movementmet)\n",
    "movement_obj = []\n",
    "\n",
    "for i=1:num_CE_movementmet\n",
    "    moving_mat = rand(Uniform(0,1), 3,3)\n",
    "    moving_mat = moving_mat/sum(moving_mat)\n",
    "    c2c_tensor_trial = build_c2c_tensor(moving_mat)\n",
    "    UTensor_trial = reshape(sum(sum(c2c_tensor_trial .* \n",
    "                            reshape(prob_nondetect_Tensor[:,:,τ-1],Ncell,Z,1,1) .* \n",
    "                            reshape(UTensor[:,:,τ-1],Ncell,Z,1,1),1),2),Ncell,Z)\n",
    "    trial_obj = sum(UTensor_trial .* prob_nondetect_Tensor[:,:,τ])\n",
    "    movement_assign[:,:,i] = moving_mat\n",
    "    push!(movement_obj, trial_obj)\n",
    "end\n"
   ]
  },
  {
   "cell_type": "code",
   "execution_count": 99,
   "metadata": {},
   "outputs": [
    {
     "data": {
      "text/plain": [
       "Summary Stats:\n",
       "Mean:           0.688957\n",
       "Minimum:        0.643502\n",
       "1st Quartile:   0.682012\n",
       "Median:         0.688787\n",
       "3rd Quartile:   0.696243\n",
       "Maximum:        0.722120\n"
      ]
     },
     "execution_count": 99,
     "metadata": {},
     "output_type": "execute_result"
    }
   ],
   "source": [
    "summarystats(movement_obj.* 1.0)"
   ]
  },
  {
   "cell_type": "code",
   "execution_count": null,
   "metadata": {},
   "outputs": [],
   "source": []
  },
  {
   "cell_type": "code",
   "execution_count": null,
   "metadata": {},
   "outputs": [],
   "source": []
  },
  {
   "cell_type": "code",
   "execution_count": null,
   "metadata": {},
   "outputs": [],
   "source": []
  },
  {
   "cell_type": "code",
   "execution_count": 101,
   "metadata": {},
   "outputs": [
    {
     "data": {
      "text/plain": [
       "10"
      ]
     },
     "execution_count": 101,
     "metadata": {},
     "output_type": "execute_result"
    }
   ],
   "source": [
    "Threshold_movement = 10"
   ]
  },
  {
   "cell_type": "code",
   "execution_count": 102,
   "metadata": {},
   "outputs": [
    {
     "data": {
      "text/plain": [
       "3×3 Array{Float64,2}:\n",
       " 0.0711157  0.155861   0.204813 \n",
       " 0.0569365  0.177656   0.212328 \n",
       " 0.0413195  0.0485561  0.0314142"
      ]
     },
     "execution_count": 102,
     "metadata": {},
     "output_type": "execute_result"
    }
   ],
   "source": [
    "best_ind = sortperm(movement_obj)[1:Threshold_movement]\n",
    "MV = squeeze(sum(movement_assign[:,:,best_ind],3)/Threshold_movement,3)"
   ]
  },
  {
   "cell_type": "code",
   "execution_count": null,
   "metadata": {},
   "outputs": [],
   "source": [
    "best_ind = sortperm(movement_obj)[num_CE_movementmet-Threshold_movement+1:num_CE_movementmet]\n",
    "MV = squeeze(sum(movement_assign[:,:,best_ind],3)/Threshold_movement,3)"
   ]
  },
  {
   "cell_type": "code",
   "execution_count": null,
   "metadata": {},
   "outputs": [],
   "source": [
    "best_ind = sortperm(abs.(movement_obj - actual))[1:Threshold_movement]\n",
    "MV = squeeze(sum(movement_assign[:,:,best_ind],3)/Threshold_movement,3)"
   ]
  },
  {
   "cell_type": "code",
   "execution_count": 103,
   "metadata": {},
   "outputs": [
    {
     "data": {
      "text/plain": [
       "3×3 Array{Float64,2}:\n",
       " 0.125037   0.137514   0.113852 \n",
       " 0.0886206  0.13741    0.121492 \n",
       " 0.115099   0.0943378  0.0666373"
      ]
     },
     "execution_count": 103,
     "metadata": {},
     "output_type": "execute_result"
    }
   ],
   "source": [
    "best_ind = sortperm((movement_obj - actual .<= 0) + (movement_obj - actual))[1:Threshold_movement]\n",
    "MV = squeeze(sum(movement_assign[:,:,best_ind],3)/Threshold_movement,3)"
   ]
  },
  {
   "cell_type": "code",
   "execution_count": 104,
   "metadata": {},
   "outputs": [
    {
     "name": "stdout",
     "output_type": "stream",
     "text": [
      "1.0000000000000002\n"
     ]
    }
   ],
   "source": [
    "\n",
    "c2c_tensor_opposite = build_c2c_tensor(MV)\n",
    "print(sum(moving_mat),\"\\n\")"
   ]
  },
  {
   "cell_type": "code",
   "execution_count": 105,
   "metadata": {},
   "outputs": [
    {
     "data": {
      "text/plain": [
       "3×3×10 Array{Float64,3}:\n",
       "[:, :, 1] =\n",
       " 0.0367555  0.00788189  0.181411\n",
       " 0.0658555  0.181648    0.194336\n",
       " 0.0987716  0.172424    0.060916\n",
       "\n",
       "[:, :, 2] =\n",
       " 0.0524761  0.119459  0.165555\n",
       " 0.127515   0.113845  0.126961\n",
       " 0.104955   0.085716  0.103519\n",
       "\n",
       "[:, :, 3] =\n",
       " 0.102737   0.165625  0.0806469\n",
       " 0.0304964  0.140287  0.15259  \n",
       " 0.154819   0.105901  0.0668966\n",
       "\n",
       "[:, :, 4] =\n",
       " 0.188766   0.237796   0.156629 \n",
       " 0.0853273  0.026303   0.0368134\n",
       " 0.113453   0.0229661  0.131946 \n",
       "\n",
       "[:, :, 5] =\n",
       " 0.180488   0.197111   0.00030606\n",
       " 0.194253   0.172703   0.0919623 \n",
       " 0.0907715  0.0210675  0.051339  \n",
       "\n",
       "[:, :, 6] =\n",
       " 0.191596   0.078806   0.102836 \n",
       " 0.156038   0.0864887  0.192181 \n",
       " 0.0921154  0.0881701  0.0117686\n",
       "\n",
       "[:, :, 7] =\n",
       " 0.180555    0.178347  0.041392  \n",
       " 0.00474756  0.159394  0.139868  \n",
       " 0.169219    0.116665  0.00981157\n",
       "\n",
       "[:, :, 8] =\n",
       " 0.0644515  0.0929632  0.16791  \n",
       " 0.0405651  0.150798   0.145599 \n",
       " 0.148367   0.142947   0.0463974\n",
       "\n",
       "[:, :, 9] =\n",
       " 0.135195   0.151909  0.0727366\n",
       " 0.0332865  0.158345  0.131039 \n",
       " 0.0778124  0.155047  0.0846304\n",
       "\n",
       "[:, :, 10] =\n",
       " 0.11735   0.145243   0.169094  \n",
       " 0.148122  0.184292   0.00356837\n",
       " 0.100709  0.0324735  0.0991484 "
      ]
     },
     "execution_count": 105,
     "metadata": {},
     "output_type": "execute_result"
    }
   ],
   "source": [
    "movement_assign[:,:,best_ind]"
   ]
  },
  {
   "cell_type": "code",
   "execution_count": null,
   "metadata": {},
   "outputs": [],
   "source": []
  },
  {
   "cell_type": "code",
   "execution_count": null,
   "metadata": {},
   "outputs": [],
   "source": []
  },
  {
   "cell_type": "code",
   "execution_count": 72,
   "metadata": {},
   "outputs": [
    {
     "name": "stdout",
     "output_type": "stream",
     "text": [
      "0.5819525994211606\n",
      "0.5609759536500553\n",
      "1.0373931282341398"
     ]
    }
   ],
   "source": [
    "τ = 3\n",
    "UTensor[:,:,τ] =  sum(sum(c2c_tensor_opposite .* \n",
    "                        reshape(prob_nondetect_Tensor[:,:,τ-1],Ncell,Z,1,1) .* \n",
    "                        reshape(UTensor[:,:,τ-1],Ncell,Z,1,1),1),2)\n",
    "UTensor_actual[:,:,τ] =  sum(sum(c2c_tensor_true .* \n",
    "                        reshape(prob_nondetect_Tensor[:,:,τ-1],Ncell,Z,1,1) .* \n",
    "                        reshape(UTensor_actual[:,:,τ-1],Ncell,Z,1,1),1),2)\n",
    "obj, assignment, prob_nondetect, res_alloc = CE_parallel(Φ,UTensor[:,:,τ],W)\n",
    "prob_nondetect_Tensor[:,:,τ] = prob_nondetect\n",
    "actual = sum(UTensor_actual[:,:,τ] .* prob_nondetect_Tensor[:,:,τ])\n",
    "push!(actuals,actual)\n",
    "print(actual,\"\\n\")\n",
    "print(obj,\"\\n\")\n",
    "print(actual / obj)"
   ]
  },
  {
   "cell_type": "code",
   "execution_count": 73,
   "metadata": {},
   "outputs": [
    {
     "data": {
      "text/plain": [
       "1×1×9 Array{Float64,3}:\n",
       "[:, :, 1] =\n",
       " 0.7977\n",
       "\n",
       "[:, :, 2] =\n",
       " 0.673074\n",
       "\n",
       "[:, :, 3] =\n",
       " 0.581953\n",
       "\n",
       "[:, :, 4] =\n",
       " 0.0\n",
       "\n",
       "[:, :, 5] =\n",
       " 0.0\n",
       "\n",
       "[:, :, 6] =\n",
       " 0.0\n",
       "\n",
       "[:, :, 7] =\n",
       " 0.0\n",
       "\n",
       "[:, :, 8] =\n",
       " 0.0\n",
       "\n",
       "[:, :, 9] =\n",
       " 0.0"
      ]
     },
     "execution_count": 73,
     "metadata": {},
     "output_type": "execute_result"
    }
   ],
   "source": [
    "nondetection_no_movement_test = compute_non_detection_test(prior, W, c2c_tensor_true,prob_nondetect_Tensor,T)\n",
    "# nondetection_no_movement_test[:,:,τ]"
   ]
  },
  {
   "cell_type": "code",
   "execution_count": 77,
   "metadata": {},
   "outputs": [],
   "source": [
    "num_CE_movementmet = 1000\n",
    "movement_assign = zeros(3,3,num_CE_movementmet)\n",
    "movement_obj = []\n",
    "\n",
    "for i=1:num_CE_movementmet\n",
    "    moving_mat = rand(Uniform(0,1), 3,3)\n",
    "    moving_mat = moving_mat/sum(moving_mat)\n",
    "    c2c_tensor_trial = build_c2c_tensor(moving_mat)\n",
    "    nondetection_no_movement_test_trial = compute_non_detection_test(prior, W, c2c_tensor_trial,prob_nondetect_Tensor,T)\n",
    "    trial_obj = sum(abs.(actuals[2:τ]  - reshape(nondetection_no_movement_test_trial[:,:,2:τ],(τ-1),1)))/(τ-1)\n",
    "    \n",
    "    movement_assign[:,:,i] = moving_mat\n",
    "    push!(movement_obj, trial_obj)\n",
    "end\n"
   ]
  },
  {
   "cell_type": "code",
   "execution_count": 78,
   "metadata": {},
   "outputs": [
    {
     "data": {
      "text/plain": [
       "3×3 Array{Float64,2}:\n",
       " 0.041928   0.110205   0.142654\n",
       " 0.0483606  0.173311   0.189649\n",
       " 0.0462812  0.0935984  0.154012"
      ]
     },
     "metadata": {},
     "output_type": "display_data"
    },
    {
     "name": "stdout",
     "output_type": "stream",
     "text": [
      "1.0\n"
     ]
    }
   ],
   "source": [
    "best_ind = sortperm(movement_obj)[1:Threshold_movement]\n",
    "MV = squeeze(sum(movement_assign[:,:,best_ind],3)/Threshold_movement,3)\n",
    "\n",
    "c2c_tensor_opposite = build_c2c_tensor(MV)\n",
    "print(sum(moving_mat),\"\\n\")\n",
    "display(MV)"
   ]
  },
  {
   "cell_type": "code",
   "execution_count": null,
   "metadata": {},
   "outputs": [],
   "source": []
  },
  {
   "cell_type": "code",
   "execution_count": null,
   "metadata": {},
   "outputs": [],
   "source": []
  },
  {
   "cell_type": "code",
   "execution_count": null,
   "metadata": {},
   "outputs": [],
   "source": []
  },
  {
   "cell_type": "code",
   "execution_count": 80,
   "metadata": {},
   "outputs": [
    {
     "name": "stdout",
     "output_type": "stream",
     "text": [
      "0.5309561847888082\n",
      "0.49592780100844264\n",
      "1.0706320228652986"
     ]
    }
   ],
   "source": [
    "τ = 4\n",
    "UTensor[:,:,τ] =  sum(sum(c2c_tensor_opposite .* \n",
    "                        reshape(prob_nondetect_Tensor[:,:,τ-1],Ncell,Z,1,1) .* \n",
    "                        reshape(UTensor[:,:,τ-1],Ncell,Z,1,1),1),2)\n",
    "UTensor_actual[:,:,τ] =  sum(sum(c2c_tensor_true .* \n",
    "                        reshape(prob_nondetect_Tensor[:,:,τ-1],Ncell,Z,1,1) .* \n",
    "                        reshape(UTensor_actual[:,:,τ-1],Ncell,Z,1,1),1),2)\n",
    "obj, assignment, prob_nondetect, res_alloc = CE_parallel(Φ,UTensor[:,:,τ],W)\n",
    "prob_nondetect_Tensor[:,:,τ] = prob_nondetect\n",
    "actual = sum(UTensor_actual[:,:,τ] .* prob_nondetect_Tensor[:,:,τ])\n",
    "push!(actuals,actual)\n",
    "print(actual,\"\\n\")\n",
    "print(obj,\"\\n\")\n",
    "print(actual / obj)"
   ]
  },
  {
   "cell_type": "code",
   "execution_count": 81,
   "metadata": {},
   "outputs": [
    {
     "data": {
      "text/plain": [
       "1×1×9 Array{Float64,3}:\n",
       "[:, :, 1] =\n",
       " 0.7977\n",
       "\n",
       "[:, :, 2] =\n",
       " 0.673074\n",
       "\n",
       "[:, :, 3] =\n",
       " 0.581953\n",
       "\n",
       "[:, :, 4] =\n",
       " 0.530956\n",
       "\n",
       "[:, :, 5] =\n",
       " 0.0\n",
       "\n",
       "[:, :, 6] =\n",
       " 0.0\n",
       "\n",
       "[:, :, 7] =\n",
       " 0.0\n",
       "\n",
       "[:, :, 8] =\n",
       " 0.0\n",
       "\n",
       "[:, :, 9] =\n",
       " 0.0"
      ]
     },
     "execution_count": 81,
     "metadata": {},
     "output_type": "execute_result"
    }
   ],
   "source": [
    "nondetection_no_movement_test = compute_non_detection_test(prior, W, c2c_tensor_true,prob_nondetect_Tensor,T)\n",
    "# nondetection_no_movement_test[:,:,τ]"
   ]
  },
  {
   "cell_type": "code",
   "execution_count": 82,
   "metadata": {},
   "outputs": [],
   "source": [
    "num_CE_movementmet = 1000\n",
    "movement_assign = zeros(3,3,num_CE_movementmet)\n",
    "movement_obj = []\n",
    "\n",
    "for i=1:num_CE_movementmet\n",
    "    moving_mat = rand(Uniform(0,1), 3,3)\n",
    "    moving_mat = moving_mat/sum(moving_mat)\n",
    "    c2c_tensor_trial = build_c2c_tensor(moving_mat)\n",
    "    nondetection_no_movement_test_trial = compute_non_detection_test(prior, W, c2c_tensor_trial,prob_nondetect_Tensor,T)\n",
    "    trial_obj = sum(abs.(actuals[2:τ]  - reshape(nondetection_no_movement_test_trial[:,:,2:τ],(τ-1),1)))/(τ-1)\n",
    "    \n",
    "    movement_assign[:,:,i] = moving_mat\n",
    "    push!(movement_obj, trial_obj)\n",
    "end\n"
   ]
  },
  {
   "cell_type": "code",
   "execution_count": 83,
   "metadata": {},
   "outputs": [
    {
     "data": {
      "text/plain": [
       "3×3 Array{Float64,2}:\n",
       " 0.06684    0.145632   0.142461\n",
       " 0.0533047  0.17369    0.167703\n",
       " 0.050015   0.0948321  0.105523"
      ]
     },
     "metadata": {},
     "output_type": "display_data"
    },
    {
     "name": "stdout",
     "output_type": "stream",
     "text": [
      "0.9999999999999998\n"
     ]
    }
   ],
   "source": [
    "best_ind = sortperm(movement_obj)[1:Threshold_movement]\n",
    "MV = squeeze(sum(movement_assign[:,:,best_ind],3)/Threshold_movement,3)\n",
    "\n",
    "c2c_tensor_opposite = build_c2c_tensor(MV)\n",
    "print(sum(moving_mat),\"\\n\")\n",
    "display(MV)"
   ]
  },
  {
   "cell_type": "code",
   "execution_count": null,
   "metadata": {},
   "outputs": [],
   "source": []
  },
  {
   "cell_type": "code",
   "execution_count": 84,
   "metadata": {},
   "outputs": [
    {
     "name": "stdout",
     "output_type": "stream",
     "text": [
      "0.4991340883967163\n",
      "0.4501033153009284\n",
      "1.108932263835931"
     ]
    }
   ],
   "source": [
    "τ = 5\n",
    "UTensor[:,:,τ] =  sum(sum(c2c_tensor_opposite .* \n",
    "                        reshape(prob_nondetect_Tensor[:,:,τ-1],Ncell,Z,1,1) .* \n",
    "                        reshape(UTensor[:,:,τ-1],Ncell,Z,1,1),1),2)\n",
    "UTensor_actual[:,:,τ] =  sum(sum(c2c_tensor_true .* \n",
    "                        reshape(prob_nondetect_Tensor[:,:,τ-1],Ncell,Z,1,1) .* \n",
    "                        reshape(UTensor_actual[:,:,τ-1],Ncell,Z,1,1),1),2)\n",
    "obj, assignment, prob_nondetect, res_alloc = CE_parallel(Φ,UTensor[:,:,τ],W)\n",
    "prob_nondetect_Tensor[:,:,τ] = prob_nondetect\n",
    "actual = sum(UTensor_actual[:,:,τ] .* prob_nondetect_Tensor[:,:,τ])\n",
    "push!(actuals,actual)\n",
    "print(actual,\"\\n\")\n",
    "print(obj,\"\\n\")\n",
    "print(actual / obj)"
   ]
  },
  {
   "cell_type": "code",
   "execution_count": 85,
   "metadata": {},
   "outputs": [
    {
     "data": {
      "text/plain": [
       "1×1×9 Array{Float64,3}:\n",
       "[:, :, 1] =\n",
       " 0.7977\n",
       "\n",
       "[:, :, 2] =\n",
       " 0.673074\n",
       "\n",
       "[:, :, 3] =\n",
       " 0.581953\n",
       "\n",
       "[:, :, 4] =\n",
       " 0.530956\n",
       "\n",
       "[:, :, 5] =\n",
       " 0.499134\n",
       "\n",
       "[:, :, 6] =\n",
       " 0.0\n",
       "\n",
       "[:, :, 7] =\n",
       " 0.0\n",
       "\n",
       "[:, :, 8] =\n",
       " 0.0\n",
       "\n",
       "[:, :, 9] =\n",
       " 0.0"
      ]
     },
     "execution_count": 85,
     "metadata": {},
     "output_type": "execute_result"
    }
   ],
   "source": [
    "nondetection_no_movement_test = compute_non_detection_test(prior, W, c2c_tensor_true,prob_nondetect_Tensor,T)\n",
    "# nondetection_no_movement_test[:,:,τ]"
   ]
  },
  {
   "cell_type": "code",
   "execution_count": 88,
   "metadata": {},
   "outputs": [],
   "source": [
    "num_CE_movementmet = 1000\n",
    "movement_assign = zeros(3,3,num_CE_movementmet)\n",
    "movement_obj = []\n",
    "\n",
    "for i=1:num_CE_movementmet\n",
    "    moving_mat = rand(Uniform(0,1), 3,3)\n",
    "    moving_mat = moving_mat/sum(moving_mat)\n",
    "    c2c_tensor_trial = build_c2c_tensor(moving_mat)\n",
    "    nondetection_no_movement_test_trial = compute_non_detection_test(prior, W, c2c_tensor_trial,prob_nondetect_Tensor,T)\n",
    "    trial_obj = sum(abs.(actuals[2:τ]  - reshape(nondetection_no_movement_test_trial[:,:,2:τ],(τ-1),1)))/(τ-1)\n",
    "    \n",
    "    movement_assign[:,:,i] = moving_mat\n",
    "    push!(movement_obj, trial_obj)\n",
    "end\n"
   ]
  },
  {
   "cell_type": "code",
   "execution_count": 89,
   "metadata": {},
   "outputs": [
    {
     "data": {
      "text/plain": [
       "3×3 Array{Float64,2}:\n",
       " 0.0988933  0.137692   0.177117\n",
       " 0.0601485  0.105783   0.162905\n",
       " 0.0441775  0.0886934  0.12459 "
      ]
     },
     "metadata": {},
     "output_type": "display_data"
    },
    {
     "name": "stdout",
     "output_type": "stream",
     "text": [
      "1.0000000000000002\n"
     ]
    }
   ],
   "source": [
    "best_ind = sortperm(movement_obj)[1:Threshold_movement]\n",
    "MV = squeeze(sum(movement_assign[:,:,best_ind],3)/Threshold_movement,3)\n",
    "\n",
    "c2c_tensor_opposite = build_c2c_tensor(MV)\n",
    "print(sum(moving_mat),\"\\n\")\n",
    "display(MV)"
   ]
  },
  {
   "cell_type": "code",
   "execution_count": null,
   "metadata": {},
   "outputs": [],
   "source": []
  },
  {
   "cell_type": "code",
   "execution_count": null,
   "metadata": {},
   "outputs": [],
   "source": []
  },
  {
   "cell_type": "code",
   "execution_count": null,
   "metadata": {},
   "outputs": [],
   "source": []
  },
  {
   "cell_type": "code",
   "execution_count": 90,
   "metadata": {},
   "outputs": [
    {
     "name": "stdout",
     "output_type": "stream",
     "text": [
      "0.4790297441382676\n",
      "0.4159420481871932\n",
      "1.1516742445877508"
     ]
    }
   ],
   "source": [
    "τ = 6\n",
    "UTensor[:,:,τ] =  sum(sum(c2c_tensor_opposite .* \n",
    "                        reshape(prob_nondetect_Tensor[:,:,τ-1],Ncell,Z,1,1) .* \n",
    "                        reshape(UTensor[:,:,τ-1],Ncell,Z,1,1),1),2)\n",
    "UTensor_actual[:,:,τ] =  sum(sum(c2c_tensor_true .* \n",
    "                        reshape(prob_nondetect_Tensor[:,:,τ-1],Ncell,Z,1,1) .* \n",
    "                        reshape(UTensor_actual[:,:,τ-1],Ncell,Z,1,1),1),2)\n",
    "obj, assignment, prob_nondetect, res_alloc = CE_parallel(Φ,UTensor[:,:,τ],W)\n",
    "prob_nondetect_Tensor[:,:,τ] = prob_nondetect\n",
    "actual = sum(UTensor_actual[:,:,τ] .* prob_nondetect_Tensor[:,:,τ])\n",
    "push!(actuals,actual)\n",
    "print(actual,\"\\n\")\n",
    "print(obj,\"\\n\")\n",
    "print(actual / obj)"
   ]
  },
  {
   "cell_type": "code",
   "execution_count": 91,
   "metadata": {},
   "outputs": [
    {
     "data": {
      "text/plain": [
       "1×1×9 Array{Float64,3}:\n",
       "[:, :, 1] =\n",
       " 0.7977\n",
       "\n",
       "[:, :, 2] =\n",
       " 0.673074\n",
       "\n",
       "[:, :, 3] =\n",
       " 0.581953\n",
       "\n",
       "[:, :, 4] =\n",
       " 0.530956\n",
       "\n",
       "[:, :, 5] =\n",
       " 0.499134\n",
       "\n",
       "[:, :, 6] =\n",
       " 0.47903\n",
       "\n",
       "[:, :, 7] =\n",
       " 0.0\n",
       "\n",
       "[:, :, 8] =\n",
       " 0.0\n",
       "\n",
       "[:, :, 9] =\n",
       " 0.0"
      ]
     },
     "execution_count": 91,
     "metadata": {},
     "output_type": "execute_result"
    }
   ],
   "source": [
    "nondetection_no_movement_test = compute_non_detection_test(prior, W, c2c_tensor_true,prob_nondetect_Tensor,T)\n",
    "# nondetection_no_movement_test[:,:,τ]"
   ]
  },
  {
   "cell_type": "code",
   "execution_count": 92,
   "metadata": {},
   "outputs": [],
   "source": [
    "num_CE_movementmet = 1000\n",
    "movement_assign = zeros(3,3,num_CE_movementmet)\n",
    "movement_obj = []\n",
    "\n",
    "for i=1:num_CE_movementmet\n",
    "    moving_mat = rand(Uniform(0,1), 3,3)\n",
    "    moving_mat = moving_mat/sum(moving_mat)\n",
    "    c2c_tensor_trial = build_c2c_tensor(moving_mat)\n",
    "    nondetection_no_movement_test_trial = compute_non_detection_test(prior, W, c2c_tensor_trial,prob_nondetect_Tensor,T)\n",
    "    trial_obj = sum(abs.(actuals[2:τ]  - reshape(nondetection_no_movement_test_trial[:,:,2:τ],(τ-1),1)))/(τ-1)\n",
    "    \n",
    "    movement_assign[:,:,i] = moving_mat\n",
    "    push!(movement_obj, trial_obj)\n",
    "end\n"
   ]
  },
  {
   "cell_type": "code",
   "execution_count": 93,
   "metadata": {},
   "outputs": [
    {
     "data": {
      "text/plain": [
       "3×3 Array{Float64,2}:\n",
       " 0.0964444  0.153248   0.17975  \n",
       " 0.0543752  0.140829   0.151633 \n",
       " 0.065972   0.0734731  0.0842759"
      ]
     },
     "metadata": {},
     "output_type": "display_data"
    },
    {
     "name": "stdout",
     "output_type": "stream",
     "text": [
      "1.0000000000000002\n"
     ]
    }
   ],
   "source": [
    "best_ind = sortperm(movement_obj)[1:Threshold_movement]\n",
    "MV = squeeze(sum(movement_assign[:,:,best_ind],3)/Threshold_movement,3)\n",
    "\n",
    "c2c_tensor_opposite = build_c2c_tensor(MV)\n",
    "print(sum(moving_mat),\"\\n\")\n",
    "display(MV)"
   ]
  },
  {
   "cell_type": "code",
   "execution_count": null,
   "metadata": {},
   "outputs": [],
   "source": []
  },
  {
   "cell_type": "code",
   "execution_count": null,
   "metadata": {},
   "outputs": [],
   "source": []
  },
  {
   "cell_type": "code",
   "execution_count": null,
   "metadata": {},
   "outputs": [],
   "source": []
  },
  {
   "cell_type": "code",
   "execution_count": null,
   "metadata": {},
   "outputs": [],
   "source": [
    "τ = 7\n",
    "UTensor[:,:,τ] =  sum(sum(c2c_tensor_init .* \n",
    "                        reshape(prob_nondetect_Tensor[:,:,τ-1],Ncell,Z,1,1) .* \n",
    "                        reshape(UTensor[:,:,τ-1],Ncell,Z,1,1),1),2)\n",
    "UTensor_actual[:,:,τ] =  sum(sum(c2c_tensor_true .* \n",
    "                        reshape(prob_nondetect_Tensor[:,:,τ-1],Ncell,Z,1,1) .* \n",
    "                        reshape(UTensor[:,:,τ-1],Ncell,Z,1,1),1),2)\n",
    "obj, assignment, prob_nondetect, res_alloc = CE_parallel(Φ,UTensor[:,:,τ],W)\n",
    "prob_nondetect_Tensor[:,:,τ] = prob_nondetect\n",
    "actual = sum(UTensor_actual[:,:,τ] .* prob_nondetect_Tensor[:,:,τ])\n",
    "print(actual,\"\\n\")\n",
    "print(obj,\"\\n\")\n",
    "print(actual / obj)"
   ]
  },
  {
   "cell_type": "code",
   "execution_count": null,
   "metadata": {},
   "outputs": [],
   "source": [
    "τ = 8\n",
    "UTensor[:,:,τ] =  sum(sum(c2c_tensor_init .* \n",
    "                        reshape(prob_nondetect_Tensor[:,:,τ-1],Ncell,Z,1,1) .* \n",
    "                        reshape(UTensor[:,:,τ-1],Ncell,Z,1,1),1),2)\n",
    "UTensor_actual[:,:,τ] =  sum(sum(c2c_tensor_true .* \n",
    "                        reshape(prob_nondetect_Tensor[:,:,τ-1],Ncell,Z,1,1) .* \n",
    "                        reshape(UTensor[:,:,τ-1],Ncell,Z,1,1),1),2)\n",
    "obj, assignment, prob_nondetect, res_alloc = CE_parallel(Φ,UTensor[:,:,τ],W)\n",
    "prob_nondetect_Tensor[:,:,τ] = prob_nondetect\n",
    "actual = sum(UTensor_actual[:,:,τ] .* prob_nondetect_Tensor[:,:,τ])\n",
    "print(actual,\"\\n\")\n",
    "print(obj,\"\\n\")\n",
    "print(actual / obj)"
   ]
  },
  {
   "cell_type": "code",
   "execution_count": null,
   "metadata": {},
   "outputs": [],
   "source": [
    "τ = 9\n",
    "UTensor[:,:,τ] =  sum(sum(c2c_tensor_init .* \n",
    "                        reshape(prob_nondetect_Tensor[:,:,τ-1],Ncell,Z,1,1) .* \n",
    "                        reshape(UTensor[:,:,τ-1],Ncell,Z,1,1),1),2)\n",
    "UTensor_actual[:,:,τ] =  sum(sum(c2c_tensor_true .* \n",
    "                        reshape(prob_nondetect_Tensor[:,:,τ-1],Ncell,Z,1,1) .* \n",
    "                        reshape(UTensor[:,:,τ-1],Ncell,Z,1,1),1),2)\n",
    "obj, assignment, prob_nondetect, res_alloc = CE_parallel(Φ,UTensor[:,:,τ],W)\n",
    "prob_nondetect_Tensor[:,:,τ] = prob_nondetect\n",
    "actual = sum(UTensor_actual[:,:,τ] .* prob_nondetect_Tensor[:,:,τ])\n",
    "print(actual,\"\\n\")\n",
    "print(obj,\"\\n\")\n",
    "print(actual / obj)"
   ]
  },
  {
   "cell_type": "code",
   "execution_count": null,
   "metadata": {},
   "outputs": [],
   "source": []
  },
  {
   "cell_type": "code",
   "execution_count": null,
   "metadata": {},
   "outputs": [],
   "source": []
  },
  {
   "cell_type": "code",
   "execution_count": null,
   "metadata": {},
   "outputs": [],
   "source": []
  },
  {
   "cell_type": "code",
   "execution_count": null,
   "metadata": {},
   "outputs": [],
   "source": []
  },
  {
   "cell_type": "code",
   "execution_count": null,
   "metadata": {},
   "outputs": [],
   "source": []
  },
  {
   "cell_type": "code",
   "execution_count": null,
   "metadata": {},
   "outputs": [],
   "source": []
  },
  {
   "cell_type": "code",
   "execution_count": null,
   "metadata": {},
   "outputs": [],
   "source": []
  },
  {
   "cell_type": "code",
   "execution_count": null,
   "metadata": {},
   "outputs": [],
   "source": []
  },
  {
   "cell_type": "code",
   "execution_count": null,
   "metadata": {},
   "outputs": [],
   "source": []
  },
  {
   "cell_type": "code",
   "execution_count": null,
   "metadata": {},
   "outputs": [],
   "source": [
    "\n",
    "# When you have the true moving probability\n",
    "T = 4\n",
    "tic()\n",
    "moving_target_obj_vec, prob_nondetect_Tensor, final_assignment, final_res_alloc = mov_target_CE(prior,W,c2c_tensor_true)\n",
    "nondetection_true = compute_non_detection(prior, W, c2c_tensor_true,final_assignment, final_res_alloc)\n",
    "print(nondetection_true,\"\\n\")\n",
    "toc()\n",
    "\n",
    "\n",
    "\n",
    "\n",
    "# When you DO NOT have the true moving probability and we assume uniform moving probability\n",
    "\n",
    "T = 4\n",
    "tic()\n",
    "moving_target_obj_vec, prob_nondetect_Tensor, final_assignment, final_res_alloc = mov_target_CE(prior,W,c2c_tensor_init)\n",
    "nondetection_no_movement = compute_non_detection(prior, W, c2c_tensor_true,final_assignment, final_res_alloc)\n",
    "print(nondetection_no_movement,\"\\n\")\n",
    "toc()\n",
    "\n",
    "\n",
    "# What if I assume a distribution (which makes detection easier), but the true distribution is uniform\n",
    "T = 4\n",
    "tic()\n",
    "moving_target_obj_vec, prob_nondetect_Tensor, final_assignment, final_res_alloc = mov_target_CE(prior,W,c2c_tensor_true)\n",
    "nondetection_no_movement_reverse = compute_non_detection(prior, W, c2c_tensor_init,final_assignment, final_res_alloc)\n",
    "print(nondetection_no_movement_reverse,\"\\n\")\n",
    "toc()\n"
   ]
  },
  {
   "cell_type": "code",
   "execution_count": null,
   "metadata": {},
   "outputs": [],
   "source": []
  },
  {
   "cell_type": "code",
   "execution_count": null,
   "metadata": {},
   "outputs": [],
   "source": [
    "T = 10\n",
    "moving_mat= ones(3,3)/9\n",
    "c2c_tensor_init = build_c2c_tensor(moving_mat)"
   ]
  },
  {
   "cell_type": "code",
   "execution_count": null,
   "metadata": {},
   "outputs": [],
   "source": [
    "UTensor = zeros(Ncell,Z,T)\n",
    "UTensor[:,:,1] =  prior\n",
    "        \n",
    "UTensor_actual = zeros(Ncell,Z,T)\n",
    "UTensor_actual[:,:,1] =  prior\n",
    "\n",
    "prob_nondetect_Tensor = zeros(Ncell,Z,T)\n"
   ]
  },
  {
   "cell_type": "code",
   "execution_count": null,
   "metadata": {},
   "outputs": [],
   "source": [
    "τ = 1\n",
    "obj, assignment, prob_nondetect, res_alloc = CE_parallel(Φ,UTensor[:,:,τ],W)\n",
    "prob_nondetect_Tensor[:,:,τ] = prob_nondetect\n",
    "print(sum(UTensor_actual[:,:,τ] .* prob_nondetect_Tensor[:,:,τ]),\"\\n\")\n",
    "obj"
   ]
  },
  {
   "cell_type": "code",
   "execution_count": null,
   "metadata": {},
   "outputs": [],
   "source": [
    "τ = 2\n",
    "UTensor[:,:,τ] =  sum(sum(c2c_tensor_init .* \n",
    "                        reshape(prob_nondetect_Tensor[:,:,τ-1],Ncell,Z,1,1) .* \n",
    "                        reshape(UTensor[:,:,τ-1],Ncell,Z,1,1),1),2)\n",
    "UTensor_actual[:,:,τ] =  sum(sum(c2c_tensor_true .* \n",
    "                        reshape(prob_nondetect_Tensor[:,:,τ-1],Ncell,Z,1,1) .* \n",
    "                        reshape(UTensor_actual[:,:,τ-1],Ncell,Z,1,1),1),2)\n",
    "obj, assignment, prob_nondetect, res_alloc = CE_parallel(Φ,UTensor[:,:,τ],W)\n",
    "prob_nondetect_Tensor[:,:,τ] = prob_nondetect\n",
    "actual = sum(UTensor_actual[:,:,τ] .* prob_nondetect_Tensor[:,:,τ])\n",
    "print(actual,\"\\n\")\n",
    "print(obj,\"\\n\")\n",
    "print(actual / obj)"
   ]
  },
  {
   "cell_type": "code",
   "execution_count": null,
   "metadata": {},
   "outputs": [],
   "source": [
    "τ = 3\n",
    "UTensor[:,:,τ] =  sum(sum(c2c_tensor_init .* \n",
    "                        reshape(prob_nondetect_Tensor[:,:,τ-1],Ncell,Z,1,1) .* \n",
    "                        reshape(UTensor[:,:,τ-1],Ncell,Z,1,1),1),2)\n",
    "UTensor_actual[:,:,τ] =  sum(sum(c2c_tensor_true .* \n",
    "                        reshape(prob_nondetect_Tensor[:,:,τ-1],Ncell,Z,1,1) .* \n",
    "                        reshape(UTensor_actual[:,:,τ-1],Ncell,Z,1,1),1),2)\n",
    "obj, assignment, prob_nondetect, res_alloc = CE_parallel(Φ,UTensor[:,:,τ],W)\n",
    "prob_nondetect_Tensor[:,:,τ] = prob_nondetect\n",
    "actual = sum(UTensor_actual[:,:,τ] .* prob_nondetect_Tensor[:,:,τ])\n",
    "print(actual,\"\\n\")\n",
    "print(obj,\"\\n\")\n",
    "print(actual / obj)"
   ]
  },
  {
   "cell_type": "code",
   "execution_count": null,
   "metadata": {},
   "outputs": [],
   "source": [
    "τ = 4\n",
    "UTensor[:,:,τ] =  sum(sum(c2c_tensor_init .* \n",
    "                        reshape(prob_nondetect_Tensor[:,:,τ-1],Ncell,Z,1,1) .* \n",
    "                        reshape(UTensor[:,:,τ-1],Ncell,Z,1,1),1),2)\n",
    "UTensor_actual[:,:,τ] =  sum(sum(c2c_tensor_true .* \n",
    "                        reshape(prob_nondetect_Tensor[:,:,τ-1],Ncell,Z,1,1) .* \n",
    "                        reshape(UTensor_actual[:,:,τ-1],Ncell,Z,1,1),1),2)\n",
    "obj, assignment, prob_nondetect, res_alloc = CE_parallel(Φ,UTensor[:,:,τ],W)\n",
    "prob_nondetect_Tensor[:,:,τ] = prob_nondetect\n",
    "actual = sum(UTensor_actual[:,:,τ] .* prob_nondetect_Tensor[:,:,τ])\n",
    "print(actual,\"\\n\")\n",
    "print(obj,\"\\n\")\n",
    "print(actual / obj)"
   ]
  },
  {
   "cell_type": "code",
   "execution_count": null,
   "metadata": {},
   "outputs": [],
   "source": [
    "τ = 5\n",
    "UTensor[:,:,τ] =  sum(sum(c2c_tensor_init .* \n",
    "                        reshape(prob_nondetect_Tensor[:,:,τ-1],Ncell,Z,1,1) .* \n",
    "                        reshape(UTensor[:,:,τ-1],Ncell,Z,1,1),1),2)\n",
    "UTensor_actual[:,:,τ] =  sum(sum(c2c_tensor_true .* \n",
    "                        reshape(prob_nondetect_Tensor[:,:,τ-1],Ncell,Z,1,1) .* \n",
    "                        reshape(UTensor_actual[:,:,τ-1],Ncell,Z,1,1),1),2)\n",
    "obj, assignment, prob_nondetect, res_alloc = CE_parallel(Φ,UTensor[:,:,τ],W)\n",
    "prob_nondetect_Tensor[:,:,τ] = prob_nondetect\n",
    "actual = sum(UTensor_actual[:,:,τ] .* prob_nondetect_Tensor[:,:,τ])\n",
    "print(actual,\"\\n\")\n",
    "print(obj,\"\\n\")\n",
    "print(actual / obj)"
   ]
  },
  {
   "cell_type": "code",
   "execution_count": null,
   "metadata": {},
   "outputs": [],
   "source": [
    "τ = 6\n",
    "UTensor[:,:,τ] =  sum(sum(c2c_tensor_init .* \n",
    "                        reshape(prob_nondetect_Tensor[:,:,τ-1],Ncell,Z,1,1) .* \n",
    "                        reshape(UTensor[:,:,τ-1],Ncell,Z,1,1),1),2)\n",
    "UTensor_actual[:,:,τ] =  sum(sum(c2c_tensor_true .* \n",
    "                        reshape(prob_nondetect_Tensor[:,:,τ-1],Ncell,Z,1,1) .* \n",
    "                        reshape(UTensor_actual[:,:,τ-1],Ncell,Z,1,1),1),2)\n",
    "obj, assignment, prob_nondetect, res_alloc = CE_parallel(Φ,UTensor[:,:,τ],W)\n",
    "prob_nondetect_Tensor[:,:,τ] = prob_nondetect\n",
    "actual = sum(UTensor_actual[:,:,τ] .* prob_nondetect_Tensor[:,:,τ])\n",
    "print(actual,\"\\n\")\n",
    "print(obj,\"\\n\")\n",
    "print(actual / obj)"
   ]
  },
  {
   "cell_type": "code",
   "execution_count": null,
   "metadata": {},
   "outputs": [],
   "source": [
    "τ = 7\n",
    "UTensor[:,:,τ] =  sum(sum(c2c_tensor_init .* \n",
    "                        reshape(prob_nondetect_Tensor[:,:,τ-1],Ncell,Z,1,1) .* \n",
    "                        reshape(UTensor[:,:,τ-1],Ncell,Z,1,1),1),2)\n",
    "UTensor_actual[:,:,τ] =  sum(sum(c2c_tensor_true .* \n",
    "                        reshape(prob_nondetect_Tensor[:,:,τ-1],Ncell,Z,1,1) .* \n",
    "                        reshape(UTensor_actual[:,:,τ-1],Ncell,Z,1,1),1),2)\n",
    "obj, assignment, prob_nondetect, res_alloc = CE_parallel(Φ,UTensor[:,:,τ],W)\n",
    "prob_nondetect_Tensor[:,:,τ] = prob_nondetect\n",
    "actual = sum(UTensor_actual[:,:,τ] .* prob_nondetect_Tensor[:,:,τ])\n",
    "print(actual,\"\\n\")\n",
    "print(obj,\"\\n\")\n",
    "print(actual / obj)"
   ]
  },
  {
   "cell_type": "code",
   "execution_count": null,
   "metadata": {},
   "outputs": [],
   "source": [
    "τ = 8\n",
    "UTensor[:,:,τ] =  sum(sum(c2c_tensor_init .* \n",
    "                        reshape(prob_nondetect_Tensor[:,:,τ-1],Ncell,Z,1,1) .* \n",
    "                        reshape(UTensor[:,:,τ-1],Ncell,Z,1,1),1),2)\n",
    "UTensor_actual[:,:,τ] =  sum(sum(c2c_tensor_true .* \n",
    "                        reshape(prob_nondetect_Tensor[:,:,τ-1],Ncell,Z,1,1) .* \n",
    "                        reshape(UTensor_actual[:,:,τ-1],Ncell,Z,1,1),1),2)\n",
    "obj, assignment, prob_nondetect, res_alloc = CE_parallel(Φ,UTensor[:,:,τ],W)\n",
    "prob_nondetect_Tensor[:,:,τ] = prob_nondetect\n",
    "actual = sum(UTensor_actual[:,:,τ] .* prob_nondetect_Tensor[:,:,τ])\n",
    "print(actual,\"\\n\")\n",
    "print(obj,\"\\n\")\n",
    "print(actual / obj)"
   ]
  },
  {
   "cell_type": "code",
   "execution_count": null,
   "metadata": {},
   "outputs": [],
   "source": [
    "τ = 9\n",
    "UTensor[:,:,τ] =  sum(sum(c2c_tensor_init .* \n",
    "                        reshape(prob_nondetect_Tensor[:,:,τ-1],Ncell,Z,1,1) .* \n",
    "                        reshape(UTensor[:,:,τ-1],Ncell,Z,1,1),1),2)\n",
    "UTensor_actual[:,:,τ] =  sum(sum(c2c_tensor_true .* \n",
    "                        reshape(prob_nondetect_Tensor[:,:,τ-1],Ncell,Z,1,1) .* \n",
    "                        reshape(UTensor_actual[:,:,τ-1],Ncell,Z,1,1),1),2)\n",
    "obj, assignment, prob_nondetect, res_alloc = CE_parallel(Φ,UTensor[:,:,τ],W)\n",
    "prob_nondetect_Tensor[:,:,τ] = prob_nondetect\n",
    "actual = sum(UTensor_actual[:,:,τ] .* prob_nondetect_Tensor[:,:,τ])\n",
    "print(actual,\"\\n\")\n",
    "print(obj,\"\\n\")\n",
    "print(actual / obj)"
   ]
  },
  {
   "cell_type": "code",
   "execution_count": null,
   "metadata": {},
   "outputs": [],
   "source": []
  },
  {
   "cell_type": "code",
   "execution_count": null,
   "metadata": {},
   "outputs": [],
   "source": []
  },
  {
   "cell_type": "code",
   "execution_count": null,
   "metadata": {},
   "outputs": [],
   "source": []
  },
  {
   "cell_type": "code",
   "execution_count": null,
   "metadata": {},
   "outputs": [],
   "source": []
  },
  {
   "cell_type": "code",
   "execution_count": null,
   "metadata": {},
   "outputs": [],
   "source": []
  },
  {
   "cell_type": "code",
   "execution_count": null,
   "metadata": {},
   "outputs": [],
   "source": []
  },
  {
   "cell_type": "code",
   "execution_count": null,
   "metadata": {},
   "outputs": [],
   "source": []
  },
  {
   "cell_type": "code",
   "execution_count": null,
   "metadata": {},
   "outputs": [],
   "source": [
    "# Currently only support myopic, total_iteration = 1.\n",
    "# Eg. when I plan for T = 2, I use the non-detection at T = 1 based on actual movement distribution, \n",
    "# rather than the fictious non-detection based on my guessed movement distribution\n",
    "\n",
    "function mov_target_CE_adaptive(prior,W,c2c_tensor_true,c2c_tensor_init)\n",
    "    DTensor = ones(Ncell,Z,T)\n",
    "    moving_target_obj_vec = zeros(Total_Iter,T)\n",
    "    prob_nondetect_Tensor = zeros(Ncell,Z,T)\n",
    "    final_assignment = zeros(S,Z,T)\n",
    "    final_res_alloc = zeros(Ncell,Z,S,T)\n",
    "    \n",
    "    \n",
    "    for i = 1:Total_Iter\n",
    "        # Initialize UTensor\n",
    "        UTensor = zeros(Ncell,Z,T)\n",
    "        UTensor[:,:,1] =  prior\n",
    "        \n",
    "        UTensor_actual = zeros(Ncell,Z,T)\n",
    "        UTensor_actual[:,:,1] =  prior\n",
    "\n",
    "\n",
    "        for τ = 1:4\n",
    "            if τ > 1\n",
    "                UTensor[:,:,τ] = sum(sum(c2c_tensor_init .* \n",
    "                        reshape(prob_nondetect_Tensor[:,:,τ-1],Ncell,Z,1,1) .* \n",
    "                        reshape(UTensor[:,:,τ-1],Ncell,Z,1,1),1),2)\n",
    "                UTensor_actual[:,:,τ] = sum(sum(c2c_tensor_true .* \n",
    "                        reshape(prob_nondetect_Tensor[:,:,τ-1],Ncell,Z,1,1) .* \n",
    "                        reshape(UTensor_actual[:,:,τ-1],Ncell,Z,1,1),1),2)\n",
    "            end\n",
    "            β = UTensor[:,:,τ] .* DTensor[:,:,τ]\n",
    "            obj, assignment, prob_nondetect, res_alloc = CE_parallel(Φ,β,W)\n",
    "            final_assignment[:,:,τ] = assignment\n",
    "            final_res_alloc[:,:,:,τ] = res_alloc\n",
    "            \n",
    "            # Instead of using prob_nondetect, calculated with the guessed movement distribution, \n",
    "            # using actual outcome calculated with true movement distribution\n",
    "            # \n",
    "            prob_nondetect_Tensor[:,:,τ] = prob_nondetect\n",
    "#             prob_nondetect_Tensor[:,:,τ] = exp.(squeeze(-sum(W .* res_alloc .* reshape(assignment,1,Z,S),3),3))\n",
    "            \n",
    "            \n",
    "            moving_target_obj_vec[i,τ] = obj\n",
    "            print(\"Iter: \",i,\". Completed timestep: \",τ,\". Obj: \",obj,\"\\n\")\n",
    "        end\n",
    "\n",
    "        # Compute the DTensors using the nondetection probabilities at each timestep as calculated\n",
    "        # in the previous iteration\n",
    "        for τ = T-1:-1:1\n",
    "            DTensor[:,:,τ] = sum(sum(c2c_tensor .* \n",
    "                    reshape(prob_nondetect_Tensor[:,:,τ+1],1,1,Ncell,Z) .* \n",
    "                    reshape(DTensor[:,:,τ+1],1,1,Ncell,Z),3),4)\n",
    "        end\n",
    "    end\n",
    "    \n",
    "    return moving_target_obj_vec, prob_nondetect_Tensor, final_assignment, final_res_alloc\n",
    "\n",
    "end\n"
   ]
  },
  {
   "cell_type": "code",
   "execution_count": null,
   "metadata": {},
   "outputs": [],
   "source": [
    "# ADAPTIVE: When you DO NOT have the true moving probability and we assume uniform moving probability\n",
    "tic()\n",
    "\n",
    "moving_target_obj_vec, prob_nondetect_Tensor, final_assignment, final_res_alloc = mov_target_CE_adaptive(prior,W,c2c_tensor_true,c2c_tensor_init)\n",
    "nondetection_no_movement = compute_non_detection(prior, W, c2c_tensor_true,final_assignment, final_res_alloc)\n",
    "print(nondetection_no_movement,\"\\n\")\n",
    "\n",
    "\n",
    "toc()"
   ]
  },
  {
   "cell_type": "code",
   "execution_count": null,
   "metadata": {},
   "outputs": [],
   "source": []
  },
  {
   "cell_type": "code",
   "execution_count": null,
   "metadata": {},
   "outputs": [],
   "source": []
  },
  {
   "cell_type": "code",
   "execution_count": null,
   "metadata": {},
   "outputs": [],
   "source": []
  },
  {
   "cell_type": "code",
   "execution_count": null,
   "metadata": {},
   "outputs": [],
   "source": []
  },
  {
   "cell_type": "code",
   "execution_count": null,
   "metadata": {},
   "outputs": [],
   "source": []
  },
  {
   "cell_type": "code",
   "execution_count": null,
   "metadata": {},
   "outputs": [],
   "source": []
  },
  {
   "cell_type": "code",
   "execution_count": null,
   "metadata": {},
   "outputs": [],
   "source": []
  },
  {
   "cell_type": "code",
   "execution_count": null,
   "metadata": {},
   "outputs": [],
   "source": [
    "# No prior Moving\n",
    "\n",
    "num_trials = 1\n",
    "T = 4\n",
    "Total_Iter = 1\n",
    "new_prior = ones(N,Z) .* 1/(N*Z)\n",
    "nondetection_no_prior_moving = zeros(num_trials)\n",
    "Φ = 5\n",
    "tic()\n",
    "for i=1:num_trials\n",
    "    tic()\n",
    "    moving_target_obj_vec, prob_nondetect_Tensor, final_assignment, final_res_alloc = mov_target_CE(new_prior,W,c2c_tensor)\n",
    "    nondetection_no_prior_moving[i] = compute_non_detection(prior, W, c2c_tensor,final_assignment, final_res_alloc)\n",
    "    toc()\n",
    "end\n",
    "toc()\n",
    "summarystats(nondetection_no_prior_moving)"
   ]
  },
  {
   "cell_type": "code",
   "execution_count": null,
   "metadata": {},
   "outputs": [],
   "source": []
  },
  {
   "cell_type": "code",
   "execution_count": null,
   "metadata": {},
   "outputs": [],
   "source": []
  },
  {
   "cell_type": "code",
   "execution_count": null,
   "metadata": {},
   "outputs": [],
   "source": [
    "moving_mat_no= [1/9 1/9 1/9;\n",
    "                 1/9 1/9 1/9;\n",
    "                 1/9 1/9 1/9]\n",
    "c2c_tensor_no = build_c2c_tensor(moving_mat_no)\n",
    "sum(moving_mat_no)\n",
    "\n"
   ]
  },
  {
   "cell_type": "code",
   "execution_count": null,
   "metadata": {},
   "outputs": [],
   "source": []
  },
  {
   "cell_type": "code",
   "execution_count": null,
   "metadata": {},
   "outputs": [],
   "source": [
    "# moving_target_obj_vec, prob_nondetect_Tensor, final_assignment, final_res_alloc = mov_target_CE(prior,W,c2c_tensor_no)\n",
    "# compute_non_detection(prior, W, c2c_tensor,final_assignment, final_res_alloc)\n",
    "\n"
   ]
  },
  {
   "cell_type": "code",
   "execution_count": null,
   "metadata": {},
   "outputs": [],
   "source": []
  },
  {
   "cell_type": "code",
   "execution_count": null,
   "metadata": {},
   "outputs": [],
   "source": [
    "# No moving assumption \n",
    "\n",
    "tic()\n",
    "T = 4\n",
    "Total_Iter = 2\n",
    "num_trials = 50\n",
    "nondetection_no_movement_moving = zeros(num_trials)\n",
    "Φ = 5\n",
    "for i=1:num_trials\n",
    "    tic()\n",
    "    moving_target_obj_vec, prob_nondetect_Tensor, final_assignment, final_res_alloc = mov_target_CE(prior,W,c2c_tensor_no)\n",
    "    nondetection_no_movement_moving[i] = compute_non_detection(prior, W, c2c_tensor,final_assignment, final_res_alloc)\n",
    "    toc()\n",
    "end\n",
    "toc()\n",
    "summarystats(nondetection_no_movement_moving)"
   ]
  },
  {
   "cell_type": "code",
   "execution_count": null,
   "metadata": {},
   "outputs": [],
   "source": []
  },
  {
   "cell_type": "code",
   "execution_count": null,
   "metadata": {},
   "outputs": [],
   "source": []
  },
  {
   "cell_type": "code",
   "execution_count": null,
   "metadata": {},
   "outputs": [],
   "source": []
  },
  {
   "cell_type": "code",
   "execution_count": null,
   "metadata": {},
   "outputs": [],
   "source": []
  },
  {
   "cell_type": "code",
   "execution_count": null,
   "metadata": {},
   "outputs": [],
   "source": []
  },
  {
   "cell_type": "code",
   "execution_count": null,
   "metadata": {},
   "outputs": [],
   "source": []
  },
  {
   "cell_type": "code",
   "execution_count": null,
   "metadata": {},
   "outputs": [],
   "source": []
  },
  {
   "cell_type": "code",
   "execution_count": null,
   "metadata": {},
   "outputs": [],
   "source": []
  }
 ],
 "metadata": {
  "anaconda-cloud": {},
  "kernelspec": {
   "display_name": "Julia 0.6.0",
   "language": "julia",
   "name": "julia-0.6"
  },
  "language_info": {
   "file_extension": ".jl",
   "mimetype": "application/julia",
   "name": "julia",
   "version": "0.6.0"
  }
 },
 "nbformat": 4,
 "nbformat_minor": 2
}
